{
 "cells": [
  {
   "cell_type": "code",
   "execution_count": 1,
   "id": "da1d9998",
   "metadata": {},
   "outputs": [],
   "source": [
    "mylist = [-1,3,5,9,10,-43]\n",
    "def abs_min(mylist):\n",
    "    x = abs(mylist[0])\n",
    "    for i in mylist:\n",
    "        if abs(i)<x:\n",
    "            x=abs(i)\n",
    "    return x"
   ]
  },
  {
   "cell_type": "code",
   "execution_count": 2,
   "id": "ed63497c",
   "metadata": {},
   "outputs": [
    {
     "data": {
      "text/plain": [
       "1"
      ]
     },
     "execution_count": 2,
     "metadata": {},
     "output_type": "execute_result"
    }
   ],
   "source": [
    "abs_min([-1,3,5,9,10,-43])"
   ]
  },
  {
   "cell_type": "code",
   "execution_count": 3,
   "id": "1d0c5807",
   "metadata": {},
   "outputs": [],
   "source": [
    "t = [-1,3,5,9,10,-43]\n",
    "def abs_max(t):\n",
    "    x = abs(t[0])\n",
    "    for i in t:\n",
    "        if abs(i)>x:\n",
    "            x=abs(i)\n",
    "    return x"
   ]
  },
  {
   "cell_type": "code",
   "execution_count": 4,
   "id": "4cd83589",
   "metadata": {},
   "outputs": [
    {
     "data": {
      "text/plain": [
       "43"
      ]
     },
     "execution_count": 4,
     "metadata": {},
     "output_type": "execute_result"
    }
   ],
   "source": [
    "abs_max([-1,3,5,9,10,-43])"
   ]
  },
  {
   "cell_type": "code",
   "execution_count": 9,
   "id": "78fec0a2",
   "metadata": {},
   "outputs": [
    {
     "data": {
      "text/plain": [
       "4"
      ]
     },
     "execution_count": 9,
     "metadata": {},
     "output_type": "execute_result"
    }
   ],
   "source": [
    "set[1, 2, 3, 4, 5, 6]\n",
    "import random\n",
    "random.choice([1, 2, 3, 4, 5, 6])"
   ]
  },
  {
   "cell_type": "code",
   "execution_count": 10,
   "id": "18134a6d",
   "metadata": {},
   "outputs": [
    {
     "name": "stdout",
     "output_type": "stream",
     "text": [
      "Die roll: 3\n",
      "Die roll: 2\n",
      "Die roll: 3\n",
      "Die roll: 4\n",
      "Die roll: 3\n",
      "Die roll: 4\n",
      "Die roll: 5\n",
      "Die roll: 4\n",
      "Die roll: 2\n",
      "Die roll: 2\n"
     ]
    }
   ],
   "source": [
    "import random\n",
    "\n",
    "def roll_die():\n",
    "    return random.choice([1, 2, 3, 4, 5, 6])\n",
    "\n",
    "# Simulate rolling the die 10 times\n",
    "for _ in range(10):\n",
    "    result = roll_die()\n",
    "    print(f\"Die roll: {result}\")\n"
   ]
  },
  {
   "cell_type": "code",
   "execution_count": 11,
   "id": "c41e7183",
   "metadata": {},
   "outputs": [
    {
     "name": "stdout",
     "output_type": "stream",
     "text": [
      "[2, 5, 3, 5, 2, 5, 1, 3, 3, 3]\n"
     ]
    }
   ],
   "source": [
    "import random\n",
    "\n",
    "nt = 10\n",
    "results = [random.choice([1, 2, 3, 4, 5, 6]) for _ in range(nt)]\n",
    "\n",
    "print(results)"
   ]
  },
  {
   "cell_type": "code",
   "execution_count": 19,
   "id": "cb2c1c6f",
   "metadata": {},
   "outputs": [
    {
     "ename": "ModuleNotFoundError",
     "evalue": "No module named 'scipy'",
     "output_type": "error",
     "traceback": [
      "\u001b[0;31m---------------------------------------------------------------------------\u001b[0m",
      "\u001b[0;31mModuleNotFoundError\u001b[0m                       Traceback (most recent call last)",
      "Cell \u001b[0;32mIn [19], line 1\u001b[0m\n\u001b[0;32m----> 1\u001b[0m \u001b[38;5;28;01mimport\u001b[39;00m \u001b[38;5;21;01mscipy\u001b[39;00m\u001b[38;5;21;01m.\u001b[39;00m\u001b[38;5;21;01mstats\u001b[39;00m \u001b[38;5;28;01mas\u001b[39;00m \u001b[38;5;21;01mstats\u001b[39;00m\n\u001b[1;32m      3\u001b[0m n \u001b[38;5;241m=\u001b[39m \u001b[38;5;241m100\u001b[39m\n\u001b[1;32m      4\u001b[0m p \u001b[38;5;241m=\u001b[39m \u001b[38;5;241m0.8\u001b[39m\n",
      "\u001b[0;31mModuleNotFoundError\u001b[0m: No module named 'scipy'"
     ]
    }
   ],
   "source": [
    "import scipy.stats as stats\n",
    "\n",
    "n = 100\n",
    "p = 0.8\n",
    "k = 91  # We want the probability of 91 or more showing up\n",
    "\n",
    "# Using the Binomial CDF, we calculate the probability of 90 or fewer showing up\n",
    "prob_90_or_less = stats.binom.cdf(k - 1, n, p)\n",
    "\n",
    "# The probability of overbooking is 1 minus the probability of 90 or fewer showing up\n",
    "prob_overbooking = 1 - prob_90_or_less\n",
    "\n",
    "print(\"Probability of overbooking:\", prob_overbooking)\n"
   ]
  },
  {
   "cell_type": "code",
   "execution_count": null,
   "id": "e02dbc7f",
   "metadata": {},
   "outputs": [],
   "source": []
  }
 ],
 "metadata": {
  "kernelspec": {
   "display_name": "Python 3 (ipykernel)",
   "language": "python",
   "name": "python3"
  },
  "language_info": {
   "codemirror_mode": {
    "name": "ipython",
    "version": 3
   },
   "file_extension": ".py",
   "mimetype": "text/x-python",
   "name": "python",
   "nbconvert_exporter": "python",
   "pygments_lexer": "ipython3",
   "version": "3.11.2"
  }
 },
 "nbformat": 4,
 "nbformat_minor": 5
}
