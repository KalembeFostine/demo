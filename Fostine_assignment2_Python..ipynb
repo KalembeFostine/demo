{
 "cells": [
  {
   "cell_type": "markdown",
   "id": "d38c078d",
   "metadata": {},
   "source": [
    "KALEMBE FOSTINE"
   ]
  },
  {
   "cell_type": "markdown",
   "id": "e0a091f5-baae-44fb-a6da-99bdefb454ba",
   "metadata": {},
   "source": [
    "In this question, we want to construct the piecewise function\n",
    "$$ f(x) = \\begin{cases}\n",
    "x^2 & x < 0 \\\\\n",
    "\\sin^2(x)& \\text{otherwise}\n",
    "\\end{cases}$$\n",
    "In the next cell, you will be provided with the variable $x_1,$ create the corresponding list $y_1$ that is the result of applying $f$ to the elements of $x_1$"
   ]
  },
  {
   "cell_type": "code",
   "execution_count": 2,
   "id": "efa8d4e7-4b9c-4561-9215-0a8b49f5e242",
   "metadata": {},
   "outputs": [
    {
     "name": "stdout",
     "output_type": "stream",
     "text": [
      "[-1.0, -0.9, -0.8, -0.7, -0.6, -0.5, -0.4, -0.3, -0.2, -0.1, 0.0, 0.1, 0.2, 0.3, 0.4, 0.5, 0.6, 0.7, 0.8, 0.9, 1.0]\n"
     ]
    }
   ],
   "source": [
    "x1 = []\n",
    "a = -1\n",
    "h = 0.1\n",
    "d = 0\n",
    "while d < 21:\n",
    "    x1.append(round(a + d * h,1))\n",
    "    d += 1\n",
    "print(x1) "
   ]
  },
  {
   "cell_type": "code",
   "execution_count": 3,
   "id": "c41bb975",
   "metadata": {},
   "outputs": [],
   "source": [
    "y1=[]\n",
    "from math import sin\n",
    "y1=[x**2 if x<0 else ((sin(x))**2) for x in x1]"
   ]
  },
  {
   "cell_type": "code",
   "execution_count": 4,
   "id": "fd26d624",
   "metadata": {},
   "outputs": [
    {
     "name": "stdout",
     "output_type": "stream",
     "text": [
      "[1.0, 0.81, 0.6400000000000001, 0.48999999999999994, 0.36, 0.25, 0.16000000000000003, 0.09, 0.04000000000000001, 0.010000000000000002, 0.0, 0.009966711079379185, 0.039469502998557456, 0.08733219254516084, 0.1516466453264173, 0.22984884706593015, 0.31882112276166324, 0.41501642854987947, 0.5145997611506444, 0.6136010473465435, 0.7080734182735712]\n"
     ]
    }
   ],
   "source": [
    "print(y1)"
   ]
  },
  {
   "cell_type": "markdown",
   "id": "e5e6a45c-f148-40be-a034-87d67480461f",
   "metadata": {},
   "source": [
    "In the next cell, you will be provided with a list of integers stored in the variable $a,$ return a sublist of the original list with only the elements in $a$ that are divisible by 3. Assign your result to the variable a_ans"
   ]
  },
  {
   "cell_type": "code",
   "execution_count": 5,
   "id": "b8152f87-fa95-4d35-bf37-7e84aac5a8ba",
   "metadata": {},
   "outputs": [
    {
     "data": {
      "text/plain": [
       "[6, 9, 21, 15]"
      ]
     },
     "execution_count": 5,
     "metadata": {},
     "output_type": "execute_result"
    }
   ],
   "source": [
    "a = [2,5,6,9,4,21,15,19,17,8]\n",
    "a_ans=[i for i in a if i % 3==0]\n",
    "a_ans"
   ]
  },
  {
   "cell_type": "markdown",
   "id": "47ab4622-e7e4-4b30-9276-644a072dfa17",
   "metadata": {},
   "source": [
    "In the next cell, you will be provided with a list of integers stored in the variable $b$, return a sublist of the original list with only the elements in $b$ that are divisible by 3 but not divisible by 2. Assign your result to the variable b_ans"
   ]
  },
  {
   "cell_type": "code",
   "execution_count": 6,
   "id": "23e0e014-eefd-4321-8362-b10bf7f1ad86",
   "metadata": {},
   "outputs": [
    {
     "data": {
      "text/plain": [
       "[9, 15, 21]"
      ]
     },
     "execution_count": 6,
     "metadata": {},
     "output_type": "execute_result"
    }
   ],
   "source": [
    "b = [2,5,6,8,9,12,13,15,18,7,21,24]\n",
    "b_ans=[k for k in b if k%3==0 and k%2!=0]\n",
    "b_ans"
   ]
  },
  {
   "cell_type": "markdown",
   "id": "acb71ebc-ac8f-42e7-81c9-763f8cca5850",
   "metadata": {},
   "source": [
    "In the next cell, you will be given a list of numbers saved as the variable `d`. Write python code to calculate the mean of the elements in the list and assign to the variable `d_mean`."
   ]
  },
  {
   "cell_type": "code",
   "execution_count": 7,
   "id": "b08b08ad-b1dd-498d-98db-bb8c295275f1",
   "metadata": {},
   "outputs": [
    {
     "data": {
      "text/plain": [
       "5.1"
      ]
     },
     "execution_count": 7,
     "metadata": {},
     "output_type": "execute_result"
    }
   ],
   "source": [
    "d = [1,2,7,4,11,5,2,6,12,1]\n",
    "def d_mean(u):\n",
    "    z=sum(u)/len(d)\n",
    "    return z\n",
    "d_mean(d)"
   ]
  },
  {
   "cell_type": "markdown",
   "id": "c68206ab-e333-41d5-80ba-8e7072296b45",
   "metadata": {},
   "source": [
    "In the next cell, you will be given a list of integers stored in the variable `e`. You will create a new list from `e` using the following rules:\n",
    "1. The first element in the new list is the sum of the first and last elements in `e`.\n",
    "2. The second element in the new list is the sum of the second element and the second from last element from `e`.\n",
    "3. The third element in the new list is the sum of the third element in `e` and the third element from the last.\n",
    "\n",
    "This if the list has the elements $a_1,a_2,a_3,a_4,\\ldots,a_{n-4},a_{n-3},a_{n-2},a_{n-1},a_n,$ the new list will have the elements \n",
    "$$\\left(a_1+a_n\\right),\\left(a_2+a_{n-1}\\right),\\left(a_3+a_{n-2}\\right),\\left(a_4+a_{n-3}\\right),\\ldots.$$ Create the new list from `e` and call it `e_fold`."
   ]
  },
  {
   "cell_type": "code",
   "execution_count": 8,
   "id": "26947e32-3aa3-41f2-9fc0-ae35d6d5758d",
   "metadata": {},
   "outputs": [
    {
     "data": {
      "text/plain": [
       "[2, 14, 13, 6, 16]"
      ]
     },
     "execution_count": 8,
     "metadata": {},
     "output_type": "execute_result"
    }
   ],
   "source": [
    "e = [1,2,7,4,11,5,2,6,12,1]\n",
    "k=0\n",
    "e_fold=[]\n",
    "while 0<=k<len(e)/2:\n",
    "    p=(e[k]+e[-k-1])\n",
    "    e_fold.append(p)\n",
    "    k+=1\n",
    "e_fold"
   ]
  },
  {
   "cell_type": "markdown",
   "id": "1f285967-b21a-4a1f-803c-e7a2a789f89c",
   "metadata": {},
   "source": [
    "In the next cell, you have a sorted list of numbers stored as the variable `f`, write python code to calculate the median of the numbers. Save your result as `f_med`"
   ]
  },
  {
   "cell_type": "code",
   "execution_count": 62,
   "id": "c861620b-bd8d-4016-90ab-c230d7ea468c",
   "metadata": {},
   "outputs": [
    {
     "data": {
      "text/plain": [
       "11.0"
      ]
     },
     "execution_count": 62,
     "metadata": {},
     "output_type": "execute_result"
    }
   ],
   "source": [
    "f = [1,2,3,3,6,8,9,13,14,17,21,30,31,40]\n",
    "\n",
    "def f_med(f):\n",
    "    n=len(f)\n",
    "    if n % 2==0:\n",
    "        f_med=((f[n//2-1]+f[n//2])/2)\n",
    "    else:\n",
    "         f_med=(f[n//2])\n",
    "    return f_med\n",
    "f_med([1,2,3,3,6,8,9,13,14,17,21,30,31,40])"
   ]
  }
 ],
 "metadata": {
  "kernelspec": {
   "display_name": "Python 3 (ipykernel)",
   "language": "python",
   "name": "python3"
  },
  "language_info": {
   "codemirror_mode": {
    "name": "ipython",
    "version": 3
   },
   "file_extension": ".py",
   "mimetype": "text/x-python",
   "name": "python",
   "nbconvert_exporter": "python",
   "pygments_lexer": "ipython3",
   "version": "3.11.2"
  }
 },
 "nbformat": 4,
 "nbformat_minor": 5
}
