{
 "cells": [
  {
   "cell_type": "code",
   "execution_count": 1,
   "id": "29a5d31e",
   "metadata": {},
   "outputs": [],
   "source": [
    "a=3+4j"
   ]
  },
  {
   "cell_type": "code",
   "execution_count": 2,
   "id": "f4cbecb4",
   "metadata": {},
   "outputs": [
    {
     "data": {
      "text/plain": [
       "complex"
      ]
     },
     "execution_count": 2,
     "metadata": {},
     "output_type": "execute_result"
    }
   ],
   "source": [
    "type(a)"
   ]
  },
  {
   "cell_type": "code",
   "execution_count": 3,
   "id": "df1d35fa",
   "metadata": {},
   "outputs": [
    {
     "data": {
      "text/plain": [
       "3.0"
      ]
     },
     "execution_count": 3,
     "metadata": {},
     "output_type": "execute_result"
    }
   ],
   "source": [
    "a.real"
   ]
  },
  {
   "cell_type": "code",
   "execution_count": 4,
   "id": "5dd7cdc7",
   "metadata": {},
   "outputs": [
    {
     "data": {
      "text/plain": [
       "4.0"
      ]
     },
     "execution_count": 4,
     "metadata": {},
     "output_type": "execute_result"
    }
   ],
   "source": [
    "a.imag"
   ]
  },
  {
   "cell_type": "code",
   "execution_count": 5,
   "id": "4aabfa73",
   "metadata": {},
   "outputs": [],
   "source": [
    "b=[2,3]"
   ]
  },
  {
   "cell_type": "code",
   "execution_count": 6,
   "id": "3b7b01c3",
   "metadata": {},
   "outputs": [],
   "source": [
    "b.append([4,5])"
   ]
  },
  {
   "cell_type": "code",
   "execution_count": 7,
   "id": "c53e568d",
   "metadata": {},
   "outputs": [
    {
     "data": {
      "text/plain": [
       "[2, 3, [4, 5]]"
      ]
     },
     "execution_count": 7,
     "metadata": {},
     "output_type": "execute_result"
    }
   ],
   "source": [
    "b"
   ]
  },
  {
   "cell_type": "code",
   "execution_count": 8,
   "id": "607e924c",
   "metadata": {},
   "outputs": [],
   "source": [
    "del b[-1]"
   ]
  },
  {
   "cell_type": "code",
   "execution_count": 9,
   "id": "1f0dbf8e",
   "metadata": {},
   "outputs": [
    {
     "data": {
      "text/plain": [
       "[2, 3]"
      ]
     },
     "execution_count": 9,
     "metadata": {},
     "output_type": "execute_result"
    }
   ],
   "source": [
    "b"
   ]
  },
  {
   "cell_type": "code",
   "execution_count": 10,
   "id": "100bae69",
   "metadata": {},
   "outputs": [],
   "source": [
    "b.extend([4,5,6])"
   ]
  },
  {
   "cell_type": "code",
   "execution_count": 11,
   "id": "335a5059",
   "metadata": {},
   "outputs": [
    {
     "data": {
      "text/plain": [
       "[2, 3, 4, 5, 6]"
      ]
     },
     "execution_count": 11,
     "metadata": {},
     "output_type": "execute_result"
    }
   ],
   "source": [
    "b"
   ]
  },
  {
   "cell_type": "code",
   "execution_count": 12,
   "id": "0882b9b7",
   "metadata": {},
   "outputs": [],
   "source": [
    "#to delete in index 2\n",
    "del b[2]"
   ]
  },
  {
   "cell_type": "code",
   "execution_count": 13,
   "id": "62eaaff4",
   "metadata": {},
   "outputs": [
    {
     "data": {
      "text/plain": [
       "[2, 3, 5, 6]"
      ]
     },
     "execution_count": 13,
     "metadata": {},
     "output_type": "execute_result"
    }
   ],
   "source": [
    "b"
   ]
  },
  {
   "cell_type": "code",
   "execution_count": 14,
   "id": "9c373625",
   "metadata": {},
   "outputs": [],
   "source": [
    "b.insert(3,1)"
   ]
  },
  {
   "cell_type": "code",
   "execution_count": 15,
   "id": "5f5ecf45",
   "metadata": {},
   "outputs": [
    {
     "data": {
      "text/plain": [
       "[2, 3, 5, 1, 6]"
      ]
     },
     "execution_count": 15,
     "metadata": {},
     "output_type": "execute_result"
    }
   ],
   "source": [
    "b"
   ]
  },
  {
   "cell_type": "code",
   "execution_count": 16,
   "id": "ae6b731e",
   "metadata": {},
   "outputs": [],
   "source": [
    "a1 =[1,2,3,4,5,6,7,8]"
   ]
  },
  {
   "cell_type": "code",
   "execution_count": 17,
   "id": "8e6e7978",
   "metadata": {},
   "outputs": [],
   "source": [
    "b1 = a1"
   ]
  },
  {
   "cell_type": "code",
   "execution_count": 18,
   "id": "9b429e3a",
   "metadata": {},
   "outputs": [
    {
     "data": {
      "text/plain": [
       "[1, 2, 3, 4, 5, 6, 7, 8]"
      ]
     },
     "execution_count": 18,
     "metadata": {},
     "output_type": "execute_result"
    }
   ],
   "source": [
    "b1"
   ]
  },
  {
   "cell_type": "code",
   "execution_count": 19,
   "id": "24034922",
   "metadata": {},
   "outputs": [],
   "source": [
    "b1.append(3)"
   ]
  },
  {
   "cell_type": "code",
   "execution_count": 20,
   "id": "31989d0e",
   "metadata": {},
   "outputs": [
    {
     "data": {
      "text/plain": [
       "[1, 2, 3, 4, 5, 6, 7, 8, 3]"
      ]
     },
     "execution_count": 20,
     "metadata": {},
     "output_type": "execute_result"
    }
   ],
   "source": [
    "b1"
   ]
  },
  {
   "cell_type": "code",
   "execution_count": 21,
   "id": "e054d5eb",
   "metadata": {},
   "outputs": [
    {
     "data": {
      "text/plain": [
       "[1, 2, 3, 4, 5, 6, 7, 8, 3]"
      ]
     },
     "execution_count": 21,
     "metadata": {},
     "output_type": "execute_result"
    }
   ],
   "source": [
    "a1"
   ]
  },
  {
   "cell_type": "code",
   "execution_count": 22,
   "id": "ddd6deec",
   "metadata": {},
   "outputs": [
    {
     "data": {
      "text/plain": [
       "True"
      ]
     },
     "execution_count": 22,
     "metadata": {},
     "output_type": "execute_result"
    }
   ],
   "source": [
    "a1 == b1"
   ]
  },
  {
   "cell_type": "code",
   "execution_count": 23,
   "id": "b0f7cb5b",
   "metadata": {},
   "outputs": [
    {
     "data": {
      "text/plain": [
       "True"
      ]
     },
     "execution_count": 23,
     "metadata": {},
     "output_type": "execute_result"
    }
   ],
   "source": [
    "a1 is b1"
   ]
  },
  {
   "cell_type": "code",
   "execution_count": 24,
   "id": "8007dfc5",
   "metadata": {},
   "outputs": [],
   "source": [
    "c=a1.copy()"
   ]
  },
  {
   "cell_type": "code",
   "execution_count": 25,
   "id": "78aa8b4a",
   "metadata": {},
   "outputs": [
    {
     "data": {
      "text/plain": [
       "[1, 2, 3, 4, 5, 6, 7, 8, 3]"
      ]
     },
     "execution_count": 25,
     "metadata": {},
     "output_type": "execute_result"
    }
   ],
   "source": [
    "c"
   ]
  },
  {
   "cell_type": "code",
   "execution_count": 26,
   "id": "06b985a3",
   "metadata": {},
   "outputs": [
    {
     "data": {
      "text/plain": [
       "True"
      ]
     },
     "execution_count": 26,
     "metadata": {},
     "output_type": "execute_result"
    }
   ],
   "source": [
    "c==a1"
   ]
  },
  {
   "cell_type": "code",
   "execution_count": 27,
   "id": "801bc153",
   "metadata": {},
   "outputs": [
    {
     "data": {
      "text/plain": [
       "False"
      ]
     },
     "execution_count": 27,
     "metadata": {},
     "output_type": "execute_result"
    }
   ],
   "source": [
    "c is a "
   ]
  },
  {
   "cell_type": "code",
   "execution_count": 28,
   "id": "5df4a45e",
   "metadata": {},
   "outputs": [
    {
     "data": {
      "text/plain": [
       "True"
      ]
     },
     "execution_count": 28,
     "metadata": {},
     "output_type": "execute_result"
    }
   ],
   "source": [
    "c is c"
   ]
  },
  {
   "cell_type": "code",
   "execution_count": 29,
   "id": "d063a67b",
   "metadata": {},
   "outputs": [],
   "source": [
    "c.append(10)"
   ]
  },
  {
   "cell_type": "code",
   "execution_count": 30,
   "id": "3c127d6b",
   "metadata": {},
   "outputs": [
    {
     "data": {
      "text/plain": [
       "[1, 2, 3, 4, 5, 6, 7, 8, 3, 10]"
      ]
     },
     "execution_count": 30,
     "metadata": {},
     "output_type": "execute_result"
    }
   ],
   "source": [
    "c"
   ]
  },
  {
   "cell_type": "code",
   "execution_count": 31,
   "id": "2d84d8e6",
   "metadata": {},
   "outputs": [
    {
     "data": {
      "text/plain": [
       "[1, 2, 3, 4, 5, 6, 7, 8, 3]"
      ]
     },
     "execution_count": 31,
     "metadata": {},
     "output_type": "execute_result"
    }
   ],
   "source": [
    "a1"
   ]
  },
  {
   "cell_type": "code",
   "execution_count": 32,
   "id": "211e06ef",
   "metadata": {},
   "outputs": [],
   "source": [
    "d=a1[:]"
   ]
  },
  {
   "cell_type": "code",
   "execution_count": 33,
   "id": "a8e4971b",
   "metadata": {},
   "outputs": [
    {
     "data": {
      "text/plain": [
       "[1, 2, 3, 4, 5, 6, 7, 8, 3]"
      ]
     },
     "execution_count": 33,
     "metadata": {},
     "output_type": "execute_result"
    }
   ],
   "source": [
    "d"
   ]
  },
  {
   "cell_type": "code",
   "execution_count": 34,
   "id": "e5a3caec",
   "metadata": {},
   "outputs": [
    {
     "data": {
      "text/plain": [
       "False"
      ]
     },
     "execution_count": 34,
     "metadata": {},
     "output_type": "execute_result"
    }
   ],
   "source": [
    "d is a1"
   ]
  },
  {
   "cell_type": "code",
   "execution_count": 35,
   "id": "ffebcfa4",
   "metadata": {},
   "outputs": [
    {
     "data": {
      "text/plain": [
       "True"
      ]
     },
     "execution_count": 35,
     "metadata": {},
     "output_type": "execute_result"
    }
   ],
   "source": [
    "d==a1"
   ]
  },
  {
   "cell_type": "code",
   "execution_count": 36,
   "id": "d4d898fa",
   "metadata": {},
   "outputs": [],
   "source": [
    "d.append(11)"
   ]
  },
  {
   "cell_type": "code",
   "execution_count": 37,
   "id": "05b8b83c",
   "metadata": {},
   "outputs": [
    {
     "data": {
      "text/plain": [
       "[1, 2, 3, 4, 5, 6, 7, 8, 3, 11]"
      ]
     },
     "execution_count": 37,
     "metadata": {},
     "output_type": "execute_result"
    }
   ],
   "source": [
    "d"
   ]
  },
  {
   "cell_type": "code",
   "execution_count": 38,
   "id": "e8f5f3da",
   "metadata": {},
   "outputs": [
    {
     "data": {
      "text/plain": [
       "False"
      ]
     },
     "execution_count": 38,
     "metadata": {},
     "output_type": "execute_result"
    }
   ],
   "source": [
    "d==a1"
   ]
  },
  {
   "cell_type": "code",
   "execution_count": 39,
   "id": "cbe25054",
   "metadata": {},
   "outputs": [
    {
     "data": {
      "text/plain": [
       "False"
      ]
     },
     "execution_count": 39,
     "metadata": {},
     "output_type": "execute_result"
    }
   ],
   "source": [
    "d is a1"
   ]
  },
  {
   "cell_type": "code",
   "execution_count": 40,
   "id": "04cc3cce",
   "metadata": {},
   "outputs": [],
   "source": [
    "#matrix\n",
    "\n",
    "A = [[1,2],[5,5]]"
   ]
  },
  {
   "cell_type": "code",
   "execution_count": 41,
   "id": "dab097d0",
   "metadata": {},
   "outputs": [
    {
     "data": {
      "text/plain": [
       "[[1, 2], [5, 5]]"
      ]
     },
     "execution_count": 41,
     "metadata": {},
     "output_type": "execute_result"
    }
   ],
   "source": [
    "A"
   ]
  },
  {
   "cell_type": "code",
   "execution_count": 42,
   "id": "784465c3",
   "metadata": {},
   "outputs": [
    {
     "data": {
      "text/plain": [
       "-5"
      ]
     },
     "execution_count": 42,
     "metadata": {},
     "output_type": "execute_result"
    }
   ],
   "source": [
    "A[0][0] * A[1][1] - A[0][1]*A[1][0]"
   ]
  },
  {
   "cell_type": "code",
   "execution_count": 43,
   "id": "259b05d3",
   "metadata": {},
   "outputs": [],
   "source": [
    "# a function to find the determinant of a 2x2 matrix\n",
    "def det(A):\n",
    "    return A[0][0] * A[1][1] - A[0][1]*A[1][0]"
   ]
  },
  {
   "cell_type": "code",
   "execution_count": 44,
   "id": "83c30034",
   "metadata": {},
   "outputs": [
    {
     "data": {
      "text/plain": [
       "-2"
      ]
     },
     "execution_count": 44,
     "metadata": {},
     "output_type": "execute_result"
    }
   ],
   "source": [
    "det([[1,2],[3,4]])"
   ]
  },
  {
   "cell_type": "code",
   "execution_count": 45,
   "id": "373d6670",
   "metadata": {},
   "outputs": [],
   "source": [
    "#product of vectors\n",
    "x=[1,5,1,5]\n",
    "y=[3,1,1,2]"
   ]
  },
  {
   "cell_type": "code",
   "execution_count": 46,
   "id": "4a9ae660",
   "metadata": {},
   "outputs": [],
   "source": [
    "xy = x[0]*y[0] + x[1]*y[1] + x[2]*y[2] + x[3]*y[3]"
   ]
  },
  {
   "cell_type": "code",
   "execution_count": 47,
   "id": "db374290",
   "metadata": {},
   "outputs": [
    {
     "data": {
      "text/plain": [
       "19"
      ]
     },
     "execution_count": 47,
     "metadata": {},
     "output_type": "execute_result"
    }
   ],
   "source": [
    "xy"
   ]
  },
  {
   "cell_type": "code",
   "execution_count": 48,
   "id": "c0283b47",
   "metadata": {},
   "outputs": [
    {
     "data": {
      "text/plain": [
       "19"
      ]
     },
     "execution_count": 48,
     "metadata": {},
     "output_type": "execute_result"
    }
   ],
   "source": [
    "res = 0\n",
    "i = 0\n",
    "while i < len(x):\n",
    "    res += x[i]*y[i]\n",
    "    i += 1\n",
    "res"
   ]
  },
  {
   "cell_type": "code",
   "execution_count": 49,
   "id": "be429cce",
   "metadata": {},
   "outputs": [],
   "source": [
    "#product of two vectors function\n",
    "def dotp(x,y):\n",
    "    res = 0\n",
    "    i = 0\n",
    "    while i < len(x):\n",
    "        res += x[i]*y[i]\n",
    "        i += 1\n",
    "    return res"
   ]
  },
  {
   "cell_type": "code",
   "execution_count": 50,
   "id": "980472b9",
   "metadata": {},
   "outputs": [
    {
     "data": {
      "text/plain": [
       "19"
      ]
     },
     "execution_count": 50,
     "metadata": {},
     "output_type": "execute_result"
    }
   ],
   "source": [
    "dotp(x,y)"
   ]
  },
  {
   "cell_type": "code",
   "execution_count": 51,
   "id": "74c7619c",
   "metadata": {},
   "outputs": [],
   "source": [
    "#product of two vectors function\n",
    "def dotpW(x,y):\n",
    "    res = 0\n",
    "    i = 0\n",
    "    while i < len(x):\n",
    "        print(x[i] ,'x', y[i], '=', x[i]*y[i])\n",
    "        res += x[i]*y[i]\n",
    "        i += 1\n",
    "    return res"
   ]
  },
  {
   "cell_type": "code",
   "execution_count": 52,
   "id": "7a56adbd",
   "metadata": {},
   "outputs": [
    {
     "name": "stdout",
     "output_type": "stream",
     "text": [
      "1 x 3 = 3\n",
      "5 x 1 = 5\n",
      "1 x 1 = 1\n",
      "5 x 2 = 10\n"
     ]
    },
    {
     "data": {
      "text/plain": [
       "19"
      ]
     },
     "execution_count": 52,
     "metadata": {},
     "output_type": "execute_result"
    }
   ],
   "source": [
    "dotpW(x,y)"
   ]
  },
  {
   "cell_type": "code",
   "execution_count": 53,
   "id": "c8ccf263",
   "metadata": {},
   "outputs": [
    {
     "data": {
      "text/plain": [
       "[1, 5, 1, 5]"
      ]
     },
     "execution_count": 53,
     "metadata": {},
     "output_type": "execute_result"
    }
   ],
   "source": [
    "x"
   ]
  },
  {
   "cell_type": "code",
   "execution_count": 54,
   "id": "a6769cbf",
   "metadata": {},
   "outputs": [
    {
     "name": "stdout",
     "output_type": "stream",
     "text": [
      "1\n",
      "5\n",
      "1\n",
      "5\n"
     ]
    }
   ],
   "source": [
    "for el in x:\n",
    "    print(el)"
   ]
  },
  {
   "cell_type": "code",
   "execution_count": 55,
   "id": "7938df47",
   "metadata": {},
   "outputs": [
    {
     "data": {
      "text/plain": [
       "7.211102550927978"
      ]
     },
     "execution_count": 55,
     "metadata": {},
     "output_type": "execute_result"
    }
   ],
   "source": [
    "#magnitude of a vector\n",
    "res = 0\n",
    "for i in x:\n",
    "    res += i**2\n",
    "res**0.5"
   ]
  },
  {
   "cell_type": "code",
   "execution_count": 56,
   "id": "a8a61f42",
   "metadata": {},
   "outputs": [
    {
     "data": {
      "text/plain": [
       "7.211102550927978"
      ]
     },
     "execution_count": 56,
     "metadata": {},
     "output_type": "execute_result"
    }
   ],
   "source": [
    "#magnitude of a vector using dot product\n",
    "\n",
    "(dotp(x,x))**0.5"
   ]
  },
  {
   "cell_type": "code",
   "execution_count": 57,
   "id": "03ec01c3",
   "metadata": {},
   "outputs": [
    {
     "data": {
      "text/plain": [
       "[2.0, 2.2, 2.4, 2.6, 2.8, 3.0, 3.2, 3.4000000000000004, 3.6, 3.8, 4.0]"
      ]
     },
     "execution_count": 57,
     "metadata": {},
     "output_type": "execute_result"
    }
   ],
   "source": [
    "t = [0,1,2,3,4,5,6,7,8,9,10]\n",
    "h = 0.2\n",
    "X = []\n",
    "for i in t:\n",
    "    X.append(2+i*h)\n",
    "X\n"
   ]
  },
  {
   "cell_type": "code",
   "execution_count": 58,
   "id": "eb5d28fb",
   "metadata": {},
   "outputs": [
    {
     "data": {
      "text/plain": [
       "[-0.6536436208636119,\n",
       " -0.30733286997841935,\n",
       " 0.0874989834394464,\n",
       " 0.4685166713003771,\n",
       " 0.7755658785102496,\n",
       " 0.960170286650366,\n",
       " 0.9931849187581926,\n",
       " 0.8693974903498248,\n",
       " 0.6083513145322546,\n",
       " 0.2512598425822557,\n",
       " -0.14550003380861354]"
      ]
     },
     "execution_count": 58,
     "metadata": {},
     "output_type": "execute_result"
    }
   ],
   "source": [
    "import math\n",
    "t = [0,1,2,3,4,5,6,7,8,9,10]\n",
    "h = 0.2\n",
    "X = []\n",
    "for i in t:\n",
    "    X.append(math.cos(2*(2+i*h)))\n",
    "X"
   ]
  },
  {
   "cell_type": "code",
   "execution_count": 59,
   "id": "dcd34f32",
   "metadata": {},
   "outputs": [
    {
     "name": "stdout",
     "output_type": "stream",
     "text": [
      "[2.0, 2.2, 2.4, 2.6, 2.8, 3.0, 3.2, 3.4000000000000004, 3.6, 3.8, 4.0]\n",
      "[-0.6536436208636119, -0.30733286997841935, 0.0874989834394464, 0.4685166713003771, 0.7755658785102496, 0.960170286650366, 0.9931849187581926, 0.8693974903498248, 0.6083513145322546, 0.2512598425822557, -0.14550003380861354]\n"
     ]
    }
   ],
   "source": [
    "import math\n",
    "t = [0,1,2,3,4,5,6,7,8,9,10]\n",
    "h = 0.2\n",
    "X = []\n",
    "Y = []\n",
    "for i in t:\n",
    "    X.append(2+i*h)\n",
    "    Y.append(math.cos(2*(2+i*h)))\n",
    "print(X)\n",
    "print(Y)"
   ]
  },
  {
   "cell_type": "code",
   "execution_count": 60,
   "id": "f272f88e",
   "metadata": {},
   "outputs": [
    {
     "data": {
      "text/plain": [
       "0.7071067811865476"
      ]
     },
     "execution_count": 60,
     "metadata": {},
     "output_type": "execute_result"
    }
   ],
   "source": [
    "from math import cos, pi\n",
    "cos(pi/4)"
   ]
  },
  {
   "cell_type": "code",
   "execution_count": 63,
   "id": "65bb58ed",
   "metadata": {},
   "outputs": [
    {
     "name": "stdout",
     "output_type": "stream",
     "text": [
      "[2.0, 2.2, 2.4, 2.6, 2.8, 3.0, 3.2, 3.4000000000000004, 3.6, 3.8, 4.0, 2.0, 2.2, 2.4, 2.6, 2.8, 3.0, 3.2, 3.4000000000000004, 3.6, 3.8, 4.0]\n",
      "[-0.6536436208636119, -0.30733286997841935, 0.0874989834394464, 0.4685166713003771, 0.7755658785102496, 0.960170286650366, 0.9931849187581926, 0.8693974903498248, 0.6083513145322546, 0.2512598425822557, -0.14550003380861354, -0.6536436208636119, -0.30733286997841935, 0.0874989834394464, 0.4685166713003771, 0.7755658785102496, 0.960170286650366, 0.9931849187581926, 0.8693974903498248, 0.6083513145322546, 0.2512598425822557, -0.14550003380861354]\n"
     ]
    }
   ],
   "source": [
    "import math\n",
    "def table():\n",
    "    t = [0,1,2,3,4,5,6,7,8,9,10]\n",
    "    h = 0.2\n",
    "    X = []\n",
    "    Y = []\n",
    "for i in t:\n",
    "    X.append(2+i*h)\n",
    "    Y.append(math.cos(2*(2+i*h)))\n",
    "print(X)\n",
    "print(Y)"
   ]
  },
  {
   "cell_type": "code",
   "execution_count": null,
   "id": "cbd0a214",
   "metadata": {},
   "outputs": [],
   "source": [
    "P = [2,4,6,1,9,5,6,3]\n",
    "n = 0\n",
    "Sum = []\n",
    "for i in P:\n",
    "    Sum.append(n + i)\n",
    "    n +=i\n",
    "Sum"
   ]
  },
  {
   "cell_type": "code",
   "execution_count": null,
   "id": "46ae4bb6",
   "metadata": {},
   "outputs": [],
   "source": []
  }
 ],
 "metadata": {
  "kernelspec": {
   "display_name": "Python 3 (ipykernel)",
   "language": "python",
   "name": "python3"
  },
  "language_info": {
   "codemirror_mode": {
    "name": "ipython",
    "version": 3
   },
   "file_extension": ".py",
   "mimetype": "text/x-python",
   "name": "python",
   "nbconvert_exporter": "python",
   "pygments_lexer": "ipython3",
   "version": "3.11.2"
  }
 },
 "nbformat": 4,
 "nbformat_minor": 5
}
