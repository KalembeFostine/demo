{
 "cells": [
  {
   "cell_type": "code",
   "execution_count": 1,
   "id": "de42ce51",
   "metadata": {},
   "outputs": [
    {
     "data": {
      "text/plain": [
       "1.25"
      ]
     },
     "execution_count": 1,
     "metadata": {},
     "output_type": "execute_result"
    }
   ],
   "source": [
    "1.5*5/6"
   ]
  },
  {
   "cell_type": "code",
   "execution_count": 2,
   "id": "d1d743d4",
   "metadata": {},
   "outputs": [
    {
     "data": {
      "text/plain": [
       "5"
      ]
     },
     "execution_count": 2,
     "metadata": {},
     "output_type": "execute_result"
    }
   ],
   "source": [
    "3+2"
   ]
  },
  {
   "cell_type": "code",
   "execution_count": 3,
   "id": "50b40d3b",
   "metadata": {},
   "outputs": [
    {
     "data": {
      "text/plain": [
       "4.6"
      ]
     },
     "execution_count": 3,
     "metadata": {},
     "output_type": "execute_result"
    }
   ],
   "source": [
    "4+3/5"
   ]
  },
  {
   "cell_type": "code",
   "execution_count": 4,
   "id": "556ff0ad",
   "metadata": {},
   "outputs": [
    {
     "data": {
      "text/plain": [
       "1.4"
      ]
     },
     "execution_count": 4,
     "metadata": {},
     "output_type": "execute_result"
    }
   ],
   "source": [
    "(4+3)/5"
   ]
  },
  {
   "cell_type": "code",
   "execution_count": 5,
   "id": "98a88dba",
   "metadata": {},
   "outputs": [
    {
     "data": {
      "text/plain": [
       "-2"
      ]
     },
     "execution_count": 5,
     "metadata": {},
     "output_type": "execute_result"
    }
   ],
   "source": [
    "4-6"
   ]
  },
  {
   "cell_type": "code",
   "execution_count": 6,
   "id": "bb6bba10",
   "metadata": {},
   "outputs": [
    {
     "data": {
      "text/plain": [
       "16"
      ]
     },
     "execution_count": 6,
     "metadata": {},
     "output_type": "execute_result"
    }
   ],
   "source": [
    "4**2"
   ]
  },
  {
   "cell_type": "code",
   "execution_count": 7,
   "id": "d208e8a0",
   "metadata": {},
   "outputs": [
    {
     "data": {
      "text/plain": [
       "40"
      ]
     },
     "execution_count": 7,
     "metadata": {},
     "output_type": "execute_result"
    }
   ],
   "source": [
    "4*5*2"
   ]
  },
  {
   "cell_type": "code",
   "execution_count": 8,
   "id": "0dc6a386",
   "metadata": {},
   "outputs": [
    {
     "data": {
      "text/plain": [
       "16"
      ]
     },
     "execution_count": 8,
     "metadata": {},
     "output_type": "execute_result"
    }
   ],
   "source": [
    "4 ** 2"
   ]
  },
  {
   "cell_type": "code",
   "execution_count": 9,
   "id": "f997c6f5",
   "metadata": {},
   "outputs": [
    {
     "data": {
      "text/plain": [
       "2.5"
      ]
     },
     "execution_count": 9,
     "metadata": {},
     "output_type": "execute_result"
    }
   ],
   "source": [
    "5/2"
   ]
  },
  {
   "cell_type": "code",
   "execution_count": 10,
   "id": "b106980d",
   "metadata": {},
   "outputs": [
    {
     "data": {
      "text/plain": [
       "2"
      ]
     },
     "execution_count": 10,
     "metadata": {},
     "output_type": "execute_result"
    }
   ],
   "source": [
    "5//2"
   ]
  },
  {
   "cell_type": "code",
   "execution_count": 11,
   "id": "338eebe7",
   "metadata": {},
   "outputs": [
    {
     "data": {
      "text/plain": [
       "1"
      ]
     },
     "execution_count": 11,
     "metadata": {},
     "output_type": "execute_result"
    }
   ],
   "source": [
    "5%2"
   ]
  },
  {
   "cell_type": "code",
   "execution_count": 12,
   "id": "76ead9b4",
   "metadata": {},
   "outputs": [
    {
     "data": {
      "text/plain": [
       "10.0"
      ]
     },
     "execution_count": 12,
     "metadata": {},
     "output_type": "execute_result"
    }
   ],
   "source": [
    "5*2.0"
   ]
  },
  {
   "cell_type": "code",
   "execution_count": 13,
   "id": "158d03bc",
   "metadata": {},
   "outputs": [
    {
     "data": {
      "text/plain": [
       "1.0"
      ]
     },
     "execution_count": 13,
     "metadata": {},
     "output_type": "execute_result"
    }
   ],
   "source": [
    "a=(-1)**0.5\n",
    "a.imag"
   ]
  },
  {
   "cell_type": "code",
   "execution_count": 14,
   "id": "a6d0ea23",
   "metadata": {},
   "outputs": [
    {
     "data": {
      "text/plain": [
       "6.123233995736766e-17"
      ]
     },
     "execution_count": 14,
     "metadata": {},
     "output_type": "execute_result"
    }
   ],
   "source": [
    "a.real"
   ]
  },
  {
   "cell_type": "code",
   "execution_count": 15,
   "id": "93e40b09",
   "metadata": {},
   "outputs": [
    {
     "data": {
      "text/plain": [
       "8j"
      ]
     },
     "execution_count": 15,
     "metadata": {},
     "output_type": "execute_result"
    }
   ],
   "source": [
    "8j"
   ]
  },
  {
   "cell_type": "code",
   "execution_count": 16,
   "id": "6a9b5f29",
   "metadata": {},
   "outputs": [
    {
     "data": {
      "text/plain": [
       "1j"
      ]
     },
     "execution_count": 16,
     "metadata": {},
     "output_type": "execute_result"
    }
   ],
   "source": [
    "1j"
   ]
  },
  {
   "cell_type": "code",
   "execution_count": 17,
   "id": "eee696d5",
   "metadata": {},
   "outputs": [
    {
     "data": {
      "text/plain": [
       "5j"
      ]
     },
     "execution_count": 17,
     "metadata": {},
     "output_type": "execute_result"
    }
   ],
   "source": [
    "5j"
   ]
  },
  {
   "cell_type": "code",
   "execution_count": 18,
   "id": "c03e25d4",
   "metadata": {},
   "outputs": [
    {
     "data": {
      "text/plain": [
       "(0.08823529411764708+0.8529411764705882j)"
      ]
     },
     "execution_count": 18,
     "metadata": {},
     "output_type": "execute_result"
    }
   ],
   "source": [
    "(3+4j)/(5-3j)"
   ]
  },
  {
   "cell_type": "code",
   "execution_count": 19,
   "id": "9d0165a3",
   "metadata": {},
   "outputs": [],
   "source": [
    "a=3+4j\n",
    "b=5-3j"
   ]
  },
  {
   "cell_type": "code",
   "execution_count": 20,
   "id": "3a2b329b",
   "metadata": {},
   "outputs": [
    {
     "data": {
      "text/plain": [
       "(0.08823529411764708+0.8529411764705882j)"
      ]
     },
     "execution_count": 20,
     "metadata": {},
     "output_type": "execute_result"
    }
   ],
   "source": [
    "a/b"
   ]
  },
  {
   "cell_type": "code",
   "execution_count": 21,
   "id": "634bb7de",
   "metadata": {},
   "outputs": [],
   "source": [
    "c1=5"
   ]
  },
  {
   "cell_type": "code",
   "execution_count": 22,
   "id": "d56610d2",
   "metadata": {},
   "outputs": [
    {
     "data": {
      "text/plain": [
       "(3+4j)"
      ]
     },
     "execution_count": 22,
     "metadata": {},
     "output_type": "execute_result"
    }
   ],
   "source": [
    "a"
   ]
  },
  {
   "cell_type": "code",
   "execution_count": 23,
   "id": "c17f45a2",
   "metadata": {},
   "outputs": [
    {
     "data": {
      "text/plain": [
       "(3-4j)"
      ]
     },
     "execution_count": 23,
     "metadata": {},
     "output_type": "execute_result"
    }
   ],
   "source": [
    "a.conjugate()"
   ]
  },
  {
   "cell_type": "code",
   "execution_count": 24,
   "id": "92c88f4f",
   "metadata": {},
   "outputs": [
    {
     "data": {
      "text/plain": [
       "4.0"
      ]
     },
     "execution_count": 24,
     "metadata": {},
     "output_type": "execute_result"
    }
   ],
   "source": [
    "a.imag"
   ]
  },
  {
   "cell_type": "code",
   "execution_count": 25,
   "id": "6e792625",
   "metadata": {},
   "outputs": [
    {
     "data": {
      "text/plain": [
       "3.0"
      ]
     },
     "execution_count": 25,
     "metadata": {},
     "output_type": "execute_result"
    }
   ],
   "source": [
    "a.real"
   ]
  },
  {
   "cell_type": "code",
   "execution_count": 26,
   "id": "d1eef193",
   "metadata": {},
   "outputs": [],
   "source": [
    "A = a.conjugate"
   ]
  },
  {
   "cell_type": "code",
   "execution_count": 27,
   "id": "985ea983",
   "metadata": {},
   "outputs": [
    {
     "data": {
      "text/plain": [
       "(3-4j)"
      ]
     },
     "execution_count": 27,
     "metadata": {},
     "output_type": "execute_result"
    }
   ],
   "source": [
    "A()"
   ]
  },
  {
   "cell_type": "code",
   "execution_count": 28,
   "id": "315e2eb5",
   "metadata": {},
   "outputs": [
    {
     "data": {
      "text/plain": [
       "(25+0j)"
      ]
     },
     "execution_count": 28,
     "metadata": {},
     "output_type": "execute_result"
    }
   ],
   "source": [
    "a*A()"
   ]
  },
  {
   "cell_type": "code",
   "execution_count": 29,
   "id": "902220d2",
   "metadata": {},
   "outputs": [
    {
     "name": "stdout",
     "output_type": "stream",
     "text": [
      "(3+4j)\n"
     ]
    }
   ],
   "source": [
    "print(a)"
   ]
  },
  {
   "cell_type": "code",
   "execution_count": 30,
   "id": "380766f8",
   "metadata": {},
   "outputs": [],
   "source": [
    "print = 34"
   ]
  },
  {
   "cell_type": "code",
   "execution_count": 31,
   "id": "8d806029",
   "metadata": {},
   "outputs": [
    {
     "data": {
      "text/plain": [
       "34"
      ]
     },
     "execution_count": 31,
     "metadata": {},
     "output_type": "execute_result"
    }
   ],
   "source": [
    "print"
   ]
  },
  {
   "cell_type": "code",
   "execution_count": 32,
   "id": "2e813a46",
   "metadata": {},
   "outputs": [],
   "source": [
    "del print"
   ]
  },
  {
   "cell_type": "code",
   "execution_count": 33,
   "id": "eeb89de5",
   "metadata": {},
   "outputs": [],
   "source": [
    "c2=5"
   ]
  },
  {
   "cell_type": "code",
   "execution_count": 34,
   "id": "05667be5",
   "metadata": {},
   "outputs": [
    {
     "data": {
      "text/plain": [
       "120"
      ]
     },
     "execution_count": 34,
     "metadata": {},
     "output_type": "execute_result"
    }
   ],
   "source": [
    "c2*24"
   ]
  },
  {
   "cell_type": "code",
   "execution_count": 35,
   "id": "a8c584f5",
   "metadata": {},
   "outputs": [],
   "source": [
    "print=120"
   ]
  },
  {
   "cell_type": "code",
   "execution_count": 36,
   "id": "be33d4c2",
   "metadata": {},
   "outputs": [],
   "source": [
    "del print"
   ]
  },
  {
   "cell_type": "code",
   "execution_count": 37,
   "id": "b17daf3c",
   "metadata": {},
   "outputs": [],
   "source": [
    "c2=5"
   ]
  },
  {
   "cell_type": "code",
   "execution_count": 38,
   "id": "a2f55a50",
   "metadata": {},
   "outputs": [],
   "source": [
    "c2=c2*24"
   ]
  },
  {
   "cell_type": "code",
   "execution_count": 39,
   "id": "9d8fc8fd",
   "metadata": {},
   "outputs": [
    {
     "name": "stdout",
     "output_type": "stream",
     "text": [
      "120\n"
     ]
    }
   ],
   "source": [
    "print(c2)"
   ]
  },
  {
   "cell_type": "code",
   "execution_count": 40,
   "id": "6b614025",
   "metadata": {},
   "outputs": [],
   "source": [
    "c2*=24"
   ]
  },
  {
   "cell_type": "code",
   "execution_count": 41,
   "id": "c0ebe2a9",
   "metadata": {},
   "outputs": [
    {
     "data": {
      "text/plain": [
       "2880"
      ]
     },
     "execution_count": 41,
     "metadata": {},
     "output_type": "execute_result"
    }
   ],
   "source": [
    "c2"
   ]
  },
  {
   "cell_type": "markdown",
   "id": "e13cc989",
   "metadata": {},
   "source": [
    "c2*=24"
   ]
  },
  {
   "cell_type": "code",
   "execution_count": 42,
   "id": "95808feb",
   "metadata": {},
   "outputs": [
    {
     "data": {
      "text/plain": [
       "['A',\n",
       " 'In',\n",
       " 'Out',\n",
       " '_',\n",
       " '_1',\n",
       " '_10',\n",
       " '_11',\n",
       " '_12',\n",
       " '_13',\n",
       " '_14',\n",
       " '_15',\n",
       " '_16',\n",
       " '_17',\n",
       " '_18',\n",
       " '_2',\n",
       " '_20',\n",
       " '_22',\n",
       " '_23',\n",
       " '_24',\n",
       " '_25',\n",
       " '_27',\n",
       " '_28',\n",
       " '_3',\n",
       " '_31',\n",
       " '_34',\n",
       " '_4',\n",
       " '_41',\n",
       " '_5',\n",
       " '_6',\n",
       " '_7',\n",
       " '_8',\n",
       " '_9',\n",
       " '__',\n",
       " '___',\n",
       " '__builtin__',\n",
       " '__builtins__',\n",
       " '__doc__',\n",
       " '__loader__',\n",
       " '__name__',\n",
       " '__package__',\n",
       " '__spec__',\n",
       " '_dh',\n",
       " '_i',\n",
       " '_i1',\n",
       " '_i10',\n",
       " '_i11',\n",
       " '_i12',\n",
       " '_i13',\n",
       " '_i14',\n",
       " '_i15',\n",
       " '_i16',\n",
       " '_i17',\n",
       " '_i18',\n",
       " '_i19',\n",
       " '_i2',\n",
       " '_i20',\n",
       " '_i21',\n",
       " '_i22',\n",
       " '_i23',\n",
       " '_i24',\n",
       " '_i25',\n",
       " '_i26',\n",
       " '_i27',\n",
       " '_i28',\n",
       " '_i29',\n",
       " '_i3',\n",
       " '_i30',\n",
       " '_i31',\n",
       " '_i32',\n",
       " '_i33',\n",
       " '_i34',\n",
       " '_i35',\n",
       " '_i36',\n",
       " '_i37',\n",
       " '_i38',\n",
       " '_i39',\n",
       " '_i4',\n",
       " '_i40',\n",
       " '_i41',\n",
       " '_i42',\n",
       " '_i5',\n",
       " '_i6',\n",
       " '_i7',\n",
       " '_i8',\n",
       " '_i9',\n",
       " '_ih',\n",
       " '_ii',\n",
       " '_iii',\n",
       " '_oh',\n",
       " 'a',\n",
       " 'b',\n",
       " 'c1',\n",
       " 'c2',\n",
       " 'exit',\n",
       " 'get_ipython',\n",
       " 'quit']"
      ]
     },
     "execution_count": 42,
     "metadata": {},
     "output_type": "execute_result"
    }
   ],
   "source": [
    "dir()"
   ]
  },
  {
   "cell_type": "code",
   "execution_count": 43,
   "id": "e3a9c265",
   "metadata": {},
   "outputs": [
    {
     "name": "stdout",
     "output_type": "stream",
     "text": [
      "['A', 'In', 'Out', '_', '_1', '_10', '_11', '_12', '_13', '_14', '_15', '_16', '_17', '_18', '_2', '_20', '_22', '_23', '_24', '_25', '_27', '_28', '_3', '_31', '_34', '_4', '_41', '_42', '_5', '_6', '_7', '_8', '_9', '__', '___', '__builtin__', '__builtins__', '__doc__', '__loader__', '__name__', '__package__', '__spec__', '_dh', '_i', '_i1', '_i10', '_i11', '_i12', '_i13', '_i14', '_i15', '_i16', '_i17', '_i18', '_i19', '_i2', '_i20', '_i21', '_i22', '_i23', '_i24', '_i25', '_i26', '_i27', '_i28', '_i29', '_i3', '_i30', '_i31', '_i32', '_i33', '_i34', '_i35', '_i36', '_i37', '_i38', '_i39', '_i4', '_i40', '_i41', '_i42', '_i43', '_i5', '_i6', '_i7', '_i8', '_i9', '_ih', '_ii', '_iii', '_oh', 'a', 'b', 'c1', 'c2', 'exit', 'get_ipython', 'quit']\n"
     ]
    }
   ],
   "source": [
    "print(dir())"
   ]
  },
  {
   "cell_type": "code",
   "execution_count": 44,
   "id": "9a19f7ed",
   "metadata": {},
   "outputs": [
    {
     "name": "stdout",
     "output_type": "stream",
     "text": [
      "['__add__', '__class__', '__contains__', '__delattr__', '__dir__', '__doc__', '__eq__', '__format__', '__ge__', '__getattribute__', '__getitem__', '__getnewargs__', '__getstate__', '__gt__', '__hash__', '__init__', '__init_subclass__', '__iter__', '__le__', '__len__', '__lt__', '__mod__', '__mul__', '__ne__', '__new__', '__reduce__', '__reduce_ex__', '__repr__', '__rmod__', '__rmul__', '__setattr__', '__sizeof__', '__str__', '__subclasshook__', 'capitalize', 'casefold', 'center', 'count', 'encode', 'endswith', 'expandtabs', 'find', 'format', 'format_map', 'index', 'isalnum', 'isalpha', 'isascii', 'isdecimal', 'isdigit', 'isidentifier', 'islower', 'isnumeric', 'isprintable', 'isspace', 'istitle', 'isupper', 'join', 'ljust', 'lower', 'lstrip', 'maketrans', 'partition', 'removeprefix', 'removesuffix', 'replace', 'rfind', 'rindex', 'rjust', 'rpartition', 'rsplit', 'rstrip', 'split', 'splitlines', 'startswith', 'strip', 'swapcase', 'title', 'translate', 'upper', 'zfill']\n"
     ]
    }
   ],
   "source": [
    "print(dir(__doc__))"
   ]
  },
  {
   "cell_type": "code",
   "execution_count": 45,
   "id": "814f3033",
   "metadata": {},
   "outputs": [
    {
     "name": "stdout",
     "output_type": "stream",
     "text": [
      "['ArithmeticError', 'AssertionError', 'AttributeError', 'BaseException', 'BaseExceptionGroup', 'BlockingIOError', 'BrokenPipeError', 'BufferError', 'BytesWarning', 'ChildProcessError', 'ConnectionAbortedError', 'ConnectionError', 'ConnectionRefusedError', 'ConnectionResetError', 'DeprecationWarning', 'EOFError', 'Ellipsis', 'EncodingWarning', 'EnvironmentError', 'Exception', 'ExceptionGroup', 'False', 'FileExistsError', 'FileNotFoundError', 'FloatingPointError', 'FutureWarning', 'GeneratorExit', 'IOError', 'ImportError', 'ImportWarning', 'IndentationError', 'IndexError', 'InterruptedError', 'IsADirectoryError', 'KeyError', 'KeyboardInterrupt', 'LookupError', 'MemoryError', 'ModuleNotFoundError', 'NameError', 'None', 'NotADirectoryError', 'NotImplemented', 'NotImplementedError', 'OSError', 'OverflowError', 'PendingDeprecationWarning', 'PermissionError', 'ProcessLookupError', 'RecursionError', 'ReferenceError', 'ResourceWarning', 'RuntimeError', 'RuntimeWarning', 'StopAsyncIteration', 'StopIteration', 'SyntaxError', 'SyntaxWarning', 'SystemError', 'SystemExit', 'TabError', 'TimeoutError', 'True', 'TypeError', 'UnboundLocalError', 'UnicodeDecodeError', 'UnicodeEncodeError', 'UnicodeError', 'UnicodeTranslateError', 'UnicodeWarning', 'UserWarning', 'ValueError', 'Warning', 'ZeroDivisionError', '__IPYTHON__', '__build_class__', '__debug__', '__doc__', '__import__', '__loader__', '__name__', '__package__', '__spec__', 'abs', 'aiter', 'all', 'anext', 'any', 'ascii', 'bin', 'bool', 'breakpoint', 'bytearray', 'bytes', 'callable', 'chr', 'classmethod', 'compile', 'complex', 'copyright', 'credits', 'delattr', 'dict', 'dir', 'display', 'divmod', 'enumerate', 'eval', 'exec', 'execfile', 'filter', 'float', 'format', 'frozenset', 'get_ipython', 'getattr', 'globals', 'hasattr', 'hash', 'help', 'hex', 'id', 'input', 'int', 'isinstance', 'issubclass', 'iter', 'len', 'license', 'list', 'locals', 'map', 'max', 'memoryview', 'min', 'next', 'object', 'oct', 'open', 'ord', 'pow', 'print', 'property', 'range', 'repr', 'reversed', 'round', 'runfile', 'set', 'setattr', 'slice', 'sorted', 'staticmethod', 'str', 'sum', 'super', 'tuple', 'type', 'vars', 'zip']\n"
     ]
    }
   ],
   "source": [
    "print(dir(__builtin__))"
   ]
  },
  {
   "cell_type": "code",
   "execution_count": 46,
   "id": "593bc49a",
   "metadata": {},
   "outputs": [],
   "source": [
    "a=4+5j"
   ]
  },
  {
   "cell_type": "code",
   "execution_count": 47,
   "id": "eba94228",
   "metadata": {},
   "outputs": [
    {
     "data": {
      "text/plain": [
       "4.0"
      ]
     },
     "execution_count": 47,
     "metadata": {},
     "output_type": "execute_result"
    }
   ],
   "source": [
    "a.real"
   ]
  },
  {
   "cell_type": "code",
   "execution_count": 48,
   "id": "0c302d4a",
   "metadata": {},
   "outputs": [
    {
     "data": {
      "text/plain": [
       "5.0"
      ]
     },
     "execution_count": 48,
     "metadata": {},
     "output_type": "execute_result"
    }
   ],
   "source": [
    "a.imag"
   ]
  },
  {
   "cell_type": "code",
   "execution_count": 49,
   "id": "e2b2f47c",
   "metadata": {},
   "outputs": [
    {
     "data": {
      "text/plain": [
       "(4-5j)"
      ]
     },
     "execution_count": 49,
     "metadata": {},
     "output_type": "execute_result"
    }
   ],
   "source": [
    "a.conjugate()"
   ]
  },
  {
   "cell_type": "code",
   "execution_count": 50,
   "id": "b564cf81",
   "metadata": {},
   "outputs": [
    {
     "data": {
      "text/plain": [
       "5.0"
      ]
     },
     "execution_count": 50,
     "metadata": {},
     "output_type": "execute_result"
    }
   ],
   "source": [
    "a.imag"
   ]
  },
  {
   "cell_type": "code",
   "execution_count": 51,
   "id": "8f4a8821",
   "metadata": {},
   "outputs": [],
   "source": [
    "a_=a.conjugate()"
   ]
  },
  {
   "cell_type": "code",
   "execution_count": 52,
   "id": "5496f865",
   "metadata": {},
   "outputs": [
    {
     "name": "stdout",
     "output_type": "stream",
     "text": [
      "(4-5j)\n"
     ]
    }
   ],
   "source": [
    "print(a_)"
   ]
  },
  {
   "cell_type": "code",
   "execution_count": 53,
   "id": "9b3d11f8",
   "metadata": {},
   "outputs": [
    {
     "data": {
      "text/plain": [
       "(41+0j)"
      ]
     },
     "execution_count": 53,
     "metadata": {},
     "output_type": "execute_result"
    }
   ],
   "source": [
    "a*a_"
   ]
  },
  {
   "cell_type": "code",
   "execution_count": 54,
   "id": "980c31cb",
   "metadata": {},
   "outputs": [],
   "source": [
    "A=a.conjugate()"
   ]
  },
  {
   "cell_type": "code",
   "execution_count": 55,
   "id": "bbd0e5f9",
   "metadata": {},
   "outputs": [
    {
     "name": "stdout",
     "output_type": "stream",
     "text": [
      "(4-5j)\n"
     ]
    }
   ],
   "source": [
    "print (A)"
   ]
  },
  {
   "cell_type": "code",
   "execution_count": 56,
   "id": "e4d13557",
   "metadata": {},
   "outputs": [
    {
     "data": {
      "text/plain": [
       "(4-5j)"
      ]
     },
     "execution_count": 56,
     "metadata": {},
     "output_type": "execute_result"
    }
   ],
   "source": [
    "A"
   ]
  },
  {
   "cell_type": "code",
   "execution_count": 57,
   "id": "a22754eb",
   "metadata": {},
   "outputs": [
    {
     "data": {
      "text/plain": [
       "(4+5j)"
      ]
     },
     "execution_count": 57,
     "metadata": {},
     "output_type": "execute_result"
    }
   ],
   "source": [
    "a=(4-5j)\n",
    "A=a.conjugate\n",
    "A()"
   ]
  },
  {
   "cell_type": "code",
   "execution_count": 58,
   "id": "07a33bf6",
   "metadata": {},
   "outputs": [
    {
     "data": {
      "text/plain": [
       "6"
      ]
     },
     "execution_count": 58,
     "metadata": {},
     "output_type": "execute_result"
    }
   ],
   "source": [
    "abs(-6)"
   ]
  },
  {
   "cell_type": "code",
   "execution_count": 59,
   "id": "0657f25b",
   "metadata": {},
   "outputs": [
    {
     "data": {
      "text/plain": [
       "6.4031242374328485"
      ]
     },
     "execution_count": 59,
     "metadata": {},
     "output_type": "execute_result"
    }
   ],
   "source": [
    "abs(a)"
   ]
  },
  {
   "cell_type": "code",
   "execution_count": 60,
   "id": "8df66251",
   "metadata": {},
   "outputs": [
    {
     "data": {
      "text/plain": [
       "(-9-40j)"
      ]
     },
     "execution_count": 60,
     "metadata": {},
     "output_type": "execute_result"
    }
   ],
   "source": [
    "a*a_"
   ]
  },
  {
   "cell_type": "code",
   "execution_count": 61,
   "id": "8eb52259",
   "metadata": {},
   "outputs": [
    {
     "data": {
      "text/plain": [
       "-9.0"
      ]
     },
     "execution_count": 61,
     "metadata": {},
     "output_type": "execute_result"
    }
   ],
   "source": [
    "(a*a_).real"
   ]
  },
  {
   "cell_type": "code",
   "execution_count": 62,
   "id": "a71d587d",
   "metadata": {},
   "outputs": [
    {
     "data": {
      "text/plain": [
       "(1.8369701987210297e-16+3j)"
      ]
     },
     "execution_count": 62,
     "metadata": {},
     "output_type": "execute_result"
    }
   ],
   "source": [
    "((a*a_).real)**0.5"
   ]
  },
  {
   "cell_type": "code",
   "execution_count": 63,
   "id": "4758de38",
   "metadata": {},
   "outputs": [
    {
     "name": "stdout",
     "output_type": "stream",
     "text": [
      "-2.0\n",
      "-3.0\n"
     ]
    }
   ],
   "source": [
    "a=1\n",
    "b=5\n",
    "c=6\n",
    "x1=(-b+(b**2-(4*a*c))**0.5)/(2*a)\n",
    "x2=(-b-(b**2-(4*a*c))**0.5)/(2*a)\n",
    "print(x1)\n",
    "print(x2)"
   ]
  },
  {
   "cell_type": "code",
   "execution_count": 64,
   "id": "b468aca7",
   "metadata": {},
   "outputs": [
    {
     "name": "stdout",
     "output_type": "stream",
     "text": [
      "-0.42583426132260593\n",
      "-1.174165738677394\n"
     ]
    }
   ],
   "source": [
    "a=10\n",
    "b=16\n",
    "c=5\n",
    "x1=(-b+(b**2-(4*a*c))**0.5)/(2*a)\n",
    "x2=(-b-(b**2-(4*a*c))**0.5)/(2*a)\n",
    "print(x1)\n",
    "print(x2)"
   ]
  },
  {
   "cell_type": "code",
   "execution_count": 65,
   "id": "94fe2c12",
   "metadata": {},
   "outputs": [
    {
     "name": "stdout",
     "output_type": "stream",
     "text": [
      "-0.19690774908378927\n",
      "-1.3248313813509933\n"
     ]
    }
   ],
   "source": [
    "a=23\n",
    "b=35\n",
    "c=6\n",
    "x1=(-b+(b**2-(4*a*c))**0.5)/(2*a)\n",
    "x2=(-b-(b**2-(4*a*c))**0.5)/(2*a)\n",
    "print(x1)\n",
    "print(x2)"
   ]
  },
  {
   "cell_type": "code",
   "execution_count": 66,
   "id": "c31bf919",
   "metadata": {},
   "outputs": [
    {
     "name": "stdout",
     "output_type": "stream",
     "text": [
      "(6.123233995736766e-17+1j)\n",
      "(-6.123233995736766e-17-1j)\n"
     ]
    }
   ],
   "source": [
    "a=1\n",
    "b=0\n",
    "c=1\n",
    "x_1=(-b + (b**2-4*a*c)**0.5)/(2*a)\n",
    "x_2=(-b - (b**2-4*a*c)**0.5)/(2*a)\n",
    "print(x_1)\n",
    "print(x_2)"
   ]
  },
  {
   "cell_type": "code",
   "execution_count": 67,
   "id": "8f0a9923",
   "metadata": {},
   "outputs": [
    {
     "data": {
      "text/plain": [
       "True"
      ]
     },
     "execution_count": 67,
     "metadata": {},
     "output_type": "execute_result"
    }
   ],
   "source": [
    "5!=8"
   ]
  },
  {
   "cell_type": "code",
   "execution_count": 68,
   "id": "af515924",
   "metadata": {},
   "outputs": [
    {
     "data": {
      "text/plain": [
       "True"
      ]
     },
     "execution_count": 68,
     "metadata": {},
     "output_type": "execute_result"
    }
   ],
   "source": [
    "5!=120"
   ]
  },
  {
   "cell_type": "code",
   "execution_count": 69,
   "id": "2a1ab566",
   "metadata": {},
   "outputs": [
    {
     "data": {
      "text/plain": [
       "False"
      ]
     },
     "execution_count": 69,
     "metadata": {},
     "output_type": "execute_result"
    }
   ],
   "source": [
    "(37-85)>(33*2)"
   ]
  },
  {
   "cell_type": "code",
   "execution_count": 70,
   "id": "67af2c55",
   "metadata": {},
   "outputs": [
    {
     "data": {
      "text/plain": [
       "False"
      ]
     },
     "execution_count": 70,
     "metadata": {},
     "output_type": "execute_result"
    }
   ],
   "source": [
    "2>=5"
   ]
  },
  {
   "cell_type": "code",
   "execution_count": 71,
   "id": "fef80a6a",
   "metadata": {},
   "outputs": [
    {
     "data": {
      "text/plain": [
       "True"
      ]
     },
     "execution_count": 71,
     "metadata": {},
     "output_type": "execute_result"
    }
   ],
   "source": [
    "2<5"
   ]
  },
  {
   "cell_type": "code",
   "execution_count": 72,
   "id": "5f8c760d",
   "metadata": {},
   "outputs": [
    {
     "data": {
      "text/plain": [
       "True"
      ]
     },
     "execution_count": 72,
     "metadata": {},
     "output_type": "execute_result"
    }
   ],
   "source": [
    "2<=5"
   ]
  },
  {
   "cell_type": "code",
   "execution_count": 73,
   "id": "1b62af23",
   "metadata": {},
   "outputs": [
    {
     "data": {
      "text/plain": [
       "True"
      ]
     },
     "execution_count": 73,
     "metadata": {},
     "output_type": "execute_result"
    }
   ],
   "source": [
    "3==3.0"
   ]
  },
  {
   "cell_type": "code",
   "execution_count": 74,
   "id": "4e0f40f2",
   "metadata": {},
   "outputs": [
    {
     "data": {
      "text/plain": [
       "True"
      ]
     },
     "execution_count": 74,
     "metadata": {},
     "output_type": "execute_result"
    }
   ],
   "source": [
    "3!=3.2"
   ]
  },
  {
   "cell_type": "code",
   "execution_count": 75,
   "id": "c2a93194",
   "metadata": {},
   "outputs": [
    {
     "data": {
      "text/plain": [
       "True"
      ]
     },
     "execution_count": 75,
     "metadata": {},
     "output_type": "execute_result"
    }
   ],
   "source": [
    "not 2>5"
   ]
  },
  {
   "cell_type": "code",
   "execution_count": 76,
   "id": "2324113e",
   "metadata": {},
   "outputs": [
    {
     "data": {
      "text/plain": [
       "True"
      ]
     },
     "execution_count": 76,
     "metadata": {},
     "output_type": "execute_result"
    }
   ],
   "source": [
    "2>5 or 1==1"
   ]
  },
  {
   "cell_type": "code",
   "execution_count": 77,
   "id": "eb2effd3",
   "metadata": {},
   "outputs": [
    {
     "data": {
      "text/plain": [
       "True"
      ]
     },
     "execution_count": 77,
     "metadata": {},
     "output_type": "execute_result"
    }
   ],
   "source": [
    "7<4 or 9>4"
   ]
  },
  {
   "cell_type": "code",
   "execution_count": 78,
   "id": "b6e5a1c2",
   "metadata": {},
   "outputs": [
    {
     "data": {
      "text/plain": [
       "False"
      ]
     },
     "execution_count": 78,
     "metadata": {},
     "output_type": "execute_result"
    }
   ],
   "source": [
    "8 == 2+6 and 9 < 5"
   ]
  },
  {
   "cell_type": "code",
   "execution_count": 79,
   "id": "5dafebe4",
   "metadata": {},
   "outputs": [
    {
     "data": {
      "text/plain": [
       "5"
      ]
     },
     "execution_count": 79,
     "metadata": {},
     "output_type": "execute_result"
    }
   ],
   "source": [
    "True * 5"
   ]
  },
  {
   "cell_type": "code",
   "execution_count": 80,
   "id": "9bd44618",
   "metadata": {},
   "outputs": [
    {
     "data": {
      "text/plain": [
       "0"
      ]
     },
     "execution_count": 80,
     "metadata": {},
     "output_type": "execute_result"
    }
   ],
   "source": [
    "False * 8"
   ]
  },
  {
   "cell_type": "code",
   "execution_count": 81,
   "id": "8822b3c9",
   "metadata": {},
   "outputs": [],
   "source": [
    "#for a < 0,sqrt(a) = sqrt((-1)*abs(a))"
   ]
  },
  {
   "cell_type": "code",
   "execution_count": 82,
   "id": "20fab8e5",
   "metadata": {},
   "outputs": [],
   "source": [
    "#sqrt(-1)*sqrt(abs(a))"
   ]
  },
  {
   "cell_type": "code",
   "execution_count": 83,
   "id": "69dae76c",
   "metadata": {},
   "outputs": [],
   "source": [
    "#j*sqrt(abs(a))"
   ]
  },
  {
   "cell_type": "code",
   "execution_count": 84,
   "id": "e63ca4d6",
   "metadata": {},
   "outputs": [
    {
     "name": "stdout",
     "output_type": "stream",
     "text": [
      "1j\n",
      "-1j\n"
     ]
    }
   ],
   "source": [
    "a = 1\n",
    "b = 0\n",
    "c = 1\n",
    "D = b**2 - 4*a*c\n",
    "D = (D >= 0)*D**0.5 + (D < 0)*1j*(abs(D))**0.5\n",
    "x_1 = (-b + D)/(2*a)\n",
    "x_2 = (-b - D)/(2*a)\n",
    "print(x_1) \n",
    "print(x_2)"
   ]
  },
  {
   "cell_type": "code",
   "execution_count": 85,
   "id": "ce31e532",
   "metadata": {},
   "outputs": [
    {
     "name": "stdout",
     "output_type": "stream",
     "text": [
      "(-0.125+0.8569568250501305j)\n",
      "(-0.125-0.8569568250501305j)\n"
     ]
    }
   ],
   "source": [
    "a = 4\n",
    "b = 1\n",
    "c = 3\n",
    "D = b**2 - 4*a*c\n",
    "D = (D >= 0)*D**0.5 + (D < 0)*1j*(abs(D))**0.5\n",
    "x_1 = (-b + D)/(2*a)\n",
    "x_2 = (-b - D)/(2*a)\n",
    "print(x_1) \n",
    "print(x_2)"
   ]
  },
  {
   "cell_type": "code",
   "execution_count": 86,
   "id": "5b5f8f8c",
   "metadata": {},
   "outputs": [
    {
     "name": "stdout",
     "output_type": "stream",
     "text": [
      "(-2+0j)\n",
      "(-3+0j)\n"
     ]
    }
   ],
   "source": [
    "a = 1\n",
    "b = 5\n",
    "c = 6\n",
    "D = b**2 - 4*a*c\n",
    "D = (D >= 0)*D**0.5 + (D < 0)*1j*(abs(D))**0.5\n",
    "x_1 = (-b + D)/(2*a)\n",
    "x_2 = (-b - D)/(2*a)\n",
    "print(x_1) \n",
    "print(x_2)"
   ]
  },
  {
   "cell_type": "code",
   "execution_count": 87,
   "id": "e047059d",
   "metadata": {},
   "outputs": [
    {
     "name": "stdout",
     "output_type": "stream",
     "text": [
      "(-2+0j)\n",
      "(-4+0j)\n"
     ]
    }
   ],
   "source": [
    "a=1\n",
    "b=6\n",
    "c=8\n",
    "D=(b**2-4*a*c)\n",
    "D = (D >= 0)*D**0.5 + (D < 0)*1j*(abs(D))**0.5\n",
    "x_1 = (-b + D)/(2*a)\n",
    "x_2 = (-b - D)/(2*a)\n",
    "print(x_1) \n",
    "print(x_2)"
   ]
  },
  {
   "cell_type": "code",
   "execution_count": 88,
   "id": "8144f0fc",
   "metadata": {},
   "outputs": [
    {
     "name": "stdout",
     "output_type": "stream",
     "text": [
      "(-1+0j)\n",
      "(-3+0j)\n"
     ]
    }
   ],
   "source": [
    "a=2\n",
    "b=8\n",
    "c=6\n",
    "D=b**2-4*a*c\n",
    "D=(D>=0)*D**0.5+(D<0)*1j*(abs(D))**0.5\n",
    "X1=(-b+D)/(2*a)\n",
    "X2=(-b-D)/(2*a)\n",
    "print(X1)\n",
    "print(X2)"
   ]
  },
  {
   "cell_type": "markdown",
   "id": "61443816",
   "metadata": {},
   "source": [
    " IF FUNCTION"
   ]
  },
  {
   "cell_type": "raw",
   "id": "e11bda86",
   "metadata": {},
   "source": [
    "if condition:\n",
    "   statement 1\n",
    "   statement 2"
   ]
  },
  {
   "cell_type": "code",
   "execution_count": 89,
   "id": "92456df0",
   "metadata": {},
   "outputs": [
    {
     "name": "stdout",
     "output_type": "stream",
     "text": [
      "-2.0\n",
      "-4.0\n"
     ]
    }
   ],
   "source": [
    "a=1\n",
    "b=6\n",
    "c=8\n",
    "D=(b**2-4*a*c)\n",
    "if D<0:\n",
    "    D=1j*(abs(D))**0.5\n",
    "else:\n",
    "    D=D**0.5\n",
    "x_1=(-b+D)/(2*a)\n",
    "x_2=(-b-D)/(2*a)\n",
    "print(x_1) \n",
    "print(x_2)"
   ]
  },
  {
   "cell_type": "code",
   "execution_count": 90,
   "id": "ec517c76",
   "metadata": {},
   "outputs": [
    {
     "name": "stdout",
     "output_type": "stream",
     "text": [
      "-1.0\n",
      "-1.5\n"
     ]
    }
   ],
   "source": [
    "a=2\n",
    "b=5\n",
    "c=3\n",
    "D=b**2-4*a*c\n",
    "if D<0:\n",
    "     D=D*1j*(abs(D))**0.5\n",
    "else:\n",
    "    D=D**0.5\n",
    "    x1=(-b+D)/(2*a)\n",
    "    x2=(-b-D)/(2*a)\n",
    "print(x1) \n",
    "print(x2)"
   ]
  },
  {
   "cell_type": "code",
   "execution_count": 91,
   "id": "c1944745",
   "metadata": {},
   "outputs": [
    {
     "name": "stdout",
     "output_type": "stream",
     "text": [
      "-2.0\n",
      "-3.0\n"
     ]
    }
   ],
   "source": [
    "a=1\n",
    "b=5\n",
    "c=6\n",
    "D=(b**2-4*a*c)\n",
    "if D<0:\n",
    "    D=1j*(abs(D))**0.5\n",
    "else:\n",
    "    D=D**0.5\n",
    "x_1=(-b+D)/(2*a)\n",
    "x_2=(-b-D)/(2*a)\n",
    "print(x_1) \n",
    "print(x_2)"
   ]
  },
  {
   "cell_type": "code",
   "execution_count": 92,
   "id": "f5b98329",
   "metadata": {},
   "outputs": [
    {
     "name": "stdout",
     "output_type": "stream",
     "text": [
      "-2.0\n",
      "-3.0\n"
     ]
    }
   ],
   "source": [
    "a=1\n",
    "b=5\n",
    "c=6\n",
    "D=(b**2-4*a*c)\n",
    "if D>=0:\n",
    "    D=D**0.5\n",
    "else:\n",
    "    D=1j*(abs(D))**0.5\n",
    "print(x_1) \n",
    "print(x_2)    "
   ]
  },
  {
   "cell_type": "code",
   "execution_count": 93,
   "id": "750440a7",
   "metadata": {},
   "outputs": [
    {
     "name": "stdout",
     "output_type": "stream",
     "text": [
      "1j\n",
      "-1j\n"
     ]
    }
   ],
   "source": [
    "a=1\n",
    "b=0\n",
    "c=1\n",
    "D=(b**2-4*a*c)\n",
    "if D<0:\n",
    "    D=1j*(abs(D))**0.5\n",
    "else:\n",
    "    D=D**0.5\n",
    "x_1=(-b+D)/(2*a)\n",
    "x_2=(-b-D)/(2*a)\n",
    "print(x_1) \n",
    "print(x_2)"
   ]
  },
  {
   "cell_type": "code",
   "execution_count": 94,
   "id": "297b18fe",
   "metadata": {},
   "outputs": [
    {
     "name": "stdout",
     "output_type": "stream",
     "text": [
      "genius\n"
     ]
    }
   ],
   "source": [
    "D = 98\n",
    "if D >= 90:\n",
    "    print(\"genius\")\n",
    "elif D >= 80:\n",
    "    print(\"Excellent\")\n",
    "elif D >= 60:\n",
    "    print(\"pass\")\n",
    "else:\n",
    "    print(\"fail\")"
   ]
  },
  {
   "cell_type": "code",
   "execution_count": 95,
   "id": "89dd41e8",
   "metadata": {},
   "outputs": [
    {
     "name": "stdout",
     "output_type": "stream",
     "text": [
      "bright\n"
     ]
    }
   ],
   "source": [
    "K=72\n",
    "if K>=95:\n",
    "    print('outstanding')\n",
    "elif K>=80:\n",
    "    print('intelligent')\n",
    "elif K>=70:\n",
    "    print('bright')\n",
    "elif K>=60:\n",
    "    print('fair')\n",
    "else:\n",
    "    print('fail')"
   ]
  },
  {
   "cell_type": "code",
   "execution_count": 96,
   "id": "b1eed5b5",
   "metadata": {},
   "outputs": [
    {
     "name": "stdout",
     "output_type": "stream",
     "text": [
      "genius\n"
     ]
    }
   ],
   "source": [
    "D=99\n",
    "if 80>D>=60:\n",
    "    print(\"pass\")\n",
    "elif 90>D>=80:\n",
    "    print(\"excellent\")\n",
    "elif D>=90:\n",
    "    print(\"genius\")\n",
    "else:\n",
    "    print(\"failed\")"
   ]
  },
  {
   "cell_type": "code",
   "execution_count": 97,
   "id": "8d33d724",
   "metadata": {},
   "outputs": [
    {
     "name": "stdout",
     "output_type": "stream",
     "text": [
      "fail\n"
     ]
    }
   ],
   "source": [
    "D = 55\n",
    "if D >= 90:\n",
    "    print(\"genius\")\n",
    "elif D >= 80:\n",
    "    print(\"Excellent\")\n",
    "elif D >= 60:\n",
    "    print(\"pass\")\n",
    "else:\n",
    "    print(\"fail\")"
   ]
  },
  {
   "cell_type": "code",
   "execution_count": 98,
   "id": "6b68b7e9",
   "metadata": {},
   "outputs": [
    {
     "name": "stdout",
     "output_type": "stream",
     "text": [
      "-2.0\n",
      "-4.0\n"
     ]
    }
   ],
   "source": [
    "a=1\n",
    "b=6\n",
    "c=8\n",
    "D=(b**2-4*a*c)\n",
    "if D<0:\n",
    "    D=1j*(abs(D))**0.5\n",
    "else:\n",
    "    D=D**0.5\n",
    "x_1=(-b+D)/(2*a)\n",
    "x_2=(-b-D)/(2*a)\n",
    "print(x_1) \n",
    "print(x_2)"
   ]
  },
  {
   "cell_type": "code",
   "execution_count": 99,
   "id": "edd51753",
   "metadata": {},
   "outputs": [],
   "source": [
    "import math"
   ]
  },
  {
   "cell_type": "code",
   "execution_count": 100,
   "id": "a1a0438a",
   "metadata": {},
   "outputs": [
    {
     "name": "stdout",
     "output_type": "stream",
     "text": [
      "['__doc__', '__loader__', '__name__', '__package__', '__spec__', 'acos', 'acosh', 'asin', 'asinh', 'atan', 'atan2', 'atanh', 'cbrt', 'ceil', 'comb', 'copysign', 'cos', 'cosh', 'degrees', 'dist', 'e', 'erf', 'erfc', 'exp', 'exp2', 'expm1', 'fabs', 'factorial', 'floor', 'fmod', 'frexp', 'fsum', 'gamma', 'gcd', 'hypot', 'inf', 'isclose', 'isfinite', 'isinf', 'isnan', 'isqrt', 'lcm', 'ldexp', 'lgamma', 'log', 'log10', 'log1p', 'log2', 'modf', 'nan', 'nextafter', 'perm', 'pi', 'pow', 'prod', 'radians', 'remainder', 'sin', 'sinh', 'sqrt', 'tan', 'tanh', 'tau', 'trunc', 'ulp']\n"
     ]
    }
   ],
   "source": [
    "print(dir(math))"
   ]
  },
  {
   "cell_type": "code",
   "execution_count": 101,
   "id": "868fee66",
   "metadata": {},
   "outputs": [
    {
     "data": {
      "text/plain": [
       "5.0"
      ]
     },
     "execution_count": 101,
     "metadata": {},
     "output_type": "execute_result"
    }
   ],
   "source": [
    "math.sqrt(25)"
   ]
  },
  {
   "cell_type": "code",
   "execution_count": 102,
   "id": "ebd2e551",
   "metadata": {},
   "outputs": [
    {
     "data": {
      "text/plain": [
       "1.0"
      ]
     },
     "execution_count": 102,
     "metadata": {},
     "output_type": "execute_result"
    }
   ],
   "source": [
    "math.sin(math.pi/2)"
   ]
  },
  {
   "cell_type": "code",
   "execution_count": 103,
   "id": "d6ea709b",
   "metadata": {},
   "outputs": [
    {
     "data": {
      "text/plain": [
       "1.0"
      ]
     },
     "execution_count": 103,
     "metadata": {},
     "output_type": "execute_result"
    }
   ],
   "source": [
    "math.sin(math.radians(90))"
   ]
  },
  {
   "cell_type": "code",
   "execution_count": 104,
   "id": "679c1b61",
   "metadata": {},
   "outputs": [],
   "source": [
    "math.radians?"
   ]
  },
  {
   "cell_type": "code",
   "execution_count": 105,
   "id": "a685c5a8",
   "metadata": {},
   "outputs": [],
   "source": [
    "math.pi?"
   ]
  },
  {
   "cell_type": "code",
   "execution_count": 106,
   "id": "9982d432",
   "metadata": {},
   "outputs": [],
   "source": [
    "import cmath as cm"
   ]
  },
  {
   "cell_type": "code",
   "execution_count": 107,
   "id": "7a59626a",
   "metadata": {},
   "outputs": [
    {
     "name": "stdout",
     "output_type": "stream",
     "text": [
      "['__doc__', '__loader__', '__name__', '__package__', '__spec__', 'acos', 'acosh', 'asin', 'asinh', 'atan', 'atanh', 'cos', 'cosh', 'e', 'exp', 'inf', 'infj', 'isclose', 'isfinite', 'isinf', 'isnan', 'log', 'log10', 'nan', 'nanj', 'phase', 'pi', 'polar', 'rect', 'sin', 'sinh', 'sqrt', 'tan', 'tanh', 'tau']\n"
     ]
    }
   ],
   "source": [
    "print(dir(cm))"
   ]
  },
  {
   "cell_type": "code",
   "execution_count": 108,
   "id": "ae1eb850",
   "metadata": {},
   "outputs": [
    {
     "data": {
      "text/plain": [
       "5j"
      ]
     },
     "execution_count": 108,
     "metadata": {},
     "output_type": "execute_result"
    }
   ],
   "source": [
    "cm.sqrt(-25)"
   ]
  },
  {
   "cell_type": "code",
   "execution_count": 109,
   "id": "f10bd804",
   "metadata": {},
   "outputs": [
    {
     "data": {
      "text/plain": [
       "(54.598150033144236+0j)"
      ]
     },
     "execution_count": 109,
     "metadata": {},
     "output_type": "execute_result"
    }
   ],
   "source": [
    "cm.exp(4)"
   ]
  },
  {
   "cell_type": "code",
   "execution_count": 110,
   "id": "ad82edfb",
   "metadata": {},
   "outputs": [
    {
     "data": {
      "text/plain": [
       "(0.01831563888873418+0j)"
      ]
     },
     "execution_count": 110,
     "metadata": {},
     "output_type": "execute_result"
    }
   ],
   "source": [
    "cm.exp(-4)"
   ]
  },
  {
   "cell_type": "code",
   "execution_count": 111,
   "id": "5487f2c1",
   "metadata": {},
   "outputs": [
    {
     "data": {
      "text/plain": [
       "(5+0j)"
      ]
     },
     "execution_count": 111,
     "metadata": {},
     "output_type": "execute_result"
    }
   ],
   "source": [
    "cm.sqrt(25)"
   ]
  },
  {
   "cell_type": "code",
   "execution_count": 112,
   "id": "d807bef5",
   "metadata": {},
   "outputs": [],
   "source": [
    "from math import sqrt,cos,pi"
   ]
  },
  {
   "cell_type": "code",
   "execution_count": 113,
   "id": "897505b5",
   "metadata": {},
   "outputs": [
    {
     "data": {
      "text/plain": [
       "5.0"
      ]
     },
     "execution_count": 113,
     "metadata": {},
     "output_type": "execute_result"
    }
   ],
   "source": [
    "sqrt(25)"
   ]
  },
  {
   "cell_type": "code",
   "execution_count": 114,
   "id": "26235c09",
   "metadata": {},
   "outputs": [
    {
     "data": {
      "text/plain": [
       "0.5000000000000001"
      ]
     },
     "execution_count": 114,
     "metadata": {},
     "output_type": "execute_result"
    }
   ],
   "source": [
    "cos(pi/3)"
   ]
  },
  {
   "cell_type": "code",
   "execution_count": 115,
   "id": "25424036",
   "metadata": {},
   "outputs": [],
   "source": [
    "##Defining terms"
   ]
  },
  {
   "cell_type": "code",
   "execution_count": 116,
   "id": "91ceb1d0",
   "metadata": {},
   "outputs": [],
   "source": [
    "def add(a,b):\n",
    "    c=a+b\n",
    "    return c"
   ]
  },
  {
   "cell_type": "code",
   "execution_count": 117,
   "id": "31b1af17",
   "metadata": {},
   "outputs": [
    {
     "data": {
      "text/plain": [
       "100009"
      ]
     },
     "execution_count": 117,
     "metadata": {},
     "output_type": "execute_result"
    }
   ],
   "source": [
    "add(10,99999)"
   ]
  },
  {
   "cell_type": "code",
   "execution_count": 118,
   "id": "17243229",
   "metadata": {},
   "outputs": [
    {
     "name": "stdout",
     "output_type": "stream",
     "text": [
      "78\n"
     ]
    }
   ],
   "source": [
    "k=add(12,66)\n",
    "print(k)"
   ]
  },
  {
   "cell_type": "code",
   "execution_count": 119,
   "id": "5150aedd",
   "metadata": {},
   "outputs": [],
   "source": [
    "def add2(var1,var2):\n",
    "    var3=var1+var2\n",
    "    return var3"
   ]
  },
  {
   "cell_type": "code",
   "execution_count": 120,
   "id": "3074ff86",
   "metadata": {},
   "outputs": [
    {
     "data": {
      "text/plain": [
       "78"
      ]
     },
     "execution_count": 120,
     "metadata": {},
     "output_type": "execute_result"
    }
   ],
   "source": [
    "add2(12,66)"
   ]
  },
  {
   "cell_type": "code",
   "execution_count": 121,
   "id": "23d0324e",
   "metadata": {},
   "outputs": [
    {
     "name": "stdout",
     "output_type": "stream",
     "text": [
      "78\n"
     ]
    }
   ],
   "source": [
    "h=add2(12,66)\n",
    "print(h)"
   ]
  },
  {
   "cell_type": "code",
   "execution_count": 122,
   "id": "5b52e842",
   "metadata": {},
   "outputs": [],
   "source": [
    "def quadroots(a,b,c):\n",
    "    D = b**2 - 4*a*c\n",
    "    if D > 0:\n",
    "        from math import sqrt\n",
    "        D = sqrt(D)\n",
    "    elif D == 0:\n",
    "        return -b/(2*a)\n",
    "    else:\n",
    "        from cmath import sqrt\n",
    "        D = sqrt(D)\n",
    "    x_1 = (-b + D)/(2*a)\n",
    "    x_2 = (-b - D)/(2*a)\n",
    "    return x_1,x_2"
   ]
  },
  {
   "cell_type": "code",
   "execution_count": 123,
   "id": "14ba4f61",
   "metadata": {},
   "outputs": [
    {
     "data": {
      "text/plain": [
       "((-0.75+1.1989578808281798j), (-0.75-1.1989578808281798j))"
      ]
     },
     "execution_count": 123,
     "metadata": {},
     "output_type": "execute_result"
    }
   ],
   "source": [
    "quadroots(2,3,4)"
   ]
  },
  {
   "cell_type": "code",
   "execution_count": 124,
   "id": "caa4c16c",
   "metadata": {},
   "outputs": [],
   "source": [
    "def quadroots(a,b,c):\n",
    "    D=b**2-4*a*c\n",
    "    if D>0:\n",
    "        from math import sqrt\n",
    "        D=sqrt(D)\n",
    "        \n",
    "    elif D==0:\n",
    "        return -b/(2*a)\n",
    "    else:\n",
    "        from cmath import sqrt\n",
    "    x_1=(-b-D)/(2*a)\n",
    "    x_2=(-b+D)/(2*a)\n",
    "    return x_1,x_2"
   ]
  },
  {
   "cell_type": "code",
   "execution_count": 125,
   "id": "66d55460",
   "metadata": {},
   "outputs": [
    {
     "data": {
      "text/plain": [
       "(5.0, -6.5)"
      ]
     },
     "execution_count": 125,
     "metadata": {},
     "output_type": "execute_result"
    }
   ],
   "source": [
    "quadroots(2,3,4)"
   ]
  },
  {
   "cell_type": "code",
   "execution_count": 126,
   "id": "3180ecd6",
   "metadata": {},
   "outputs": [],
   "source": [
    "def f(x):\n",
    "    from math import sin, cos\n",
    "    if x < -2:\n",
    "        return x**2\n",
    "    elif -2 <= x <= 5:\n",
    "        return sin(x)\n",
    "    else:\n",
    "        return cos(3*x)\n",
    "    "
   ]
  },
  {
   "cell_type": "code",
   "execution_count": 127,
   "id": "d28b23a4",
   "metadata": {},
   "outputs": [
    {
     "data": {
      "text/plain": [
       "-0.9092974268256817"
      ]
     },
     "execution_count": 127,
     "metadata": {},
     "output_type": "execute_result"
    }
   ],
   "source": [
    "f(-2)"
   ]
  },
  {
   "cell_type": "code",
   "execution_count": 128,
   "id": "8fa63ebd",
   "metadata": {},
   "outputs": [],
   "source": [
    "import math"
   ]
  },
  {
   "cell_type": "code",
   "execution_count": 129,
   "id": "1d91f787",
   "metadata": {},
   "outputs": [
    {
     "data": {
      "text/plain": [
       "0.15425144988758405"
      ]
     },
     "execution_count": 129,
     "metadata": {},
     "output_type": "execute_result"
    }
   ],
   "source": [
    "math.cos(30)"
   ]
  },
  {
   "cell_type": "code",
   "execution_count": 130,
   "id": "ace35e63",
   "metadata": {},
   "outputs": [
    {
     "data": {
      "text/plain": [
       "0.15425144988758405"
      ]
     },
     "execution_count": 130,
     "metadata": {},
     "output_type": "execute_result"
    }
   ],
   "source": [
    "f(10)"
   ]
  },
  {
   "cell_type": "code",
   "execution_count": 131,
   "id": "3061648d",
   "metadata": {},
   "outputs": [],
   "source": [
    "def trapz(f,a,b):\n",
    "    return (b-a)/2*(f(a)+f(b))\n",
    "def g(x):\n",
    "    return 3*x"
   ]
  },
  {
   "cell_type": "code",
   "execution_count": 132,
   "id": "a4a36396",
   "metadata": {},
   "outputs": [
    {
     "data": {
      "text/plain": [
       "-0.8178042666032712"
      ]
     },
     "execution_count": 132,
     "metadata": {},
     "output_type": "execute_result"
    }
   ],
   "source": [
    "trapz(f,3,5)"
   ]
  },
  {
   "cell_type": "code",
   "execution_count": 133,
   "id": "a4d44b57",
   "metadata": {},
   "outputs": [
    {
     "data": {
      "text/plain": [
       "0.42073549240394825"
      ]
     },
     "execution_count": 133,
     "metadata": {},
     "output_type": "execute_result"
    }
   ],
   "source": [
    "trapz(f,0,1)"
   ]
  },
  {
   "cell_type": "code",
   "execution_count": 134,
   "id": "d57cd999",
   "metadata": {},
   "outputs": [
    {
     "data": {
      "text/plain": [
       "1.5"
      ]
     },
     "execution_count": 134,
     "metadata": {},
     "output_type": "execute_result"
    }
   ],
   "source": [
    "trapz(g,0,1)"
   ]
  },
  {
   "cell_type": "code",
   "execution_count": 135,
   "id": "af77c79c",
   "metadata": {},
   "outputs": [
    {
     "data": {
      "text/plain": [
       "6"
      ]
     },
     "execution_count": 135,
     "metadata": {},
     "output_type": "execute_result"
    }
   ],
   "source": [
    "g(2)"
   ]
  },
  {
   "cell_type": "code",
   "execution_count": 136,
   "id": "316173de",
   "metadata": {},
   "outputs": [],
   "source": [
    "def f(x):\n",
    "    from math import cos\n",
    "    return cos(x)"
   ]
  },
  {
   "cell_type": "code",
   "execution_count": 137,
   "id": "314206d9",
   "metadata": {},
   "outputs": [
    {
     "data": {
      "text/plain": [
       "0.7701511529340699"
      ]
     },
     "execution_count": 137,
     "metadata": {},
     "output_type": "execute_result"
    }
   ],
   "source": [
    "trapz(f,0,1)"
   ]
  },
  {
   "cell_type": "code",
   "execution_count": 138,
   "id": "0c7f83ce",
   "metadata": {},
   "outputs": [
    {
     "data": {
      "text/plain": [
       "-0.7030696665737939"
      ]
     },
     "execution_count": 138,
     "metadata": {},
     "output_type": "execute_result"
    }
   ],
   "source": [
    "trapz(f,2,3)"
   ]
  },
  {
   "cell_type": "code",
   "execution_count": 139,
   "id": "b261fe9b",
   "metadata": {},
   "outputs": [],
   "source": [
    "h = lambda x: 3*x"
   ]
  },
  {
   "cell_type": "code",
   "execution_count": 140,
   "id": "ede817b8",
   "metadata": {},
   "outputs": [
    {
     "data": {
      "text/plain": [
       "1.5"
      ]
     },
     "execution_count": 140,
     "metadata": {},
     "output_type": "execute_result"
    }
   ],
   "source": [
    "trapz(lambda x: 3*x, 0, 1)"
   ]
  },
  {
   "cell_type": "code",
   "execution_count": 141,
   "id": "c7489d09",
   "metadata": {},
   "outputs": [
    {
     "data": {
      "text/plain": [
       "1.5"
      ]
     },
     "execution_count": 141,
     "metadata": {},
     "output_type": "execute_result"
    }
   ],
   "source": [
    "trapz(lambda x: 1.5, 0, 1)"
   ]
  },
  {
   "cell_type": "code",
   "execution_count": 142,
   "id": "c4a633f0",
   "metadata": {},
   "outputs": [],
   "source": [
    "from math import sin, cos, pi"
   ]
  },
  {
   "cell_type": "code",
   "execution_count": 143,
   "id": "34a35075",
   "metadata": {},
   "outputs": [
    {
     "data": {
      "text/plain": [
       "0.4546487134128409"
      ]
     },
     "execution_count": 143,
     "metadata": {},
     "output_type": "execute_result"
    }
   ],
   "source": [
    "trapz(lambda x:2*sin(x)*cos(x),0,1)"
   ]
  },
  {
   "cell_type": "code",
   "execution_count": 144,
   "id": "41a6624f",
   "metadata": {},
   "outputs": [],
   "source": [
    "import math"
   ]
  },
  {
   "cell_type": "code",
   "execution_count": 145,
   "id": "a4b9fb95",
   "metadata": {},
   "outputs": [],
   "source": [
    "from math import sin,cos,pi"
   ]
  },
  {
   "cell_type": "code",
   "execution_count": 146,
   "id": "4fa4674a",
   "metadata": {},
   "outputs": [],
   "source": [
    "def trapz(a,b):\n",
    "    trapz(lambda x:2*sin(x)*cos(x))"
   ]
  },
  {
   "cell_type": "code",
   "execution_count": null,
   "id": "67db8956",
   "metadata": {},
   "outputs": [],
   "source": []
  },
  {
   "cell_type": "raw",
   "id": "f7a11903",
   "metadata": {},
   "source": []
  },
  {
   "cell_type": "code",
   "execution_count": 249,
   "id": "d7a8eb89",
   "metadata": {},
   "outputs": [],
   "source": [
    "trapz2 = lambda f, a, b: (b-a)/2*(f(a)+f(b))"
   ]
  },
  {
   "cell_type": "code",
   "execution_count": 250,
   "id": "e60ea375",
   "metadata": {},
   "outputs": [
    {
     "data": {
      "text/plain": [
       "1.5"
      ]
     },
     "execution_count": 250,
     "metadata": {},
     "output_type": "execute_result"
    }
   ],
   "source": [
    "trapz2(g,0,1)"
   ]
  },
  {
   "cell_type": "code",
   "execution_count": 251,
   "id": "9e671a6e",
   "metadata": {},
   "outputs": [
    {
     "ename": "TypeError",
     "evalue": "trapz() takes 2 positional arguments but 3 were given",
     "output_type": "error",
     "traceback": [
      "\u001b[0;31m---------------------------------------------------------------------------\u001b[0m",
      "\u001b[0;31mTypeError\u001b[0m                                 Traceback (most recent call last)",
      "Cell \u001b[0;32mIn [251], line 1\u001b[0m\n\u001b[0;32m----> 1\u001b[0m \u001b[43mtrapz\u001b[49m\u001b[43m(\u001b[49m\u001b[38;5;28;43;01mlambda\u001b[39;49;00m\u001b[43m \u001b[49m\u001b[43mx\u001b[49m\u001b[43m:\u001b[49m\u001b[43m \u001b[49m\u001b[38;5;241;43m5\u001b[39;49m\u001b[43m,\u001b[49m\u001b[43m \u001b[49m\u001b[38;5;241;43m0\u001b[39;49m\u001b[43m,\u001b[49m\u001b[43m \u001b[49m\u001b[38;5;241;43m1\u001b[39;49m\u001b[43m)\u001b[49m\n",
      "\u001b[0;31mTypeError\u001b[0m: trapz() takes 2 positional arguments but 3 were given"
     ]
    }
   ],
   "source": [
    "trapz(lambda x: 5, 0, 1)"
   ]
  },
  {
   "cell_type": "code",
   "execution_count": 252,
   "id": "7f6ff415",
   "metadata": {},
   "outputs": [],
   "source": [
    "trapz2 = lambda func,a,b: (b-a)/2*(func(a)+func(b))"
   ]
  },
  {
   "cell_type": "code",
   "execution_count": 253,
   "id": "cead6171",
   "metadata": {},
   "outputs": [
    {
     "data": {
      "text/plain": [
       "4.5"
      ]
     },
     "execution_count": 253,
     "metadata": {},
     "output_type": "execute_result"
    }
   ],
   "source": [
    "trapz2(g,1,2)"
   ]
  },
  {
   "cell_type": "code",
   "execution_count": null,
   "id": "1fe4389a",
   "metadata": {},
   "outputs": [],
   "source": [
    "def circarea(R):\n",
    "    from math import pi\n",
    "    return pi*R**2"
   ]
  },
  {
   "cell_type": "code",
   "execution_count": null,
   "id": "6581dcfd",
   "metadata": {},
   "outputs": [],
   "source": [
    "circarea(2)"
   ]
  },
  {
   "cell_type": "code",
   "execution_count": null,
   "id": "884a8bda",
   "metadata": {},
   "outputs": [],
   "source": [
    "circarea(1)"
   ]
  },
  {
   "cell_type": "code",
   "execution_count": null,
   "id": "59a1b29b",
   "metadata": {},
   "outputs": [],
   "source": [
    "def Lintersect(m_1,c_1,m_2,c_2):\n",
    "    x = (c_2-c_1)/(m_1-m_2)\n",
    "    y = m_1*x+c_1\n",
    "    if m_1 != m_2:\n",
    "        return x,y"
   ]
  },
  {
   "cell_type": "code",
   "execution_count": null,
   "id": "516be3b5",
   "metadata": {},
   "outputs": [],
   "source": [
    "Lintersect(1,-1,-2,2)"
   ]
  },
  {
   "cell_type": "code",
   "execution_count": null,
   "id": "cd9f984b",
   "metadata": {},
   "outputs": [],
   "source": [
    "Lintersect(2,3,4,5)"
   ]
  },
  {
   "cell_type": "code",
   "execution_count": null,
   "id": "61a8ee83",
   "metadata": {},
   "outputs": [],
   "source": [
    "def Lintersect(m_1,c_1,m_2,c_2):\n",
    "    x = (c_2-c_1)/(m_1-m_2)\n",
    "    y = m_1*x+c_1\n",
    "    if m_1 != m_2:\n",
    "         return x,y\n",
    "    if m_1 == m_2 and c_1 == c_2:\n",
    "         return \"Lintersect everywhere\"\n",
    "    else:\n",
    "         return \"parallel\""
   ]
  },
  {
   "cell_type": "code",
   "execution_count": null,
   "id": "8a10c37f",
   "metadata": {},
   "outputs": [],
   "source": [
    "Lintersect(1,-1,-2,2)"
   ]
  },
  {
   "cell_type": "code",
   "execution_count": null,
   "id": "cfcde4fb",
   "metadata": {},
   "outputs": [],
   "source": [
    "Lintersect(2,3,4,5)"
   ]
  },
  {
   "cell_type": "code",
   "execution_count": null,
   "id": "2372fde7",
   "metadata": {},
   "outputs": [],
   "source": [
    "\n",
    "def Lintersect(m1, c1, m2, c2):\n",
    "    if (m1==m2) and (c1!=c2):\n",
    "        return \"parallel\"\n",
    "    if (m1==m2) and (c1==c2):\n",
    "        return \"everywhere\"    \n",
    "    else:\n",
    "        x=(c1-c2)/(m2-m1)\n",
    "        y=m1*x+c1\n",
    "        return x,y"
   ]
  },
  {
   "cell_type": "code",
   "execution_count": null,
   "id": "a71602d8",
   "metadata": {},
   "outputs": [],
   "source": [
    "Lintersect(1,2,3,4)"
   ]
  },
  {
   "cell_type": "code",
   "execution_count": null,
   "id": "7e28beab",
   "metadata": {},
   "outputs": [],
   "source": [
    "def add(a,b):\n",
    "    a=1\n",
    "    b=3\n",
    "    c=a+b\n",
    "    return c"
   ]
  },
  {
   "cell_type": "code",
   "execution_count": null,
   "id": "4e273336",
   "metadata": {},
   "outputs": [],
   "source": [
    "add(1,3)"
   ]
  },
  {
   "cell_type": "code",
   "execution_count": null,
   "id": "e418d899",
   "metadata": {},
   "outputs": [],
   "source": [
    "fact5=5*4*3*2*1"
   ]
  },
  {
   "cell_type": "code",
   "execution_count": null,
   "id": "b86a473a",
   "metadata": {},
   "outputs": [],
   "source": [
    "fact5"
   ]
  },
  {
   "cell_type": "code",
   "execution_count": null,
   "id": "756fb7a2",
   "metadata": {},
   "outputs": [],
   "source": [
    "n=5\n",
    "val=1\n",
    "res=1\n",
    "while val <= n:\n",
    "    res *= val\n",
    "    val += 1\n",
    "res"
   ]
  },
  {
   "cell_type": "code",
   "execution_count": null,
   "id": "707813a1",
   "metadata": {},
   "outputs": [],
   "source": [
    "n=7\n",
    "val=1\n",
    "res=1\n",
    "while val <= n:\n",
    "    res *= val\n",
    "    val += 1\n",
    "res"
   ]
  },
  {
   "cell_type": "code",
   "execution_count": null,
   "id": "18ad5163",
   "metadata": {},
   "outputs": [],
   "source": [
    "res"
   ]
  },
  {
   "cell_type": "code",
   "execution_count": null,
   "id": "f452abcf",
   "metadata": {},
   "outputs": [],
   "source": [
    "n=6\n",
    "val=1\n",
    "res=1\n",
    "while val<=n:\n",
    "    res*=val\n",
    "    val+=1\n",
    "\n",
    "res"
   ]
  },
  {
   "cell_type": "code",
   "execution_count": null,
   "id": "912c4649",
   "metadata": {},
   "outputs": [],
   "source": [
    "def fact(n):\n",
    "    if n < 2:\n",
    "        return 1\n",
    "    else:\n",
    "        return n * fact(n-1)"
   ]
  },
  {
   "cell_type": "code",
   "execution_count": null,
   "id": "62b3e2c2",
   "metadata": {},
   "outputs": [],
   "source": [
    "fact(5)"
   ]
  },
  {
   "cell_type": "code",
   "execution_count": null,
   "id": "7ba789c2",
   "metadata": {},
   "outputs": [],
   "source": [
    "def fact(n):\n",
    "    if n < 3:\n",
    "        return 2*1\n",
    "    else:\n",
    "        return n * fact(n-1)"
   ]
  },
  {
   "cell_type": "code",
   "execution_count": null,
   "id": "8b57e26c",
   "metadata": {},
   "outputs": [],
   "source": [
    "fact(6)"
   ]
  },
  {
   "cell_type": "code",
   "execution_count": null,
   "id": "6f61a637",
   "metadata": {},
   "outputs": [],
   "source": [
    "# factorial expression"
   ]
  },
  {
   "cell_type": "code",
   "execution_count": null,
   "id": "e36668eb",
   "metadata": {},
   "outputs": [],
   "source": [
    "def fact(n):\n",
    "    if n==0:\n",
    "        return 1\n",
    "    elif n<0 or n!=int(n):\n",
    "        return\n",
    "    else:\n",
    "        val=1\n",
    "        res=1\n",
    "    while val<=n:\n",
    "        res*=val\n",
    "        val+=1\n",
    "    return res"
   ]
  },
  {
   "cell_type": "code",
   "execution_count": null,
   "id": "7ca9de96",
   "metadata": {},
   "outputs": [],
   "source": [
    "fact(5)"
   ]
  },
  {
   "cell_type": "code",
   "execution_count": null,
   "id": "25abe962",
   "metadata": {},
   "outputs": [],
   "source": [
    "print(_)"
   ]
  },
  {
   "cell_type": "code",
   "execution_count": null,
   "id": "5a09ac19",
   "metadata": {},
   "outputs": [],
   "source": [
    "def fact2(n):\n",
    "    if n==0:\n",
    "        return 1\n",
    "    elif n<0 or n!=int(n):\n",
    "        return\n",
    "    else:\n",
    "        val=1\n",
    "        res=1\n",
    "    while val<=n:\n",
    "        res*=val\n",
    "        val+=1\n",
    "    return res"
   ]
  },
  {
   "cell_type": "code",
   "execution_count": null,
   "id": "0b733edb",
   "metadata": {},
   "outputs": [],
   "source": [
    "fact2(-5)"
   ]
  },
  {
   "cell_type": "code",
   "execution_count": null,
   "id": "d969d073",
   "metadata": {},
   "outputs": [],
   "source": [
    "fact2(5)"
   ]
  },
  {
   "cell_type": "code",
   "execution_count": null,
   "id": "c12cc6c4",
   "metadata": {},
   "outputs": [],
   "source": [
    "int(3.5)"
   ]
  },
  {
   "cell_type": "code",
   "execution_count": null,
   "id": "d7fa0f11",
   "metadata": {},
   "outputs": [],
   "source": [
    "float(3)"
   ]
  },
  {
   "cell_type": "code",
   "execution_count": null,
   "id": "d3d0ecc8",
   "metadata": {},
   "outputs": [],
   "source": [
    "str(65)"
   ]
  },
  {
   "cell_type": "code",
   "execution_count": null,
   "id": "17994f13",
   "metadata": {},
   "outputs": [],
   "source": [
    "isinstance(3.0,int)"
   ]
  },
  {
   "cell_type": "code",
   "execution_count": null,
   "id": "2594c320",
   "metadata": {},
   "outputs": [],
   "source": [
    "isinstance(3.0,str)"
   ]
  },
  {
   "cell_type": "code",
   "execution_count": null,
   "id": "844e6786",
   "metadata": {},
   "outputs": [],
   "source": [
    "isinstance(3.0,float)"
   ]
  },
  {
   "cell_type": "code",
   "execution_count": null,
   "id": "25ce7413",
   "metadata": {},
   "outputs": [],
   "source": [
    "isinstance(3,int)"
   ]
  },
  {
   "cell_type": "code",
   "execution_count": null,
   "id": "3ebd9a48",
   "metadata": {},
   "outputs": [],
   "source": [
    "def ap(a,d,term):\n",
    "    n = 1\n",
    "    while n<=term:\n",
    "        x = a+ (n-1)* d\n",
    "        n+=1\n",
    "        print(x,end=' ')  "
   ]
  },
  {
   "cell_type": "code",
   "execution_count": null,
   "id": "d585804e",
   "metadata": {},
   "outputs": [],
   "source": [
    "ap(5,3,6)"
   ]
  },
  {
   "cell_type": "code",
   "execution_count": null,
   "id": "57dec11f",
   "metadata": {},
   "outputs": [],
   "source": [
    "ap(3,5,8)"
   ]
  },
  {
   "cell_type": "code",
   "execution_count": null,
   "id": "fae7518b",
   "metadata": {},
   "outputs": [],
   "source": [
    "def ap(a,d,term):\n",
    "    n=1\n",
    "    while n<=term:\n",
    "        x=a+(n-1)*d\n",
    "        x+=1\n",
    "        print(x)       "
   ]
  },
  {
   "cell_type": "code",
   "execution_count": 150,
   "id": "e994f646",
   "metadata": {},
   "outputs": [
    {
     "ename": "NameError",
     "evalue": "name 'ap' is not defined",
     "output_type": "error",
     "traceback": [
      "\u001b[0;31m---------------------------------------------------------------------------\u001b[0m",
      "\u001b[0;31mNameError\u001b[0m                                 Traceback (most recent call last)",
      "Cell \u001b[0;32mIn [150], line 1\u001b[0m\n\u001b[0;32m----> 1\u001b[0m \u001b[43map\u001b[49m(\u001b[38;5;241m3\u001b[39m,\u001b[38;5;241m2\u001b[39m,\u001b[38;5;241m8\u001b[39m)\n",
      "\u001b[0;31mNameError\u001b[0m: name 'ap' is not defined"
     ]
    }
   ],
   "source": [
    "ap(3,2,8)"
   ]
  },
  {
   "cell_type": "code",
   "execution_count": null,
   "id": "476e2c16",
   "metadata": {},
   "outputs": [],
   "source": [
    "x =1\n",
    "while x <= 7:\n",
    "    x= x+1\n",
    "    print(x,end=' ')"
   ]
  },
  {
   "cell_type": "code",
   "execution_count": null,
   "id": "77e5dcbb",
   "metadata": {},
   "outputs": [],
   "source": [
    "x =2\n",
    "while x <= 9:\n",
    "    x+=1\n",
    "    print(x,end='  ')"
   ]
  },
  {
   "cell_type": "code",
   "execution_count": null,
   "id": "5f220a29",
   "metadata": {},
   "outputs": [],
   "source": [
    "def round2(x):\n",
    "    from math import modf\n",
    "    x="
   ]
  },
  {
   "cell_type": "code",
   "execution_count": null,
   "id": "58fe42aa",
   "metadata": {},
   "outputs": [],
   "source": [
    "def ap(start,d,n):\n",
    "    i=0\n",
    "    while i<n:\n",
    "        i+=1\n",
    "    print (start+i*d)"
   ]
  },
  {
   "cell_type": "code",
   "execution_count": null,
   "id": "eb501e4f",
   "metadata": {},
   "outputs": [],
   "source": [
    "ap(5,3,6)"
   ]
  },
  {
   "cell_type": "code",
   "execution_count": null,
   "id": "7d169d89",
   "metadata": {},
   "outputs": [],
   "source": [
    "def ap(start,d,n):\n",
    "    i=0\n",
    "    while i<n:\n",
    "        print (start+i*d)\n",
    "        i+=1"
   ]
  },
  {
   "cell_type": "code",
   "execution_count": null,
   "id": "23c0400a",
   "metadata": {},
   "outputs": [],
   "source": [
    "ap(3,6,4)"
   ]
  },
  {
   "cell_type": "code",
   "execution_count": null,
   "id": "fe31b786",
   "metadata": {},
   "outputs": [],
   "source": [
    "def ap(start,d,n):\n",
    "    i=1\n",
    "    res=[start]\n",
    "    while i<n:\n",
    "        res.append(start+i*d)\n",
    "        i+=1\n",
    "        return res"
   ]
  },
  {
   "cell_type": "code",
   "execution_count": null,
   "id": "01d77639",
   "metadata": {
    "scrolled": true
   },
   "outputs": [],
   "source": [
    "ap(5,3,6)"
   ]
  },
  {
   "cell_type": "code",
   "execution_count": 151,
   "id": "177e6efb",
   "metadata": {},
   "outputs": [],
   "source": [
    "def ap(start,d,n):\n",
    "    i=1\n",
    "    res=[start]\n",
    "    while i<n:\n",
    "        res.append(start+i*d)\n",
    "        i+=1\n",
    "    return res"
   ]
  },
  {
   "cell_type": "code",
   "execution_count": 152,
   "id": "441e4c7c",
   "metadata": {},
   "outputs": [
    {
     "data": {
      "text/plain": [
       "[1, 6, 11, 16, 21, 26, 31]"
      ]
     },
     "execution_count": 152,
     "metadata": {},
     "output_type": "execute_result"
    }
   ],
   "source": [
    "ap(1,5,7)"
   ]
  },
  {
   "cell_type": "code",
   "execution_count": 153,
   "id": "36b9008f",
   "metadata": {},
   "outputs": [],
   "source": [
    "def ap2(start,d,n):\n",
    "    i=1\n",
    "    res=[start]\n",
    "    while i<n:\n",
    "        res.append(start+i*d)\n",
    "        i+=1\n",
    "    return res"
   ]
  },
  {
   "cell_type": "code",
   "execution_count": 154,
   "id": "70a6d348",
   "metadata": {},
   "outputs": [],
   "source": [
    "myseq=ap2(1,5,12)"
   ]
  },
  {
   "cell_type": "code",
   "execution_count": 155,
   "id": "eaabd75c",
   "metadata": {},
   "outputs": [
    {
     "data": {
      "text/plain": [
       "[1, 6, 11, 16, 21, 26, 31, 36, 41, 46, 51, 56]"
      ]
     },
     "execution_count": 155,
     "metadata": {},
     "output_type": "execute_result"
    }
   ],
   "source": [
    "myseq"
   ]
  },
  {
   "cell_type": "code",
   "execution_count": 156,
   "id": "647d9bf8",
   "metadata": {},
   "outputs": [
    {
     "data": {
      "text/plain": [
       "6"
      ]
     },
     "execution_count": 156,
     "metadata": {},
     "output_type": "execute_result"
    }
   ],
   "source": [
    "myseq[1]"
   ]
  },
  {
   "cell_type": "code",
   "execution_count": 157,
   "id": "67dcc335",
   "metadata": {},
   "outputs": [
    {
     "data": {
      "text/plain": [
       "31"
      ]
     },
     "execution_count": 157,
     "metadata": {},
     "output_type": "execute_result"
    }
   ],
   "source": [
    "myseq[6]"
   ]
  },
  {
   "cell_type": "code",
   "execution_count": 158,
   "id": "92c23c3b",
   "metadata": {},
   "outputs": [
    {
     "data": {
      "text/plain": [
       "12"
      ]
     },
     "execution_count": 158,
     "metadata": {},
     "output_type": "execute_result"
    }
   ],
   "source": [
    "len(myseq)"
   ]
  },
  {
   "cell_type": "code",
   "execution_count": 159,
   "id": "2b3d9802",
   "metadata": {},
   "outputs": [
    {
     "data": {
      "text/plain": [
       "51"
      ]
     },
     "execution_count": 159,
     "metadata": {},
     "output_type": "execute_result"
    }
   ],
   "source": [
    "myseq[len(myseq)-2]"
   ]
  },
  {
   "cell_type": "code",
   "execution_count": 160,
   "id": "9441c4d3",
   "metadata": {},
   "outputs": [
    {
     "data": {
      "text/plain": [
       "56"
      ]
     },
     "execution_count": 160,
     "metadata": {},
     "output_type": "execute_result"
    }
   ],
   "source": [
    "myseq[-1]"
   ]
  },
  {
   "cell_type": "code",
   "execution_count": 161,
   "id": "188d10fb",
   "metadata": {},
   "outputs": [
    {
     "data": {
      "text/plain": [
       "[1, 6, 11, 16, 21, 26, 31, 36, 41, 46, 51, 56]"
      ]
     },
     "execution_count": 161,
     "metadata": {},
     "output_type": "execute_result"
    }
   ],
   "source": [
    "myseq"
   ]
  },
  {
   "cell_type": "code",
   "execution_count": 162,
   "id": "e5bbafed",
   "metadata": {},
   "outputs": [
    {
     "data": {
      "text/plain": [
       "36"
      ]
     },
     "execution_count": 162,
     "metadata": {},
     "output_type": "execute_result"
    }
   ],
   "source": [
    "myseq[-5]"
   ]
  },
  {
   "cell_type": "code",
   "execution_count": 163,
   "id": "6394ddaf",
   "metadata": {},
   "outputs": [],
   "source": [
    "def ap(start,d,n):\n",
    "    i=0\n",
    "    res=[]\n",
    "    while i<n:\n",
    "        res.append(start+i*d)\n",
    "        i+=1\n",
    "    return res"
   ]
  },
  {
   "cell_type": "code",
   "execution_count": 164,
   "id": "bf8235ac",
   "metadata": {},
   "outputs": [],
   "source": [
    "def aps(start,d,stop):\n",
    "    res=ap(start,d,stop)\n",
    "    n=int((stop-start)/d)+1\n",
    "    return ap(start,d,n)"
   ]
  },
  {
   "cell_type": "code",
   "execution_count": 165,
   "id": "ce022d7c",
   "metadata": {},
   "outputs": [
    {
     "data": {
      "text/plain": [
       "[1, 6, 11, 16, 21, 26, 31]"
      ]
     },
     "execution_count": 165,
     "metadata": {},
     "output_type": "execute_result"
    }
   ],
   "source": [
    "aps(1,5,31)"
   ]
  },
  {
   "cell_type": "code",
   "execution_count": 166,
   "id": "86aaf82e",
   "metadata": {},
   "outputs": [
    {
     "name": "stdout",
     "output_type": "stream",
     "text": [
      "[1, 5, 9, 13, 17, 21, 25, 29, 33, 37, 41, 45, 49, 53, 57, 61, 65, 69, 73, 77, 81, 85, 89, 93, 97]\n"
     ]
    }
   ],
   "source": [
    "print(aps(1,4,100))"
   ]
  },
  {
   "cell_type": "code",
   "execution_count": 167,
   "id": "caca33d8",
   "metadata": {},
   "outputs": [
    {
     "data": {
      "text/plain": [
       "[1, -4, -9, -14, -19, -24, -29]"
      ]
     },
     "execution_count": 167,
     "metadata": {},
     "output_type": "execute_result"
    }
   ],
   "source": [
    "aps(1,-5,-32)"
   ]
  },
  {
   "cell_type": "code",
   "execution_count": 168,
   "id": "7f6eed3d",
   "metadata": {},
   "outputs": [],
   "source": [
    "seq=aps(1,4,80)"
   ]
  },
  {
   "cell_type": "code",
   "execution_count": 169,
   "id": "5fdaa43f",
   "metadata": {},
   "outputs": [
    {
     "data": {
      "text/plain": [
       "[1, 5, 9, 13, 17, 21, 25, 29, 33, 37, 41, 45, 49, 53, 57, 61, 65, 69, 73, 77]"
      ]
     },
     "execution_count": 169,
     "metadata": {},
     "output_type": "execute_result"
    }
   ],
   "source": [
    "seq"
   ]
  },
  {
   "cell_type": "code",
   "execution_count": 170,
   "id": "d746a28f",
   "metadata": {},
   "outputs": [
    {
     "data": {
      "text/plain": [
       "[17, 21, 25, 29, 33, 37]"
      ]
     },
     "execution_count": 170,
     "metadata": {},
     "output_type": "execute_result"
    }
   ],
   "source": [
    "seq[4:10]"
   ]
  },
  {
   "cell_type": "code",
   "execution_count": 171,
   "id": "54b9881c",
   "metadata": {},
   "outputs": [
    {
     "data": {
      "text/plain": [
       "[9, 21, 33, 45]"
      ]
     },
     "execution_count": 171,
     "metadata": {},
     "output_type": "execute_result"
    }
   ],
   "source": [
    "seq[2:12:3]"
   ]
  },
  {
   "cell_type": "code",
   "execution_count": 172,
   "id": "65be84c7",
   "metadata": {},
   "outputs": [
    {
     "data": {
      "text/plain": [
       "[13, 29, 45, 61, 77]"
      ]
     },
     "execution_count": 172,
     "metadata": {},
     "output_type": "execute_result"
    }
   ],
   "source": [
    "seq[3:23:4]"
   ]
  },
  {
   "cell_type": "code",
   "execution_count": 173,
   "id": "fb117ace",
   "metadata": {},
   "outputs": [
    {
     "data": {
      "text/plain": [
       "[1, -4, -9, -14, -19, -24, -29]"
      ]
     },
     "execution_count": 173,
     "metadata": {},
     "output_type": "execute_result"
    }
   ],
   "source": [
    "aps(1,-5,-32)"
   ]
  },
  {
   "cell_type": "code",
   "execution_count": 174,
   "id": "20b6e29b",
   "metadata": {},
   "outputs": [
    {
     "data": {
      "text/plain": [
       "[1, 5, 9, 13, 17, 21, 25, 29, 33, 37, 41, 45, 49, 53, 57, 61, 65, 69, 73, 77]"
      ]
     },
     "execution_count": 174,
     "metadata": {},
     "output_type": "execute_result"
    }
   ],
   "source": [
    "seq[::]"
   ]
  },
  {
   "cell_type": "code",
   "execution_count": 175,
   "id": "d5d2ce04",
   "metadata": {},
   "outputs": [
    {
     "data": {
      "text/plain": [
       "[1, 5, 9, 13, 17]"
      ]
     },
     "execution_count": 175,
     "metadata": {},
     "output_type": "execute_result"
    }
   ],
   "source": [
    "seq[:5]"
   ]
  },
  {
   "cell_type": "code",
   "execution_count": 176,
   "id": "1796cc6f",
   "metadata": {},
   "outputs": [
    {
     "data": {
      "text/plain": [
       "[61, 65, 69, 73, 77]"
      ]
     },
     "execution_count": 176,
     "metadata": {},
     "output_type": "execute_result"
    }
   ],
   "source": [
    "seq[-5:]"
   ]
  },
  {
   "cell_type": "code",
   "execution_count": 177,
   "id": "b7621d93",
   "metadata": {},
   "outputs": [
    {
     "data": {
      "text/plain": [
       "[1, 5, 9, 13, 17, 21, 25, 29, 33, 37, 41, 45, 49, 53, 57]"
      ]
     },
     "execution_count": 177,
     "metadata": {},
     "output_type": "execute_result"
    }
   ],
   "source": [
    "seq[:-5]"
   ]
  },
  {
   "cell_type": "code",
   "execution_count": 178,
   "id": "b730edcb",
   "metadata": {},
   "outputs": [
    {
     "data": {
      "text/plain": [
       "[1, 9, 17, 25, 33, 41, 49, 57, 65, 73]"
      ]
     },
     "execution_count": 178,
     "metadata": {},
     "output_type": "execute_result"
    }
   ],
   "source": [
    "seq[::2]"
   ]
  },
  {
   "cell_type": "code",
   "execution_count": 179,
   "id": "613550b2",
   "metadata": {},
   "outputs": [
    {
     "data": {
      "text/plain": [
       "[77, 73, 69, 65, 61, 57, 53, 49, 45, 41, 37, 33, 29, 25, 21, 17, 13, 9, 5, 1]"
      ]
     },
     "execution_count": 179,
     "metadata": {},
     "output_type": "execute_result"
    }
   ],
   "source": [
    "seq[::-1]"
   ]
  },
  {
   "cell_type": "code",
   "execution_count": 180,
   "id": "9ffe6ad9",
   "metadata": {},
   "outputs": [
    {
     "data": {
      "text/plain": [
       "[1, 5, 9, 13, 17, 21, 25, 29, 33, 37, 41, 45, 49, 53, 57, 61, 65, 69, 73, 77]"
      ]
     },
     "execution_count": 180,
     "metadata": {},
     "output_type": "execute_result"
    }
   ],
   "source": [
    "seq"
   ]
  },
  {
   "cell_type": "code",
   "execution_count": 181,
   "id": "f94e89f2",
   "metadata": {},
   "outputs": [
    {
     "data": {
      "text/plain": [
       "[]"
      ]
     },
     "execution_count": 181,
     "metadata": {},
     "output_type": "execute_result"
    }
   ],
   "source": [
    "seq[2:12:-1]"
   ]
  },
  {
   "cell_type": "code",
   "execution_count": 182,
   "id": "07470806",
   "metadata": {},
   "outputs": [
    {
     "data": {
      "text/plain": [
       "[9]"
      ]
     },
     "execution_count": 182,
     "metadata": {},
     "output_type": "execute_result"
    }
   ],
   "source": [
    "seq[2:3]"
   ]
  },
  {
   "cell_type": "code",
   "execution_count": 183,
   "id": "512358e6",
   "metadata": {},
   "outputs": [
    {
     "data": {
      "text/plain": [
       "[69, 65]"
      ]
     },
     "execution_count": 183,
     "metadata": {},
     "output_type": "execute_result"
    }
   ],
   "source": [
    "seq[::-1][2:4]"
   ]
  },
  {
   "cell_type": "code",
   "execution_count": 184,
   "id": "dda7152d",
   "metadata": {},
   "outputs": [
    {
     "data": {
      "text/plain": [
       "[77, 73, 69, 65, 61, 57, 53, 49, 45, 41, 37, 33, 29, 25, 21, 17, 13, 9, 5, 1]"
      ]
     },
     "execution_count": 184,
     "metadata": {},
     "output_type": "execute_result"
    }
   ],
   "source": [
    "B=seq[::-1]\n",
    "B"
   ]
  },
  {
   "cell_type": "code",
   "execution_count": 185,
   "id": "ca2483e4",
   "metadata": {},
   "outputs": [
    {
     "data": {
      "text/plain": [
       "[69, 65]"
      ]
     },
     "execution_count": 185,
     "metadata": {},
     "output_type": "execute_result"
    }
   ],
   "source": [
    "B[2:4]"
   ]
  },
  {
   "cell_type": "code",
   "execution_count": 186,
   "id": "3eb11aee",
   "metadata": {},
   "outputs": [],
   "source": [
    "b=[[1],[-2],[5]]\n",
    "Ax=b\n",
    "A=[[2,1,1],[4,1,0],[-2,2,2]]"
   ]
  },
  {
   "cell_type": "code",
   "execution_count": 187,
   "id": "1ecb8bdd",
   "metadata": {},
   "outputs": [],
   "source": [
    "import numpy as np"
   ]
  },
  {
   "cell_type": "code",
   "execution_count": 188,
   "id": "2229bf9d",
   "metadata": {},
   "outputs": [],
   "source": [
    "xyz=np.linalg.solve(A,b)"
   ]
  },
  {
   "cell_type": "code",
   "execution_count": 189,
   "id": "c4c32c9f",
   "metadata": {},
   "outputs": [
    {
     "name": "stdout",
     "output_type": "stream",
     "text": [
      "[[-0.5]\n",
      " [ 0. ]\n",
      " [ 2. ]]\n"
     ]
    }
   ],
   "source": [
    "print(xyz)"
   ]
  },
  {
   "cell_type": "code",
   "execution_count": 190,
   "id": "c91db8b8",
   "metadata": {},
   "outputs": [],
   "source": [
    "a=3+4j"
   ]
  },
  {
   "cell_type": "code",
   "execution_count": 191,
   "id": "12981820",
   "metadata": {},
   "outputs": [
    {
     "data": {
      "text/plain": [
       "complex"
      ]
     },
     "execution_count": 191,
     "metadata": {},
     "output_type": "execute_result"
    }
   ],
   "source": [
    "type(a)"
   ]
  },
  {
   "cell_type": "code",
   "execution_count": 192,
   "id": "f7693ee3",
   "metadata": {},
   "outputs": [
    {
     "data": {
      "text/plain": [
       "3.0"
      ]
     },
     "execution_count": 192,
     "metadata": {},
     "output_type": "execute_result"
    }
   ],
   "source": [
    "a.real"
   ]
  },
  {
   "cell_type": "code",
   "execution_count": 193,
   "id": "872b37f2",
   "metadata": {},
   "outputs": [
    {
     "data": {
      "text/plain": [
       "4.0"
      ]
     },
     "execution_count": 193,
     "metadata": {},
     "output_type": "execute_result"
    }
   ],
   "source": [
    "a.imag"
   ]
  },
  {
   "cell_type": "code",
   "execution_count": null,
   "id": "18a85557",
   "metadata": {},
   "outputs": [],
   "source": []
  },
  {
   "cell_type": "code",
   "execution_count": 194,
   "id": "5fddebb8",
   "metadata": {},
   "outputs": [],
   "source": [
    "a=[1,2,3,4,5,6]"
   ]
  },
  {
   "cell_type": "code",
   "execution_count": 195,
   "id": "b997c12d",
   "metadata": {},
   "outputs": [],
   "source": [
    "a.append([7,8])"
   ]
  },
  {
   "cell_type": "code",
   "execution_count": 196,
   "id": "8b907466",
   "metadata": {},
   "outputs": [
    {
     "data": {
      "text/plain": [
       "[1, 2, 3, 4, 5, 6, [7, 8]]"
      ]
     },
     "execution_count": 196,
     "metadata": {},
     "output_type": "execute_result"
    }
   ],
   "source": [
    "a"
   ]
  },
  {
   "cell_type": "code",
   "execution_count": 197,
   "id": "79d8de87",
   "metadata": {},
   "outputs": [],
   "source": [
    "a.append([-1])"
   ]
  },
  {
   "cell_type": "code",
   "execution_count": 198,
   "id": "53143143",
   "metadata": {},
   "outputs": [
    {
     "data": {
      "text/plain": [
       "[1, 2, 3, 4, 5, 6, [7, 8], [-1]]"
      ]
     },
     "execution_count": 198,
     "metadata": {},
     "output_type": "execute_result"
    }
   ],
   "source": [
    "a"
   ]
  },
  {
   "cell_type": "code",
   "execution_count": 199,
   "id": "903b8625",
   "metadata": {},
   "outputs": [],
   "source": [
    "del a[-1]"
   ]
  },
  {
   "cell_type": "code",
   "execution_count": 200,
   "id": "dc733bc1",
   "metadata": {},
   "outputs": [
    {
     "data": {
      "text/plain": [
       "[1, 2, 3, 4, 5, 6, [7, 8]]"
      ]
     },
     "execution_count": 200,
     "metadata": {},
     "output_type": "execute_result"
    }
   ],
   "source": [
    "a"
   ]
  },
  {
   "cell_type": "code",
   "execution_count": 201,
   "id": "e5178445",
   "metadata": {},
   "outputs": [],
   "source": [
    "del a[-1]"
   ]
  },
  {
   "cell_type": "code",
   "execution_count": 202,
   "id": "19a00a27",
   "metadata": {},
   "outputs": [
    {
     "data": {
      "text/plain": [
       "[1, 2, 3, 4, 5, 6]"
      ]
     },
     "execution_count": 202,
     "metadata": {},
     "output_type": "execute_result"
    }
   ],
   "source": [
    "a"
   ]
  },
  {
   "cell_type": "code",
   "execution_count": 203,
   "id": "d2d25a57",
   "metadata": {},
   "outputs": [],
   "source": [
    "a=[1,2,3,4,5,6]"
   ]
  },
  {
   "cell_type": "code",
   "execution_count": 204,
   "id": "9efa9ed7",
   "metadata": {},
   "outputs": [],
   "source": [
    "a.extend([7,8,9,])"
   ]
  },
  {
   "cell_type": "code",
   "execution_count": 205,
   "id": "921da3a3",
   "metadata": {},
   "outputs": [
    {
     "data": {
      "text/plain": [
       "[1, 2, 3, 4, 5, 6, 7, 8, 9]"
      ]
     },
     "execution_count": 205,
     "metadata": {},
     "output_type": "execute_result"
    }
   ],
   "source": [
    "a"
   ]
  },
  {
   "cell_type": "code",
   "execution_count": 206,
   "id": "5ea01526",
   "metadata": {},
   "outputs": [
    {
     "data": {
      "text/plain": [
       "[1, 2, 3, 4, 5, 6, 7, 8, 9]"
      ]
     },
     "execution_count": 206,
     "metadata": {},
     "output_type": "execute_result"
    }
   ],
   "source": [
    "a"
   ]
  },
  {
   "cell_type": "code",
   "execution_count": 207,
   "id": "28cc8ff1",
   "metadata": {},
   "outputs": [],
   "source": [
    "a.append(10)"
   ]
  },
  {
   "cell_type": "code",
   "execution_count": 208,
   "id": "e7c6ccfe",
   "metadata": {},
   "outputs": [
    {
     "data": {
      "text/plain": [
       "[1, 2, 3, 4, 5, 6, 7, 8, 9, 10]"
      ]
     },
     "execution_count": 208,
     "metadata": {},
     "output_type": "execute_result"
    }
   ],
   "source": [
    "a"
   ]
  },
  {
   "cell_type": "code",
   "execution_count": 209,
   "id": "f1b1e85d",
   "metadata": {},
   "outputs": [],
   "source": [
    "a1=[1, 2, 3, 4, 5, 6, 7, 8]"
   ]
  },
  {
   "cell_type": "code",
   "execution_count": 210,
   "id": "5e4d0a48",
   "metadata": {},
   "outputs": [
    {
     "data": {
      "text/plain": [
       "[1, 2, 3, 4, 5, 6, 7, 8]"
      ]
     },
     "execution_count": 210,
     "metadata": {},
     "output_type": "execute_result"
    }
   ],
   "source": [
    "a1"
   ]
  },
  {
   "cell_type": "code",
   "execution_count": 211,
   "id": "52f9d319",
   "metadata": {},
   "outputs": [],
   "source": [
    "b1=[1, 2, 3, 9, 5, 6, 7, 8]"
   ]
  },
  {
   "cell_type": "code",
   "execution_count": 212,
   "id": "00446330",
   "metadata": {},
   "outputs": [
    {
     "data": {
      "text/plain": [
       "[1, 2, 3, 9, 5, 6, 7, 8]"
      ]
     },
     "execution_count": 212,
     "metadata": {},
     "output_type": "execute_result"
    }
   ],
   "source": [
    "b1"
   ]
  },
  {
   "cell_type": "code",
   "execution_count": 213,
   "id": "05447b77",
   "metadata": {},
   "outputs": [
    {
     "data": {
      "text/plain": [
       "False"
      ]
     },
     "execution_count": 213,
     "metadata": {},
     "output_type": "execute_result"
    }
   ],
   "source": [
    "a1==b1"
   ]
  },
  {
   "cell_type": "code",
   "execution_count": 214,
   "id": "24121fd8",
   "metadata": {},
   "outputs": [
    {
     "data": {
      "text/plain": [
       "[1, 2, 3, 9, 5, 6, 7, 8]"
      ]
     },
     "execution_count": 214,
     "metadata": {},
     "output_type": "execute_result"
    }
   ],
   "source": [
    "b1"
   ]
  },
  {
   "cell_type": "code",
   "execution_count": 215,
   "id": "7a4f47d9",
   "metadata": {},
   "outputs": [],
   "source": [
    "b1.append(3)"
   ]
  },
  {
   "cell_type": "code",
   "execution_count": 216,
   "id": "82c2299e",
   "metadata": {},
   "outputs": [
    {
     "data": {
      "text/plain": [
       "[1, 2, 3, 9, 5, 6, 7, 8, 3]"
      ]
     },
     "execution_count": 216,
     "metadata": {},
     "output_type": "execute_result"
    }
   ],
   "source": [
    "b1"
   ]
  },
  {
   "cell_type": "code",
   "execution_count": 217,
   "id": "1246e2e8",
   "metadata": {},
   "outputs": [
    {
     "data": {
      "text/plain": [
       "[1, 2, 3, 9, 5, 6, 7, 8, 3]"
      ]
     },
     "execution_count": 217,
     "metadata": {},
     "output_type": "execute_result"
    }
   ],
   "source": [
    "b1"
   ]
  },
  {
   "cell_type": "code",
   "execution_count": 218,
   "id": "cae92c0d",
   "metadata": {},
   "outputs": [],
   "source": [
    "d=a1[:]"
   ]
  },
  {
   "cell_type": "code",
   "execution_count": 219,
   "id": "1c4cd7f6",
   "metadata": {},
   "outputs": [
    {
     "data": {
      "text/plain": [
       "[1, 2, 3, 4, 5, 6, 7, 8]"
      ]
     },
     "execution_count": 219,
     "metadata": {},
     "output_type": "execute_result"
    }
   ],
   "source": [
    "a1"
   ]
  },
  {
   "cell_type": "code",
   "execution_count": 220,
   "id": "e57b0e24",
   "metadata": {},
   "outputs": [
    {
     "data": {
      "text/plain": [
       "False"
      ]
     },
     "execution_count": 220,
     "metadata": {},
     "output_type": "execute_result"
    }
   ],
   "source": [
    "d is a"
   ]
  },
  {
   "cell_type": "code",
   "execution_count": 221,
   "id": "b76d64de",
   "metadata": {},
   "outputs": [],
   "source": [
    "e=a1[5]"
   ]
  },
  {
   "cell_type": "code",
   "execution_count": 222,
   "id": "03970aed",
   "metadata": {},
   "outputs": [
    {
     "data": {
      "text/plain": [
       "[[1, 2], [5, 5]]"
      ]
     },
     "execution_count": 222,
     "metadata": {},
     "output_type": "execute_result"
    }
   ],
   "source": [
    "A=[[1,2],[5,5]]\n",
    "A"
   ]
  },
  {
   "cell_type": "code",
   "execution_count": 223,
   "id": "26b455d4",
   "metadata": {},
   "outputs": [
    {
     "data": {
      "text/plain": [
       "-5"
      ]
     },
     "execution_count": 223,
     "metadata": {},
     "output_type": "execute_result"
    }
   ],
   "source": [
    "A[0][0]*A[1][1]-A[0][1]*A[1][0]"
   ]
  },
  {
   "cell_type": "code",
   "execution_count": 224,
   "id": "a59a661f",
   "metadata": {},
   "outputs": [],
   "source": [
    "def det(A):\n",
    "    return A[0][0]*A[1][1]-A[0][1]*A[1][0]"
   ]
  },
  {
   "cell_type": "code",
   "execution_count": 225,
   "id": "f036b4cb",
   "metadata": {},
   "outputs": [
    {
     "data": {
      "text/plain": [
       "1"
      ]
     },
     "execution_count": 225,
     "metadata": {},
     "output_type": "execute_result"
    }
   ],
   "source": [
    "A[0][0]"
   ]
  },
  {
   "cell_type": "code",
   "execution_count": 226,
   "id": "9e3a4f4f",
   "metadata": {},
   "outputs": [
    {
     "data": {
      "text/plain": [
       "5"
      ]
     },
     "execution_count": 226,
     "metadata": {},
     "output_type": "execute_result"
    }
   ],
   "source": [
    "A[1][1]"
   ]
  },
  {
   "cell_type": "code",
   "execution_count": 227,
   "id": "bbad4850",
   "metadata": {},
   "outputs": [
    {
     "data": {
      "text/plain": [
       "2"
      ]
     },
     "execution_count": 227,
     "metadata": {},
     "output_type": "execute_result"
    }
   ],
   "source": [
    "A[0][1]"
   ]
  },
  {
   "cell_type": "code",
   "execution_count": 228,
   "id": "78e5feb2",
   "metadata": {},
   "outputs": [
    {
     "data": {
      "text/plain": [
       "5"
      ]
     },
     "execution_count": 228,
     "metadata": {},
     "output_type": "execute_result"
    }
   ],
   "source": [
    "A[1][0]"
   ]
  },
  {
   "cell_type": "code",
   "execution_count": 229,
   "id": "b1dff2ba",
   "metadata": {},
   "outputs": [
    {
     "data": {
      "text/plain": [
       "1"
      ]
     },
     "execution_count": 229,
     "metadata": {},
     "output_type": "execute_result"
    }
   ],
   "source": [
    "det([[2,3],[3,5]])"
   ]
  },
  {
   "cell_type": "code",
   "execution_count": 230,
   "id": "4ede1964",
   "metadata": {},
   "outputs": [],
   "source": [
    "x=[1,5,1,5]\n",
    "y=[3,1,1,2]"
   ]
  },
  {
   "cell_type": "code",
   "execution_count": 231,
   "id": "1dc53a0b",
   "metadata": {},
   "outputs": [],
   "source": [
    "xy=x[0]*y[0]+x[1]*y[1]+x[2]*y[2]+x[3]*y[3]"
   ]
  },
  {
   "cell_type": "code",
   "execution_count": 232,
   "id": "f08c9fe5",
   "metadata": {},
   "outputs": [
    {
     "data": {
      "text/plain": [
       "19"
      ]
     },
     "execution_count": 232,
     "metadata": {},
     "output_type": "execute_result"
    }
   ],
   "source": [
    "xy"
   ]
  },
  {
   "cell_type": "code",
   "execution_count": 233,
   "id": "553fcd30",
   "metadata": {},
   "outputs": [],
   "source": [
    "x=[1,5,1,5]\n",
    "y=[3,1,1,2]"
   ]
  },
  {
   "cell_type": "code",
   "execution_count": 234,
   "id": "bb21ae8c",
   "metadata": {},
   "outputs": [
    {
     "name": "stdout",
     "output_type": "stream",
     "text": [
      "1 3 3\n",
      "5 1 5\n",
      "1 1 1\n",
      "5 2 10\n"
     ]
    },
    {
     "data": {
      "text/plain": [
       "19"
      ]
     },
     "execution_count": 234,
     "metadata": {},
     "output_type": "execute_result"
    }
   ],
   "source": [
    "res=0\n",
    "i=0\n",
    "while i<len(x):\n",
    "    print(x[i],y[i],x[i]*y[i])\n",
    "    res += x[i]*y[i]\n",
    "    i+=1\n",
    "res"
   ]
  },
  {
   "cell_type": "code",
   "execution_count": 235,
   "id": "09e66eda",
   "metadata": {},
   "outputs": [],
   "source": [
    "def dotp(x,y):\n",
    "    res=0\n",
    "    i=0\n",
    "    while i<len(x):\n",
    "        res+=x[i]*y[i]\n",
    "        i+=1\n",
    "        return res"
   ]
  },
  {
   "cell_type": "code",
   "execution_count": 236,
   "id": "f266a7e3",
   "metadata": {},
   "outputs": [
    {
     "data": {
      "text/plain": [
       "3"
      ]
     },
     "execution_count": 236,
     "metadata": {},
     "output_type": "execute_result"
    }
   ],
   "source": [
    "dotp(x,y)"
   ]
  },
  {
   "cell_type": "code",
   "execution_count": 237,
   "id": "88122a19",
   "metadata": {},
   "outputs": [
    {
     "data": {
      "text/plain": [
       "3"
      ]
     },
     "execution_count": 237,
     "metadata": {},
     "output_type": "execute_result"
    }
   ],
   "source": [
    "dotp([1,5,1,5],[3,1,1,2])"
   ]
  },
  {
   "cell_type": "code",
   "execution_count": 238,
   "id": "a92e1557",
   "metadata": {},
   "outputs": [
    {
     "data": {
      "text/plain": [
       "[2.0, 2.2, 2.4, 2.6, 2.8, 3.0, 3.2, 3.4000000000000004, 3.6, 3.8, 4.0]"
      ]
     },
     "execution_count": 238,
     "metadata": {},
     "output_type": "execute_result"
    }
   ],
   "source": [
    "t=[0,1,2,3,4,5,6,7,8,9,10]\n",
    "h=0.2\n",
    "x=[]\n",
    "for i in t:\n",
    "    x.append(2+h*i)  \n",
    "x"
   ]
  },
  {
   "cell_type": "code",
   "execution_count": 239,
   "id": "b70fb31b",
   "metadata": {},
   "outputs": [
    {
     "data": {
      "text/plain": [
       "[2.0, 2.2, 2.4, 2.6, 2.8, 3.0, 3.2, 3.4000000000000004, 3.6, 3.8, 4.0]"
      ]
     },
     "execution_count": 239,
     "metadata": {},
     "output_type": "execute_result"
    }
   ],
   "source": [
    "import math\n",
    "t=[0,1,2,3,4,5,6,7,8,9,10]\n",
    "h=0.2\n",
    "X=[]\n",
    "for i in t:\n",
    "    X.append(math.cos(2*(2+h*i)))\n",
    "x"
   ]
  },
  {
   "cell_type": "code",
   "execution_count": 240,
   "id": "8d08d55b",
   "metadata": {},
   "outputs": [
    {
     "name": "stdout",
     "output_type": "stream",
     "text": [
      "[2.0, 2.2, 2.4, 2.6, 2.8, 3.0, 3.2, 3.4000000000000004, 3.6, 3.8, 4.0]\n",
      "[-0.6536436208636119, -0.30733286997841935, 0.0874989834394464, 0.4685166713003771, 0.7755658785102496, 0.960170286650366, 0.9931849187581926, 0.8693974903498248, 0.6083513145322546, 0.2512598425822557, -0.14550003380861354]\n"
     ]
    }
   ],
   "source": [
    "import math\n",
    "t=[0,1,2,3,4,5,6,7,8,9,10]\n",
    "h=0.2\n",
    "X=[]\n",
    "Y=[]\n",
    "for i in t:\n",
    "    X.append(2+h*i)\n",
    "    Y.append(math.cos(2*(2+h*i)))\n",
    "print(X)\n",
    "print(Y)"
   ]
  },
  {
   "cell_type": "code",
   "execution_count": 241,
   "id": "729163c6",
   "metadata": {},
   "outputs": [
    {
     "data": {
      "text/plain": [
       "[-0.6536436208636119,\n",
       " -0.30733286997841935,\n",
       " 0.0874989834394464,\n",
       " 0.4685166713003771,\n",
       " 0.7755658785102496,\n",
       " 0.960170286650366,\n",
       " 0.9931849187581926,\n",
       " 0.8693974903498248,\n",
       " 0.6083513145322546,\n",
       " 0.2512598425822557,\n",
       " -0.14550003380861354]"
      ]
     },
     "execution_count": 241,
     "metadata": {},
     "output_type": "execute_result"
    }
   ],
   "source": [
    "from math import cos\n",
    "t=[0,1,2,3,4,5,6,7,8,9,10]\n",
    "h=0.2\n",
    "x=[]\n",
    "y=[]\n",
    "for i in t:\n",
    "    x.append(math.cos(2*(2+h*i))) \n",
    "x"
   ]
  },
  {
   "cell_type": "code",
   "execution_count": 242,
   "id": "fec79469",
   "metadata": {},
   "outputs": [],
   "source": [
    "k=[2,7,-1,-2,3,9,-11,22,-4]"
   ]
  },
  {
   "cell_type": "code",
   "execution_count": 243,
   "id": "65db594e",
   "metadata": {},
   "outputs": [],
   "source": [
    "p=[2,4,6,1,9,5,6,3]"
   ]
  },
  {
   "cell_type": "code",
   "execution_count": 244,
   "id": "6fec48df",
   "metadata": {},
   "outputs": [
    {
     "data": {
      "text/plain": [
       "[2, 6, 12, 13, 22, 27, 33, 36]"
      ]
     },
     "execution_count": 244,
     "metadata": {},
     "output_type": "execute_result"
    }
   ],
   "source": [
    "p=[2,4,6,1,9,5,6,3]\n",
    "n=0\n",
    "sum=[]\n",
    "for i in p:\n",
    "    sum.append(n+i)\n",
    "    n+=i\n",
    "sum"
   ]
  },
  {
   "cell_type": "code",
   "execution_count": 245,
   "id": "5d58f82c",
   "metadata": {},
   "outputs": [
    {
     "data": {
      "text/plain": [
       "[2, 6, 12, 13, 22, 27, 33, 36]"
      ]
     },
     "execution_count": 245,
     "metadata": {},
     "output_type": "execute_result"
    }
   ],
   "source": [
    "p=[2,4,6,1,9,5,6,3]\n",
    "n=0\n",
    "cum=[]\n",
    "for m in p:\n",
    "    cum.append(n+m)\n",
    "    n+=m\n",
    "cum"
   ]
  },
  {
   "cell_type": "code",
   "execution_count": 246,
   "id": "fe8cda2f",
   "metadata": {},
   "outputs": [
    {
     "data": {
      "text/plain": [
       "[2, 6, 12, 13, 22, 27, 33, 36]"
      ]
     },
     "execution_count": 246,
     "metadata": {},
     "output_type": "execute_result"
    }
   ],
   "source": [
    "p=[2,4,6,1,9,5,6,3]\n",
    "i=0\n",
    "cum=[]\n",
    "for e in p:\n",
    "    cum.append(i+e)\n",
    "    i+=e\n",
    "cum"
   ]
  },
  {
   "cell_type": "code",
   "execution_count": 247,
   "id": "4e52ebac",
   "metadata": {},
   "outputs": [],
   "source": [
    "def cum(p):\n",
    "    x=n/2*(2*a)"
   ]
  },
  {
   "cell_type": "code",
   "execution_count": 248,
   "id": "d7f5e96e",
   "metadata": {
    "scrolled": true
   },
   "outputs": [
    {
     "ename": "IndentationError",
     "evalue": "unexpected indent (1062341413.py, line 2)",
     "output_type": "error",
     "traceback": [
      "\u001b[0;36m  Cell \u001b[0;32mIn [248], line 2\u001b[0;36m\u001b[0m\n\u001b[0;31m    cum=[p[0]]:\u001b[0m\n\u001b[0m    ^\u001b[0m\n\u001b[0;31mIndentationError\u001b[0m\u001b[0;31m:\u001b[0m unexpected indent\n"
     ]
    }
   ],
   "source": [
    "p=[2,4,6,1,9,5,6,3]\n",
    "   cum=[p[0]]:\n",
    "for i in p[1:]:\n",
    "    cum.append(cum[-1]+i)\n",
    "cum"
   ]
  },
  {
   "cell_type": "code",
   "execution_count": null,
   "id": "91e12c2a",
   "metadata": {},
   "outputs": [],
   "source": [
    "p=[2,4,6,1,9,5,6,3]\n",
    "cum=[]\n",
    "for i in p:\n",
    "    if len(cum)>0:\n",
    "        cum.append(cum[-1]+i)\n",
    "    else:\n",
    "        cum.append(i)\n",
    "cum"
   ]
  },
  {
   "cell_type": "code",
   "execution_count": null,
   "id": "adcd92e5",
   "metadata": {},
   "outputs": [],
   "source": [
    "list = 2,3,6,9\n",
    "def mymax(list):\n",
    "    x=list[0]\n",
    "    for i in list:\n",
    "        if i>x:\n",
    "            x=i\n",
    "    return x"
   ]
  },
  {
   "cell_type": "code",
   "execution_count": null,
   "id": "449366d9",
   "metadata": {},
   "outputs": [],
   "source": [
    "mymax(list)"
   ]
  },
  {
   "cell_type": "code",
   "execution_count": null,
   "id": "a49e2af7",
   "metadata": {},
   "outputs": [],
   "source": [
    "def mymax(lst):\n",
    "    x=list[0]\n",
    "    for i in lst:\n",
    "        if i>x:\n",
    "            x=i\n",
    "    return x"
   ]
  },
  {
   "cell_type": "code",
   "execution_count": null,
   "id": "17c19847",
   "metadata": {},
   "outputs": [],
   "source": [
    "mymax([2,3,6,9])"
   ]
  },
  {
   "cell_type": "code",
   "execution_count": null,
   "id": "10330bc7",
   "metadata": {},
   "outputs": [],
   "source": [
    "def lcm(lst):\n",
    "    i=1\n",
    "    num=mymax(lst)\n",
    "    found=False\n",
    "    while not found:\n",
    "        for j in lst:\n",
    "            if num % j != 0:\n",
    "                i+=1\n",
    "                num *= 1\n",
    "                break"
   ]
  },
  {
   "cell_type": "code",
   "execution_count": null,
   "id": "fc289777",
   "metadata": {},
   "outputs": [],
   "source": [
    "lcm(2,3,6,9)"
   ]
  },
  {
   "cell_type": "code",
   "execution_count": null,
   "id": "2c62da0c",
   "metadata": {},
   "outputs": [],
   "source": [
    "A=[1,2,3,4,5,6,7]\n",
    "for i in A:\n",
    "    if i==4:\n",
    "        break\n",
    "    print(i)"
   ]
  },
  {
   "cell_type": "code",
   "execution_count": null,
   "id": "22405daf",
   "metadata": {},
   "outputs": [],
   "source": [
    "A=[1,2,3,4,5,6,7]\n",
    "for i in A:\n",
    "    if i==4:\n",
    "        continue\n",
    "    print(i)"
   ]
  },
  {
   "cell_type": "code",
   "execution_count": null,
   "id": "c2d89565",
   "metadata": {},
   "outputs": [],
   "source": [
    "A=[1,2,3,5,6,7]\n",
    "for i in A:\n",
    "    if i==4:\n",
    "        break\n",
    "    print(i)"
   ]
  },
  {
   "cell_type": "code",
   "execution_count": null,
   "id": "5ea60011",
   "metadata": {},
   "outputs": [],
   "source": [
    "def absmax(lst):\n",
    "    x=abs(lst[0])\n",
    "    for i in lst:\n",
    "        if abs(i)>x:\n",
    "            x=abs(i)\n",
    "    return x"
   ]
  },
  {
   "cell_type": "code",
   "execution_count": null,
   "id": "83cc15dc",
   "metadata": {},
   "outputs": [],
   "source": [
    "absmax([2,-9,4,-8,3,5])"
   ]
  },
  {
   "cell_type": "code",
   "execution_count": null,
   "id": "3c6a0d19",
   "metadata": {},
   "outputs": [],
   "source": [
    "def per(l,w):\n",
    "    p=2*(l+w)\n",
    "    return p"
   ]
  },
  {
   "cell_type": "code",
   "execution_count": null,
   "id": "5f960615",
   "metadata": {},
   "outputs": [],
   "source": [
    "per(3,4)"
   ]
  },
  {
   "cell_type": "code",
   "execution_count": null,
   "id": "91f4745d",
   "metadata": {},
   "outputs": [],
   "source": [
    "def hyp(o,a):\n",
    "    h=(a**2+o**2)**0.5\n",
    "    return h"
   ]
  },
  {
   "cell_type": "code",
   "execution_count": null,
   "id": "5e5b6c03",
   "metadata": {},
   "outputs": [],
   "source": [
    "hyp(3,4)"
   ]
  },
  {
   "cell_type": "code",
   "execution_count": null,
   "id": "b297778d",
   "metadata": {},
   "outputs": [],
   "source": [
    "def hh(n):\n",
    "    if n%3 ==0:\n",
    "        return \"Multiple of 3\"\n",
    "    else:\n",
    "        return \"Not a multiple of 3\""
   ]
  },
  {
   "cell_type": "code",
   "execution_count": null,
   "id": "33602463",
   "metadata": {},
   "outputs": [],
   "source": [
    "hh(900)"
   ]
  },
  {
   "cell_type": "code",
   "execution_count": null,
   "id": "34bb4ea4",
   "metadata": {},
   "outputs": [],
   "source": [
    "def p(x):\n",
    "    if x%2==0:\n",
    "         return \"even number\"\n",
    "    else:\n",
    "        return \"not an even number\""
   ]
  },
  {
   "cell_type": "code",
   "execution_count": null,
   "id": "ef8a6ace",
   "metadata": {},
   "outputs": [],
   "source": [
    "p(908)"
   ]
  },
  {
   "cell_type": "code",
   "execution_count": null,
   "id": "da839bdc",
   "metadata": {},
   "outputs": [],
   "source": [
    "p(42)"
   ]
  },
  {
   "cell_type": "code",
   "execution_count": null,
   "id": "2572431a",
   "metadata": {},
   "outputs": [],
   "source": [
    "p(453)"
   ]
  },
  {
   "cell_type": "code",
   "execution_count": null,
   "id": "8254af9d",
   "metadata": {},
   "outputs": [],
   "source": [
    "ls=[1,-23,5,-8,11,9]"
   ]
  },
  {
   "cell_type": "code",
   "execution_count": null,
   "id": "39455706",
   "metadata": {},
   "outputs": [],
   "source": [
    "def mymin(ls):\n",
    "    x=ls[0]\n",
    "    for i in ls:\n",
    "        if i<x:\n",
    "            x=i  \n",
    "    return x"
   ]
  },
  {
   "cell_type": "code",
   "execution_count": null,
   "id": "2b10876e",
   "metadata": {},
   "outputs": [],
   "source": [
    "mymin([2,-23,5,-8,-1,9])"
   ]
  },
  {
   "cell_type": "code",
   "execution_count": null,
   "id": "cca6dcb6",
   "metadata": {},
   "outputs": [],
   "source": [
    "ls"
   ]
  },
  {
   "cell_type": "code",
   "execution_count": null,
   "id": "62c00fd6",
   "metadata": {},
   "outputs": [],
   "source": [
    "def absmin(ls):\n",
    "    x=abs(ls[0])\n",
    "    for i in ls:\n",
    "        if abs(i)<x:\n",
    "            x=abs(i)\n",
    "    return x"
   ]
  },
  {
   "cell_type": "code",
   "execution_count": null,
   "id": "6d9be010",
   "metadata": {},
   "outputs": [],
   "source": [
    "absmin([1, -23, 5, -8, 11, 9])"
   ]
  },
  {
   "cell_type": "code",
   "execution_count": null,
   "id": "3745e75a",
   "metadata": {},
   "outputs": [],
   "source": [
    "def mymin(ls):\n",
    "    x=ls[0]\n",
    "    for i in ls:\n",
    "        if abs(i)<abs(x):\n",
    "            x=i  \n",
    "    return x"
   ]
  },
  {
   "cell_type": "code",
   "execution_count": null,
   "id": "4829e5b5",
   "metadata": {},
   "outputs": [],
   "source": [
    "absmin([-23, 5, -8, 11, 9])"
   ]
  },
  {
   "cell_type": "code",
   "execution_count": null,
   "id": "8bf907aa",
   "metadata": {},
   "outputs": [],
   "source": [
    "k=[1,-23,5,-8,11,9]"
   ]
  },
  {
   "cell_type": "code",
   "execution_count": null,
   "id": "e4b2fef7",
   "metadata": {},
   "outputs": [],
   "source": [
    "absmax(k)"
   ]
  },
  {
   "cell_type": "code",
   "execution_count": null,
   "id": "98e4dd3f",
   "metadata": {},
   "outputs": [],
   "source": [
    "def argmax(k):\n",
    "    maxpos=0\n",
    "    i=0\n",
    "    for i in k:\n",
    "        if i > absmax(k):\n",
    "            maxpos=i\n",
    "        i+=1\n",
    "    return maxpos"
   ]
  },
  {
   "cell_type": "code",
   "execution_count": null,
   "id": "72892469",
   "metadata": {},
   "outputs": [],
   "source": []
  },
  {
   "cell_type": "code",
   "execution_count": null,
   "id": "9b72b6a9",
   "metadata": {},
   "outputs": [],
   "source": [
    "argmax(k)"
   ]
  },
  {
   "cell_type": "code",
   "execution_count": null,
   "id": "de4fc05e",
   "metadata": {},
   "outputs": [],
   "source": [
    "argmax([1,-23,5,-8,11,9])"
   ]
  },
  {
   "cell_type": "code",
   "execution_count": null,
   "id": "c4b60868",
   "metadata": {},
   "outputs": [],
   "source": [
    "def absmax(k):\n",
    "    num = []\n",
    "    for i in k:\n",
    "        num.append(abs(i))        \n",
    "    return max(num)"
   ]
  },
  {
   "cell_type": "code",
   "execution_count": null,
   "id": "4ea7ee99",
   "metadata": {},
   "outputs": [],
   "source": [
    "absmax([1, -2,1])"
   ]
  },
  {
   "cell_type": "code",
   "execution_count": null,
   "id": "352c8270",
   "metadata": {},
   "outputs": [],
   "source": [
    "def argmax(k):\n",
    "    q = absmax(k)\n",
    "    if q in k:\n",
    "        return (k.index(q))\n",
    "    if q not in k:\n",
    "        return (k.index(-q))       "
   ]
  },
  {
   "cell_type": "code",
   "execution_count": null,
   "id": "bb84a990",
   "metadata": {},
   "outputs": [],
   "source": [
    "argmax([1,2,-4,9,-6,-10])"
   ]
  },
  {
   "cell_type": "code",
   "execution_count": null,
   "id": "af1a0c02",
   "metadata": {},
   "outputs": [],
   "source": [
    "argmax([1,2,3,4,-5])"
   ]
  },
  {
   "cell_type": "code",
   "execution_count": null,
   "id": "185dd768",
   "metadata": {},
   "outputs": [],
   "source": [
    "def argmin(k):\n",
    "    q = absmin(k)\n",
    "    if q in k:\n",
    "        return (k.index(q))\n",
    "    if q not in k:\n",
    "        return (k.index(-q))       "
   ]
  },
  {
   "cell_type": "code",
   "execution_count": null,
   "id": "266765e1",
   "metadata": {},
   "outputs": [],
   "source": [
    "argmin([1,2,3,4,-5])"
   ]
  },
  {
   "cell_type": "code",
   "execution_count": null,
   "id": "41156892",
   "metadata": {},
   "outputs": [],
   "source": [
    "def argmin(k):\n",
    "    i=0\n",
    "    p=0\n",
    "    minip=k[0]\n",
    "    while i<len(k):\n",
    "        if k[p]<k[i]:\n",
    "            p=i\n",
    "        i+=1\n",
    "    return p"
   ]
  },
  {
   "cell_type": "code",
   "execution_count": null,
   "id": "3a1297bf",
   "metadata": {},
   "outputs": [],
   "source": [
    "argmin([1,2,3,4,-5])"
   ]
  },
  {
   "cell_type": "code",
   "execution_count": null,
   "id": "162cd61e",
   "metadata": {},
   "outputs": [],
   "source": [
    "def argmin(k):\n",
    "    i=0\n",
    "    p=0\n",
    "    while i>len(k):\n",
    "        if k[i]<k[p]:\n",
    "            p=i\n",
    "        i+=1\n",
    "    return p"
   ]
  },
  {
   "cell_type": "code",
   "execution_count": null,
   "id": "ae33c77b",
   "metadata": {},
   "outputs": [],
   "source": [
    "argmin([1,2,3,4,-5])"
   ]
  },
  {
   "cell_type": "code",
   "execution_count": null,
   "id": "cabbfe39",
   "metadata": {},
   "outputs": [],
   "source": [
    "def argmax2(k):\n",
    "    maxpos=0\n",
    "    i=len(k)-1\n",
    "    for p in k[::-1]:\n",
    "        if p>k[maxpos]:\n",
    "            maxpos=i\n",
    "        i+=1\n",
    "        return maxpos"
   ]
  },
  {
   "cell_type": "code",
   "execution_count": null,
   "id": "f619b6c3",
   "metadata": {},
   "outputs": [],
   "source": [
    "argmax2([1,2,3,4,-5])"
   ]
  },
  {
   "cell_type": "code",
   "execution_count": null,
   "id": "9674419d",
   "metadata": {},
   "outputs": [],
   "source": [
    "argmax2([3,1,12,-23,5,4,-8,11,9])"
   ]
  },
  {
   "cell_type": "code",
   "execution_count": null,
   "id": "a9a5a291",
   "metadata": {},
   "outputs": [],
   "source": [
    "k=[9,5,12,7,6,3]"
   ]
  },
  {
   "cell_type": "code",
   "execution_count": null,
   "id": "fd0495d9",
   "metadata": {},
   "outputs": [],
   "source": [
    "def mymax(k):\n",
    "    x=k[0]\n",
    "    for i in k:\n",
    "        if i>x:\n",
    "            x=i\n",
    "    return x"
   ]
  },
  {
   "cell_type": "code",
   "execution_count": null,
   "id": "87d49725",
   "metadata": {},
   "outputs": [],
   "source": [
    "mymax((9,5,12,7,6,3))"
   ]
  },
  {
   "cell_type": "code",
   "execution_count": null,
   "id": "3c78ee6c",
   "metadata": {},
   "outputs": [],
   "source": [
    "k=[9,5,12,7,6,3]"
   ]
  },
  {
   "cell_type": "code",
   "execution_count": null,
   "id": "4fcc23e0",
   "metadata": {},
   "outputs": [],
   "source": [
    "val = mymax(k)"
   ]
  },
  {
   "cell_type": "code",
   "execution_count": null,
   "id": "5be27b6c",
   "metadata": {},
   "outputs": [],
   "source": [
    "val"
   ]
  },
  {
   "cell_type": "code",
   "execution_count": null,
   "id": "59ef096e",
   "metadata": {},
   "outputs": [],
   "source": [
    "maxpos=k.index(val)"
   ]
  },
  {
   "cell_type": "code",
   "execution_count": null,
   "id": "caf58e34",
   "metadata": {},
   "outputs": [],
   "source": [
    "maxpos"
   ]
  },
  {
   "cell_type": "code",
   "execution_count": null,
   "id": "c507654e",
   "metadata": {},
   "outputs": [],
   "source": [
    "maxcount=k.count(val)"
   ]
  },
  {
   "cell_type": "code",
   "execution_count": null,
   "id": "87826565",
   "metadata": {},
   "outputs": [],
   "source": [
    "maxcount"
   ]
  },
  {
   "cell_type": "code",
   "execution_count": null,
   "id": "9de323ce",
   "metadata": {},
   "outputs": [],
   "source": [
    "k2=[9,5,12,11,6,3,12,11,12]"
   ]
  },
  {
   "cell_type": "code",
   "execution_count": null,
   "id": "56646f65",
   "metadata": {},
   "outputs": [],
   "source": [
    "val=mymax(k2)"
   ]
  },
  {
   "cell_type": "code",
   "execution_count": null,
   "id": "18a337fa",
   "metadata": {},
   "outputs": [],
   "source": [
    "val"
   ]
  },
  {
   "cell_type": "code",
   "execution_count": null,
   "id": "e3cc3985",
   "metadata": {},
   "outputs": [],
   "source": [
    "maxpos=k2.index(val)"
   ]
  },
  {
   "cell_type": "code",
   "execution_count": null,
   "id": "ba38b8a2",
   "metadata": {},
   "outputs": [],
   "source": [
    "maxpos"
   ]
  },
  {
   "cell_type": "code",
   "execution_count": null,
   "id": "2ebdb3e3",
   "metadata": {},
   "outputs": [],
   "source": [
    "maxcount=k2.count(val)\n",
    "maxcount"
   ]
  },
  {
   "cell_type": "code",
   "execution_count": null,
   "id": "23587865",
   "metadata": {},
   "outputs": [],
   "source": [
    "def findind(k2,val):\n",
    "    maxpos=0\n",
    "    i=len(k)-1\n",
    "    for p in k[::-1]:\n",
    "        if p>k[maxpos]:\n",
    "            maxpos=i\n",
    "        i+=1\n",
    "        return maxpos"
   ]
  },
  {
   "cell_type": "code",
   "execution_count": null,
   "id": "c7a050d2",
   "metadata": {},
   "outputs": [],
   "source": [
    "def findind(lst,val):\n",
    "    nbrval=lst.count(val)\n",
    "    start=0\n",
    "    k=1\n",
    "    position=[]\n",
    "    while k<=nbrval:\n",
    "        position.append(lst.index(val,start))\n",
    "        print(position)\n",
    "        k+=1\n",
    "        start=lst.index(val,start)+1\n",
    "    return position"
   ]
  },
  {
   "cell_type": "code",
   "execution_count": null,
   "id": "658d094e",
   "metadata": {},
   "outputs": [],
   "source": [
    "findind(k2,12)"
   ]
  },
  {
   "cell_type": "code",
   "execution_count": null,
   "id": "1fe6a4ec",
   "metadata": {},
   "outputs": [],
   "source": [
    "def findind3(lst,val):\n",
    "    nbrval=lst.count(val)\n",
    "    k=1\n",
    "    position=[]\n",
    "    while len(position)<nbrval:\n",
    "        if len(position)==0:\n",
    "            position.append(lst.index(val,start))\n",
    "    \n",
    "        else:\n",
    "            position.append(lst.index(val,[-1]+1))\n",
    "    return position"
   ]
  },
  {
   "cell_type": "code",
   "execution_count": null,
   "id": "21f4539b",
   "metadata": {},
   "outputs": [],
   "source": [
    "findind3(lst,12)"
   ]
  },
  {
   "cell_type": "code",
   "execution_count": null,
   "id": "e07a8921",
   "metadata": {},
   "outputs": [],
   "source": [
    "def lcm(lst):\n",
    "    num=max(lst)\n",
    "    i=1\n",
    "    found=False\n",
    "    while not found:\n",
    "        alldiv=True\n",
    "        for j in lst:\n",
    "            if (num*i)%j!=0:\n",
    "                i+=1\n",
    "                alldiv=False\n",
    "                break\n",
    "        if alldiv:\n",
    "            found=True\n",
    "    return num*i\n",
    "    "
   ]
  },
  {
   "cell_type": "code",
   "execution_count": null,
   "id": "4ac2e0c3",
   "metadata": {},
   "outputs": [],
   "source": [
    "lcm((5,7,6,9))"
   ]
  },
  {
   "cell_type": "code",
   "execution_count": null,
   "id": "ef2a52ed",
   "metadata": {},
   "outputs": [],
   "source": [
    "# how many times the elements return in a list#"
   ]
  },
  {
   "cell_type": "code",
   "execution_count": null,
   "id": "964433d3",
   "metadata": {},
   "outputs": [],
   "source": [
    "[2,5,4,2,12,12,5,1,6]\n",
    "[2,5,4,12,1,6]\n",
    "[2,2,1,2,1,1]"
   ]
  },
  {
   "cell_type": "code",
   "execution_count": null,
   "id": "82de5e0a",
   "metadata": {},
   "outputs": [],
   "source": [
    "lcm((5,7,6,9))"
   ]
  },
  {
   "cell_type": "code",
   "execution_count": null,
   "id": "4e5c8168",
   "metadata": {},
   "outputs": [],
   "source": []
  },
  {
   "cell_type": "code",
   "execution_count": null,
   "id": "c5f59dcb",
   "metadata": {},
   "outputs": [],
   "source": []
  },
  {
   "cell_type": "code",
   "execution_count": null,
   "id": "8ce974f8",
   "metadata": {},
   "outputs": [],
   "source": []
  },
  {
   "cell_type": "code",
   "execution_count": null,
   "id": "f6cf696f",
   "metadata": {},
   "outputs": [],
   "source": []
  },
  {
   "cell_type": "code",
   "execution_count": null,
   "id": "0b1eb905",
   "metadata": {},
   "outputs": [],
   "source": []
  },
  {
   "cell_type": "code",
   "execution_count": null,
   "id": "bce91839",
   "metadata": {},
   "outputs": [],
   "source": []
  },
  {
   "cell_type": "code",
   "execution_count": null,
   "id": "1e1936cf",
   "metadata": {},
   "outputs": [],
   "source": []
  },
  {
   "cell_type": "code",
   "execution_count": null,
   "id": "40aeea31",
   "metadata": {},
   "outputs": [],
   "source": []
  },
  {
   "cell_type": "code",
   "execution_count": null,
   "id": "53e3aaf3",
   "metadata": {},
   "outputs": [],
   "source": []
  },
  {
   "cell_type": "code",
   "execution_count": null,
   "id": "93f93b5f",
   "metadata": {},
   "outputs": [],
   "source": []
  },
  {
   "cell_type": "code",
   "execution_count": null,
   "id": "f97f5019",
   "metadata": {},
   "outputs": [],
   "source": []
  },
  {
   "cell_type": "code",
   "execution_count": null,
   "id": "f4023a3e",
   "metadata": {},
   "outputs": [],
   "source": []
  },
  {
   "cell_type": "code",
   "execution_count": null,
   "id": "ed166c31",
   "metadata": {},
   "outputs": [],
   "source": []
  },
  {
   "cell_type": "code",
   "execution_count": null,
   "id": "162feb70",
   "metadata": {},
   "outputs": [],
   "source": []
  },
  {
   "cell_type": "code",
   "execution_count": null,
   "id": "955b6a77",
   "metadata": {},
   "outputs": [],
   "source": []
  },
  {
   "cell_type": "code",
   "execution_count": null,
   "id": "ae88f0ef",
   "metadata": {},
   "outputs": [],
   "source": []
  },
  {
   "cell_type": "code",
   "execution_count": null,
   "id": "758612f4",
   "metadata": {},
   "outputs": [],
   "source": []
  },
  {
   "cell_type": "code",
   "execution_count": null,
   "id": "dd965081",
   "metadata": {},
   "outputs": [],
   "source": []
  },
  {
   "cell_type": "code",
   "execution_count": null,
   "id": "7ea0589a",
   "metadata": {},
   "outputs": [],
   "source": []
  },
  {
   "cell_type": "code",
   "execution_count": null,
   "id": "74801683",
   "metadata": {},
   "outputs": [],
   "source": [
    "f=[2,4,3,5,6,7,8,9,4,5,4,5,6,8,9,11,12]\n",
    "isSet=[\"True\" if f.count(i)==1 else \"False\" for i in f]\n",
    "print(isSet)"
   ]
  },
  {
   "cell_type": "code",
   "execution_count": null,
   "id": "014674bf",
   "metadata": {},
   "outputs": [],
   "source": [
    "\n",
    "f=[2,2,4,4,3,3,3,5,6,7,8,9,6,4,3,4,5,4,5,5,6,8,8,9,11,12,12,12]\n",
    "asSet=[]\n",
    "for i in f:\n",
    "    if i not in asSet:\n",
    "       asSet.append(i)\n",
    "asSet      "
   ]
  },
  {
   "cell_type": "code",
   "execution_count": null,
   "id": "926eb541",
   "metadata": {},
   "outputs": [],
   "source": [
    "f=[2,2,4,4,3,3,3,5,6,7,8,9,6,4,3,4,5,4,5,5,6,8,8,9,11,12,12,12]\n",
    "asSet=list(set(f))\n",
    "print(asSet)"
   ]
  },
  {
   "cell_type": "code",
   "execution_count": null,
   "id": "4d3d53ec",
   "metadata": {},
   "outputs": [],
   "source": [
    "def xor(A,B):\n",
    "    A=[2,4,5,3,6,4,7,8,7,9]\n",
    "    B=[5,4,3,6,7,3,5,8,1,11]\n",
    "    xor=[A.sym_diff(A,B)]    \n",
    "    return xor"
   ]
  },
  {
   "cell_type": "code",
   "execution_count": null,
   "id": "f8d85333",
   "metadata": {},
   "outputs": [],
   "source": [
    "sym_diff=xor(A,B)"
   ]
  },
  {
   "cell_type": "code",
   "execution_count": null,
   "id": "2b3b7a1d",
   "metadata": {},
   "outputs": [],
   "source": [
    "def xor(A,B):\n",
    "    inter=[item for item in A if item in B]\n",
    "    return [item for item in A+B if item not in inter]\n",
    "A=[2,4,5,3,6,4,7,8,7,9]\n",
    "B=[5,4,3,6,7,3,5,8,1,11]    \n",
    "sym_diff=xor(A,B)\n",
    "print(sym_diff)"
   ]
  },
  {
   "cell_type": "code",
   "execution_count": null,
   "id": "e97a511b",
   "metadata": {},
   "outputs": [],
   "source": [
    "sym_diff([2,4,5,3,6,4,7,8,7,9],[5,4,3,6,7,3,5,8,1,11])"
   ]
  },
  {
   "cell_type": "code",
   "execution_count": null,
   "id": "964b1906",
   "metadata": {},
   "outputs": [],
   "source": []
  },
  {
   "cell_type": "code",
   "execution_count": null,
   "id": "c0b4decf",
   "metadata": {},
   "outputs": [],
   "source": []
  }
 ],
 "metadata": {
  "kernelspec": {
   "display_name": "Python 3 (ipykernel)",
   "language": "python",
   "name": "python3"
  },
  "language_info": {
   "codemirror_mode": {
    "name": "ipython",
    "version": 3
   },
   "file_extension": ".py",
   "mimetype": "text/x-python",
   "name": "python",
   "nbconvert_exporter": "python",
   "pygments_lexer": "ipython3",
   "version": "3.11.2"
  }
 },
 "nbformat": 4,
 "nbformat_minor": 5
}
