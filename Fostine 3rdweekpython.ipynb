{
 "cells": [
  {
   "cell_type": "code",
   "execution_count": 1,
   "id": "532008b0",
   "metadata": {},
   "outputs": [],
   "source": [
    "#fostine@aims.edu.gh\n",
    "#+256 777422735"
   ]
  },
  {
   "cell_type": "code",
   "execution_count": 5,
   "id": "da1d9998",
   "metadata": {},
   "outputs": [],
   "source": [
    "mylist = [-2,3,5,9,10,-20]\n",
    "def abs_min(mylist):\n",
    "    x = abs(mylist[0])\n",
    "    for i in mylist:\n",
    "        if abs(i)<x:\n",
    "            x=abs(i)\n",
    "    return x"
   ]
  },
  {
   "cell_type": "code",
   "execution_count": 6,
   "id": "ed63497c",
   "metadata": {},
   "outputs": [
    {
     "data": {
      "text/plain": [
       "2"
      ]
     },
     "execution_count": 6,
     "metadata": {},
     "output_type": "execute_result"
    }
   ],
   "source": [
    "abs_min([-2,3,5,9,10,-20])"
   ]
  },
  {
   "cell_type": "code",
   "execution_count": 8,
   "id": "1d0c5807",
   "metadata": {},
   "outputs": [],
   "source": [
    "t = [-1,3,5,9,10,2]\n",
    "def abs_max(t):\n",
    "    x = abs(t[0])\n",
    "    for i in t:\n",
    "        if abs(i)>x:\n",
    "            x=abs(i)\n",
    "    return x"
   ]
  },
  {
   "cell_type": "code",
   "execution_count": 9,
   "id": "4cd83589",
   "metadata": {},
   "outputs": [
    {
     "data": {
      "text/plain": [
       "10"
      ]
     },
     "execution_count": 9,
     "metadata": {},
     "output_type": "execute_result"
    }
   ],
   "source": [
    "abs_max([-1,3,5,9,10,2])"
   ]
  },
  {
   "cell_type": "code",
   "execution_count": null,
   "id": "b9b57ed0",
   "metadata": {},
   "outputs": [],
   "source": [
    "f=[2,5,4,2,12,12,5,1,6]\n",
    "m=[]"
   ]
  },
  {
   "cell_type": "code",
   "execution_count": 6,
   "id": "2c91dbc0",
   "metadata": {},
   "outputs": [],
   "source": [
    "f=[2,5,4,2,12,12,5,1,6]"
   ]
  },
  {
   "cell_type": "code",
   "execution_count": 7,
   "id": "18dd7446",
   "metadata": {},
   "outputs": [],
   "source": [
    "def mymax(f):\n",
    "    x=f[0]\n",
    "    for i in f:\n",
    "        if i>x:\n",
    "            x=i\n",
    "    return x"
   ]
  },
  {
   "cell_type": "code",
   "execution_count": 8,
   "id": "75be797e",
   "metadata": {},
   "outputs": [
    {
     "data": {
      "text/plain": [
       "12"
      ]
     },
     "execution_count": 8,
     "metadata": {},
     "output_type": "execute_result"
    }
   ],
   "source": [
    "mymax((2,5,4,2,12,12,5,1,6))"
   ]
  },
  {
   "cell_type": "code",
   "execution_count": 9,
   "id": "5340ea23",
   "metadata": {},
   "outputs": [
    {
     "data": {
      "text/plain": [
       "12"
      ]
     },
     "execution_count": 9,
     "metadata": {},
     "output_type": "execute_result"
    }
   ],
   "source": [
    "mymax((9,5,12,7,6,3))"
   ]
  },
  {
   "cell_type": "code",
   "execution_count": 10,
   "id": "603213db",
   "metadata": {},
   "outputs": [],
   "source": [
    "f=[2,5,4,2,12,12,5,1,6]"
   ]
  },
  {
   "cell_type": "code",
   "execution_count": 11,
   "id": "2dd3672f",
   "metadata": {},
   "outputs": [],
   "source": [
    "val=mymax(f)"
   ]
  },
  {
   "cell_type": "code",
   "execution_count": 12,
   "id": "56b00eeb",
   "metadata": {},
   "outputs": [
    {
     "data": {
      "text/plain": [
       "12"
      ]
     },
     "execution_count": 12,
     "metadata": {},
     "output_type": "execute_result"
    }
   ],
   "source": [
    "val"
   ]
  },
  {
   "cell_type": "code",
   "execution_count": 13,
   "id": "6e8c60d4",
   "metadata": {},
   "outputs": [],
   "source": [
    "maxpos=f.index(val)"
   ]
  },
  {
   "cell_type": "code",
   "execution_count": 14,
   "id": "5d5bd066",
   "metadata": {},
   "outputs": [
    {
     "data": {
      "text/plain": [
       "4"
      ]
     },
     "execution_count": 14,
     "metadata": {},
     "output_type": "execute_result"
    }
   ],
   "source": [
    "maxpos"
   ]
  },
  {
   "cell_type": "code",
   "execution_count": 15,
   "id": "a57636b2",
   "metadata": {},
   "outputs": [],
   "source": [
    "maxcount=f.count(val)"
   ]
  },
  {
   "cell_type": "code",
   "execution_count": 16,
   "id": "f682afdc",
   "metadata": {},
   "outputs": [
    {
     "data": {
      "text/plain": [
       "2"
      ]
     },
     "execution_count": 16,
     "metadata": {},
     "output_type": "execute_result"
    }
   ],
   "source": [
    "maxcount"
   ]
  },
  {
   "cell_type": "code",
   "execution_count": 17,
   "id": "5b279177",
   "metadata": {},
   "outputs": [],
   "source": [
    "f=[2,5,4,2,12,12,5,1,6]"
   ]
  },
  {
   "cell_type": "code",
   "execution_count": 18,
   "id": "78fec0a2",
   "metadata": {},
   "outputs": [],
   "source": [
    "def findind2(lst,val):\n",
    "    result=[]\n",
    "    i=0\n",
    "    while i<len(lst):\n",
    "        if lst[i]==val:\n",
    "            result.append(i)\n",
    "        i+=1\n",
    "    return result"
   ]
  },
  {
   "cell_type": "code",
   "execution_count": 19,
   "id": "f2fbcd1c",
   "metadata": {},
   "outputs": [
    {
     "data": {
      "text/plain": [
       "[4, 5]"
      ]
     },
     "execution_count": 19,
     "metadata": {},
     "output_type": "execute_result"
    }
   ],
   "source": [
    "findind2(f,12)"
   ]
  },
  {
   "cell_type": "code",
   "execution_count": 20,
   "id": "d0b03018",
   "metadata": {},
   "outputs": [],
   "source": [
    "m=[2,5,4,12,1,6]"
   ]
  },
  {
   "cell_type": "code",
   "execution_count": 21,
   "id": "c5f4768f",
   "metadata": {},
   "outputs": [],
   "source": [
    "def findind2(lst,val):\n",
    "    result=[]\n",
    "    i=0\n",
    "    while i<len(lst):\n",
    "        if lst[i]==val:\n",
    "            result.append(i)\n",
    "        i+=1\n",
    "    return result"
   ]
  },
  {
   "cell_type": "code",
   "execution_count": 22,
   "id": "6872e273",
   "metadata": {},
   "outputs": [
    {
     "data": {
      "text/plain": [
       "[3]"
      ]
     },
     "execution_count": 22,
     "metadata": {},
     "output_type": "execute_result"
    }
   ],
   "source": [
    "findind2(m,12)"
   ]
  },
  {
   "cell_type": "code",
   "execution_count": 23,
   "id": "a9d0a16b",
   "metadata": {},
   "outputs": [],
   "source": [
    "d=[2, 2, 1, 2, 1, 1]"
   ]
  },
  {
   "cell_type": "code",
   "execution_count": 24,
   "id": "a08bf7bb",
   "metadata": {},
   "outputs": [],
   "source": [
    "def findind2(lst,val):\n",
    "    result=[]\n",
    "    i=0\n",
    "    while i<len(lst):\n",
    "        if lst[i]==val:\n",
    "            result.append(i)\n",
    "        i+=1\n",
    "    return result"
   ]
  },
  {
   "cell_type": "code",
   "execution_count": 25,
   "id": "77c5df2e",
   "metadata": {},
   "outputs": [
    {
     "data": {
      "text/plain": [
       "[0, 1, 3]"
      ]
     },
     "execution_count": 25,
     "metadata": {},
     "output_type": "execute_result"
    }
   ],
   "source": [
    "findind2(d,2)"
   ]
  },
  {
   "cell_type": "code",
   "execution_count": 26,
   "id": "5160e1e2",
   "metadata": {},
   "outputs": [],
   "source": [
    "f=[2,5,4,2,12,12,5,1,6]"
   ]
  },
  {
   "cell_type": "code",
   "execution_count": 27,
   "id": "a5a37184",
   "metadata": {},
   "outputs": [],
   "source": [
    "def findind(lst,val):\n",
    "    nbrval=lst.count(val)\n",
    "    start=0\n",
    "    f=1\n",
    "    position=[]\n",
    "    while f<=nbrval:\n",
    "        position.append(lst.index(val,start))\n",
    "        print(position)\n",
    "        f+=1\n",
    "        start=lst.index(val,start)+1\n",
    "    return position"
   ]
  },
  {
   "cell_type": "code",
   "execution_count": 28,
   "id": "9e8d839e",
   "metadata": {},
   "outputs": [
    {
     "name": "stdout",
     "output_type": "stream",
     "text": [
      "[4]\n",
      "[4, 5]\n"
     ]
    },
    {
     "data": {
      "text/plain": [
       "[4, 5]"
      ]
     },
     "execution_count": 28,
     "metadata": {},
     "output_type": "execute_result"
    }
   ],
   "source": [
    "findind(f,12)"
   ]
  },
  {
   "cell_type": "code",
   "execution_count": 29,
   "id": "bc10b445",
   "metadata": {},
   "outputs": [],
   "source": [
    "m=[2,5,4,12,1,6]"
   ]
  },
  {
   "cell_type": "code",
   "execution_count": 30,
   "id": "a9a517d6",
   "metadata": {},
   "outputs": [],
   "source": [
    "def findind3(lst,val):\n",
    "    nbrval=lst.count(val)\n",
    "    start=0\n",
    "    m=1\n",
    "    position=[]\n",
    "    while m<=nbrval:\n",
    "        position.append(lst.index(val,start))\n",
    "        print(position)\n",
    "        m+=1\n",
    "        start=lst.index(val,start)+1\n",
    "    return position"
   ]
  },
  {
   "cell_type": "code",
   "execution_count": 31,
   "id": "63f79490",
   "metadata": {},
   "outputs": [
    {
     "name": "stdout",
     "output_type": "stream",
     "text": [
      "[3]\n"
     ]
    },
    {
     "data": {
      "text/plain": [
       "[3]"
      ]
     },
     "execution_count": 31,
     "metadata": {},
     "output_type": "execute_result"
    }
   ],
   "source": [
    "findind3(m,12)\n"
   ]
  },
  {
   "cell_type": "code",
   "execution_count": 32,
   "id": "62d8ad6e",
   "metadata": {},
   "outputs": [],
   "source": [
    "d=[2, 2, 1, 2, 1, 1]"
   ]
  },
  {
   "cell_type": "code",
   "execution_count": 33,
   "id": "b1ebbbe8",
   "metadata": {},
   "outputs": [],
   "source": [
    "val=mymax(d)"
   ]
  },
  {
   "cell_type": "code",
   "execution_count": 34,
   "id": "b8c54d93",
   "metadata": {},
   "outputs": [
    {
     "data": {
      "text/plain": [
       "2"
      ]
     },
     "execution_count": 34,
     "metadata": {},
     "output_type": "execute_result"
    }
   ],
   "source": [
    "val"
   ]
  },
  {
   "cell_type": "code",
   "execution_count": 35,
   "id": "210d54da",
   "metadata": {},
   "outputs": [],
   "source": [
    "maxpos=d.index(val)"
   ]
  },
  {
   "cell_type": "code",
   "execution_count": 36,
   "id": "f7309184",
   "metadata": {},
   "outputs": [
    {
     "data": {
      "text/plain": [
       "0"
      ]
     },
     "execution_count": 36,
     "metadata": {},
     "output_type": "execute_result"
    }
   ],
   "source": [
    "maxpos"
   ]
  },
  {
   "cell_type": "code",
   "execution_count": 37,
   "id": "4c0ee30d",
   "metadata": {},
   "outputs": [],
   "source": [
    "maxcount=d.count(val)"
   ]
  },
  {
   "cell_type": "code",
   "execution_count": 38,
   "id": "dd64b15a",
   "metadata": {},
   "outputs": [
    {
     "data": {
      "text/plain": [
       "3"
      ]
     },
     "execution_count": 38,
     "metadata": {},
     "output_type": "execute_result"
    }
   ],
   "source": [
    "maxcount"
   ]
  },
  {
   "cell_type": "code",
   "execution_count": 39,
   "id": "8a8a1766",
   "metadata": {},
   "outputs": [],
   "source": [
    "def findind3(lst,val):\n",
    "    nbrval=lst.count(val)\n",
    "    start=0\n",
    "    d=1\n",
    "    position=[]\n",
    "    while d<=nbrval:\n",
    "        position.append(lst.index(val,start))\n",
    "        print(position)\n",
    "        d+=1\n",
    "        start=lst.index(val,start)+1\n",
    "    return position"
   ]
  },
  {
   "cell_type": "code",
   "execution_count": 40,
   "id": "8e39aa41",
   "metadata": {},
   "outputs": [
    {
     "name": "stdout",
     "output_type": "stream",
     "text": [
      "[0]\n",
      "[0, 1]\n",
      "[0, 1, 3]\n"
     ]
    },
    {
     "data": {
      "text/plain": [
       "[0, 1, 3]"
      ]
     },
     "execution_count": 40,
     "metadata": {},
     "output_type": "execute_result"
    }
   ],
   "source": [
    "findind(d,2)"
   ]
  },
  {
   "cell_type": "code",
   "execution_count": 41,
   "id": "d2829b79",
   "metadata": {},
   "outputs": [],
   "source": [
    "d=[2, 2, 1, 2, 1, 1]"
   ]
  },
  {
   "cell_type": "code",
   "execution_count": 42,
   "id": "f18570e6",
   "metadata": {},
   "outputs": [],
   "source": [
    "def findind3(lst,val):\n",
    "    nbrval=lst.count(val)\n",
    "    start =0\n",
    "    d=1\n",
    "    position=[]\n",
    "    while len(position)<nbrval:\n",
    "        if len(position)==0:\n",
    "            position.append(lst.index(val,start))\n",
    "    \n",
    "        else:\n",
    "            position.append(lst.index(val,position[-1]+1))\n",
    "    return position"
   ]
  },
  {
   "cell_type": "code",
   "execution_count": 43,
   "id": "c5ce3755",
   "metadata": {},
   "outputs": [
    {
     "data": {
      "text/plain": [
       "[0, 1, 3]"
      ]
     },
     "execution_count": 43,
     "metadata": {},
     "output_type": "execute_result"
    }
   ],
   "source": [
    "findind3(d,2)"
   ]
  },
  {
   "cell_type": "code",
   "execution_count": 44,
   "id": "38468ecf",
   "metadata": {},
   "outputs": [],
   "source": [
    "def findind1(lst,val):\n",
    "    nub_val=lst.count(val)\n",
    "    start=0\n",
    "    d=1\n",
    "    position=[]\n",
    "    while d<=nbrval:\n",
    "        position.append(lst.index(val,start))\n",
    "        print(position)\n",
    "        d+=1\n",
    "        start=lst.index(val,start)+1\n",
    "    return position"
   ]
  },
  {
   "cell_type": "code",
   "execution_count": 45,
   "id": "fda6e381",
   "metadata": {},
   "outputs": [
    {
     "name": "stdout",
     "output_type": "stream",
     "text": [
      "[0]\n",
      "[0, 1]\n",
      "[0, 1, 3]\n"
     ]
    },
    {
     "data": {
      "text/plain": [
       "[0, 1, 3]"
      ]
     },
     "execution_count": 45,
     "metadata": {},
     "output_type": "execute_result"
    }
   ],
   "source": [
    "findind(d,2)"
   ]
  },
  {
   "cell_type": "code",
   "execution_count": 46,
   "id": "af4af7d9",
   "metadata": {},
   "outputs": [],
   "source": [
    "# how many times the elements return in a list#"
   ]
  },
  {
   "cell_type": "code",
   "execution_count": 47,
   "id": "a1ea10d4",
   "metadata": {},
   "outputs": [
    {
     "data": {
      "text/plain": [
       "[2, 2, 1, 2, 1, 1]"
      ]
     },
     "execution_count": 47,
     "metadata": {},
     "output_type": "execute_result"
    }
   ],
   "source": [
    "[2,5,4,2,12,12,5,1,6]\n",
    "[2,5,4,12,1,6]\n",
    "[2,2,1,2,1,1]"
   ]
  },
  {
   "cell_type": "code",
   "execution_count": 48,
   "id": "d17e9b14",
   "metadata": {},
   "outputs": [
    {
     "name": "stdout",
     "output_type": "stream",
     "text": [
      "[2, 1] [3, 3]\n"
     ]
    }
   ],
   "source": [
    "f=[2,2,1,2,1,1]\n",
    "x=[]\n",
    "y=[]\n",
    "n=0\n",
    "for i in f:   \n",
    "    if i not in x:\n",
    "        x.append (i)\n",
    "\n",
    "for k in x:\n",
    "    for i in f:\n",
    "        if k==i:\n",
    "            n+=1\n",
    "    y.append(n)\n",
    "    n=0\n",
    "print(x,y)"
   ]
  },
  {
   "cell_type": "code",
   "execution_count": 49,
   "id": "e7c2b836",
   "metadata": {},
   "outputs": [
    {
     "name": "stdout",
     "output_type": "stream",
     "text": [
      "[2, 5, 4, 12, 1, 6] [2, 2, 1, 2, 1, 1]\n"
     ]
    }
   ],
   "source": [
    "k=[2,5,4,2,12,12,5,1,6]\n",
    "x=[]\n",
    "y=[]\n",
    "n=0\n",
    "for i in k:   \n",
    "    if i not in x:\n",
    "        x.append (i)\n",
    "\n",
    "for m in x:\n",
    "    for i in k:\n",
    "        if m==i:\n",
    "            n+=1\n",
    "    y.append(n)\n",
    "    n=0\n",
    "print(x,y)"
   ]
  },
  {
   "cell_type": "code",
   "execution_count": 50,
   "id": "64c7f2a2",
   "metadata": {},
   "outputs": [
    {
     "name": "stdout",
     "output_type": "stream",
     "text": [
      "[2, 5, 4, 12, 1, 6] [1, 1, 1, 1, 1, 1]\n"
     ]
    }
   ],
   "source": [
    "z=[2,5,4,12,1,6]\n",
    "x=[]\n",
    "y=[]\n",
    "n=0\n",
    "for i in z:   \n",
    "    if i not in x:\n",
    "        x.append (i)\n",
    "\n",
    "for b in x:\n",
    "    for i in z:\n",
    "        if b==i:\n",
    "            n+=1\n",
    "    y.append(n)\n",
    "    n=0\n",
    "print(x,y)"
   ]
  },
  {
   "cell_type": "code",
   "execution_count": null,
   "id": "c9f602e8",
   "metadata": {},
   "outputs": [],
   "source": []
  },
  {
   "cell_type": "code",
   "execution_count": 51,
   "id": "4b948783",
   "metadata": {},
   "outputs": [],
   "source": [
    "mylist=[4,5,8,6,9]\n",
    "mynum=48"
   ]
  },
  {
   "cell_type": "code",
   "execution_count": 52,
   "id": "6c5fe6d1",
   "metadata": {},
   "outputs": [
    {
     "name": "stdout",
     "output_type": "stream",
     "text": [
      "[0, 3, 0, 0, 3]\n"
     ]
    }
   ],
   "source": [
    "newlist=[]\n",
    "for div in mylist:\n",
    "    newlist.append(mynum%div)\n",
    "print(newlist)"
   ]
  },
  {
   "cell_type": "code",
   "execution_count": 53,
   "id": "41f4dac8",
   "metadata": {},
   "outputs": [],
   "source": [
    "def rems(mylist,mynum):\n",
    "    res=[]\n",
    "    for i in mylist:\n",
    "        new = mynum % i\n",
    "        res.append(new)\n",
    "    return res"
   ]
  },
  {
   "cell_type": "code",
   "execution_count": 54,
   "id": "b25bc423",
   "metadata": {},
   "outputs": [
    {
     "data": {
      "text/plain": [
       "[0, 3, 0, 0, 3]"
      ]
     },
     "execution_count": 54,
     "metadata": {},
     "output_type": "execute_result"
    }
   ],
   "source": [
    "rems([4,5,8,6,9],48)"
   ]
  },
  {
   "cell_type": "code",
   "execution_count": 55,
   "id": "401068a9",
   "metadata": {},
   "outputs": [],
   "source": [
    "def lcm(list):\n",
    "    num=max(list)\n",
    "    i=1\n",
    "    found=False\n",
    "    while not found:\n",
    "        res=rems(list,num*i)\n",
    "        if sum(res)==0:\n",
    "            found=True\n",
    "        else:\n",
    "            i+=1\n",
    "    return num*i"
   ]
  },
  {
   "cell_type": "code",
   "execution_count": 56,
   "id": "cbb037a6",
   "metadata": {},
   "outputs": [],
   "source": [
    "list=[5,7,6,9]"
   ]
  },
  {
   "cell_type": "code",
   "execution_count": 57,
   "id": "beb1e934",
   "metadata": {},
   "outputs": [
    {
     "data": {
      "text/plain": [
       "[2, 8, 18, 32, 50, 72, 98, 128]"
      ]
     },
     "execution_count": 57,
     "metadata": {},
     "output_type": "execute_result"
    }
   ],
   "source": [
    "x=[1,2,3,4,5,6,7,8]\n",
    "y=[]\n",
    "for i in x:\n",
    "    y.append(2*i**2)\n",
    "y"
   ]
  },
  {
   "cell_type": "code",
   "execution_count": 58,
   "id": "1269fa05",
   "metadata": {},
   "outputs": [
    {
     "data": {
      "text/plain": [
       "[2, 8, 18, 32, 50, 72, 98, 128]"
      ]
     },
     "execution_count": 58,
     "metadata": {},
     "output_type": "execute_result"
    }
   ],
   "source": [
    "x=[1,2,3,4,5,6,7,8]\n",
    "y=[2*i**2 for i in x]\n",
    "y"
   ]
  },
  {
   "cell_type": "code",
   "execution_count": 59,
   "id": "c1813bf2",
   "metadata": {},
   "outputs": [
    {
     "data": {
      "text/plain": [
       "[2, 8, 18, 32, 50, 72, 98, 128]"
      ]
     },
     "execution_count": 59,
     "metadata": {},
     "output_type": "execute_result"
    }
   ],
   "source": [
    "res=[2*i**2 for i in x]\n",
    "res"
   ]
  },
  {
   "cell_type": "code",
   "execution_count": 60,
   "id": "acf30a85",
   "metadata": {},
   "outputs": [],
   "source": [
    "x=[1,2,3,4,5,6,7,8]\n",
    "y=[i for i in x if mynum % i==0]"
   ]
  },
  {
   "cell_type": "code",
   "execution_count": 61,
   "id": "63579c81",
   "metadata": {},
   "outputs": [
    {
     "data": {
      "text/plain": [
       "[1, 2, 3, 4, 6, 8]"
      ]
     },
     "execution_count": 61,
     "metadata": {},
     "output_type": "execute_result"
    }
   ],
   "source": [
    "y"
   ]
  },
  {
   "cell_type": "code",
   "execution_count": 62,
   "id": "179e057b",
   "metadata": {},
   "outputs": [],
   "source": [
    "x=[1,2,3,4,5,6,7,8]\n",
    "y=[1,2,9,4,25,6,49,8]\n",
    "y=[i if i%2==0 else i**2 for i in x]"
   ]
  },
  {
   "cell_type": "code",
   "execution_count": 63,
   "id": "852915cb",
   "metadata": {},
   "outputs": [
    {
     "data": {
      "text/plain": [
       "[1, 2, 9, 4, 25, 6, 49, 8]"
      ]
     },
     "execution_count": 63,
     "metadata": {},
     "output_type": "execute_result"
    }
   ],
   "source": [
    "y"
   ]
  },
  {
   "cell_type": "code",
   "execution_count": 64,
   "id": "9c174619",
   "metadata": {},
   "outputs": [],
   "source": [
    "x=[1,2,3,4,5,6,7,8]\n",
    "y=[1,2,9,4,25,6,49,8]\n",
    "y=[2**i if i<5 else 1/2**i for i in x]"
   ]
  },
  {
   "cell_type": "code",
   "execution_count": 65,
   "id": "0cf54e3c",
   "metadata": {},
   "outputs": [
    {
     "data": {
      "text/plain": [
       "[2, 4, 8, 16, 0.03125, 0.015625, 0.0078125, 0.00390625]"
      ]
     },
     "execution_count": 65,
     "metadata": {},
     "output_type": "execute_result"
    }
   ],
   "source": [
    "y"
   ]
  },
  {
   "cell_type": "code",
   "execution_count": 66,
   "id": "5585d552",
   "metadata": {},
   "outputs": [],
   "source": [
    "y=[]\n",
    "for i in x:\n",
    "    if i % 2==0:\n",
    "        y.append(i)\n",
    "    else:\n",
    "        y.append(i**2)"
   ]
  },
  {
   "cell_type": "code",
   "execution_count": 67,
   "id": "24ec8fbc",
   "metadata": {},
   "outputs": [
    {
     "data": {
      "text/plain": [
       "[1, 2, 9, 4, 25, 6, 49, 8]"
      ]
     },
     "execution_count": 67,
     "metadata": {},
     "output_type": "execute_result"
    }
   ],
   "source": [
    "y"
   ]
  },
  {
   "cell_type": "code",
   "execution_count": 68,
   "id": "2597a61c",
   "metadata": {},
   "outputs": [
    {
     "data": {
      "text/plain": [
       "False"
      ]
     },
     "execution_count": 68,
     "metadata": {},
     "output_type": "execute_result"
    }
   ],
   "source": [
    "all([True,True,False,False])"
   ]
  },
  {
   "cell_type": "code",
   "execution_count": 69,
   "id": "91b81d7f",
   "metadata": {},
   "outputs": [
    {
     "data": {
      "text/plain": [
       "True"
      ]
     },
     "execution_count": 69,
     "metadata": {},
     "output_type": "execute_result"
    }
   ],
   "source": [
    "any([0,1,1,1,0,0,0])"
   ]
  },
  {
   "cell_type": "code",
   "execution_count": 70,
   "id": "83c92c38",
   "metadata": {},
   "outputs": [
    {
     "data": {
      "text/plain": [
       "False"
      ]
     },
     "execution_count": 70,
     "metadata": {},
     "output_type": "execute_result"
    }
   ],
   "source": [
    "all([1,0,0,1])"
   ]
  },
  {
   "cell_type": "code",
   "execution_count": 71,
   "id": "5e195b4f",
   "metadata": {},
   "outputs": [
    {
     "data": {
      "text/plain": [
       "True"
      ]
     },
     "execution_count": 71,
     "metadata": {},
     "output_type": "execute_result"
    }
   ],
   "source": [
    "all([1,1,1,1,1,1])"
   ]
  },
  {
   "cell_type": "code",
   "execution_count": 72,
   "id": "d0540c19",
   "metadata": {},
   "outputs": [
    {
     "data": {
      "text/plain": [
       "False"
      ]
     },
     "execution_count": 72,
     "metadata": {},
     "output_type": "execute_result"
    }
   ],
   "source": [
    "all([0,1])"
   ]
  },
  {
   "cell_type": "code",
   "execution_count": 2,
   "id": "ff40ce1c",
   "metadata": {},
   "outputs": [
    {
     "data": {
      "text/plain": [
       "True"
      ]
     },
     "execution_count": 2,
     "metadata": {},
     "output_type": "execute_result"
    }
   ],
   "source": [
    "all([])"
   ]
  },
  {
   "cell_type": "code",
   "execution_count": 3,
   "id": "0803aed7",
   "metadata": {},
   "outputs": [
    {
     "data": {
      "text/plain": [
       "True"
      ]
     },
     "execution_count": 3,
     "metadata": {},
     "output_type": "execute_result"
    }
   ],
   "source": [
    "all([1])"
   ]
  },
  {
   "cell_type": "code",
   "execution_count": 4,
   "id": "9a08ab26",
   "metadata": {},
   "outputs": [
    {
     "data": {
      "text/plain": [
       "False"
      ]
     },
     "execution_count": 4,
     "metadata": {},
     "output_type": "execute_result"
    }
   ],
   "source": [
    "all([1,0])"
   ]
  },
  {
   "cell_type": "code",
   "execution_count": 5,
   "id": "712415df",
   "metadata": {},
   "outputs": [],
   "source": [
    "lst=[2,3,6,9]\n",
    "num=9\n",
    "i=2"
   ]
  },
  {
   "cell_type": "code",
   "execution_count": 6,
   "id": "2455cbfe",
   "metadata": {},
   "outputs": [],
   "source": [
    "def lcm(list):\n",
    "    num=max(list)\n",
    "    i=1\n",
    "    found=False\n",
    "    while not found:\n",
    "        res=[(num)*i%j for j in list]\n",
    "        if sum(res)==0:\n",
    "            found=True\n",
    "        else:\n",
    "            i+=1\n",
    "    return num*i"
   ]
  },
  {
   "cell_type": "code",
   "execution_count": 7,
   "id": "7d23e4a9",
   "metadata": {},
   "outputs": [
    {
     "data": {
      "text/plain": [
       "280"
      ]
     },
     "execution_count": 7,
     "metadata": {},
     "output_type": "execute_result"
    }
   ],
   "source": [
    "lcm([2,5,7,8])"
   ]
  },
  {
   "cell_type": "code",
   "execution_count": 8,
   "id": "ea12c451",
   "metadata": {},
   "outputs": [],
   "source": [
    "sam=range(1,10)"
   ]
  },
  {
   "cell_type": "code",
   "execution_count": 9,
   "id": "0227dd71",
   "metadata": {},
   "outputs": [
    {
     "data": {
      "text/plain": [
       "[1, 2, 3, 4, 5, 6, 7, 8, 9]"
      ]
     },
     "execution_count": 9,
     "metadata": {},
     "output_type": "execute_result"
    }
   ],
   "source": [
    "list(sam)"
   ]
  },
  {
   "cell_type": "code",
   "execution_count": 10,
   "id": "7966aaad",
   "metadata": {},
   "outputs": [
    {
     "data": {
      "text/plain": [
       "[1, 2, 3, 4, 5, 6, 7, 8]"
      ]
     },
     "execution_count": 10,
     "metadata": {},
     "output_type": "execute_result"
    }
   ],
   "source": [
    "list(range(1,9))"
   ]
  },
  {
   "cell_type": "code",
   "execution_count": 11,
   "id": "01b928b2",
   "metadata": {},
   "outputs": [
    {
     "data": {
      "text/plain": [
       "[0, 1, 2, 3, 4, 5, 6, 7, 8]"
      ]
     },
     "execution_count": 11,
     "metadata": {},
     "output_type": "execute_result"
    }
   ],
   "source": [
    "list(range(9))"
   ]
  },
  {
   "cell_type": "code",
   "execution_count": 12,
   "id": "6c161eca",
   "metadata": {},
   "outputs": [
    {
     "data": {
      "text/plain": [
       "[]"
      ]
     },
     "execution_count": 12,
     "metadata": {},
     "output_type": "execute_result"
    }
   ],
   "source": [
    "list(range(9,2))"
   ]
  },
  {
   "cell_type": "code",
   "execution_count": 13,
   "id": "5e3c1d9b",
   "metadata": {},
   "outputs": [
    {
     "data": {
      "text/plain": [
       "[9, 8, 7, 6, 5, 4, 3, 2]"
      ]
     },
     "execution_count": 13,
     "metadata": {},
     "output_type": "execute_result"
    }
   ],
   "source": [
    "list(range(9,1,-1))"
   ]
  },
  {
   "cell_type": "code",
   "execution_count": 14,
   "id": "056c7293",
   "metadata": {},
   "outputs": [
    {
     "data": {
      "text/plain": [
       "[2, 7, 12, 17, 22, 27]"
      ]
     },
     "execution_count": 14,
     "metadata": {},
     "output_type": "execute_result"
    }
   ],
   "source": [
    "list(range(2,28,5))"
   ]
  },
  {
   "cell_type": "code",
   "execution_count": 15,
   "id": "c5a3a53b",
   "metadata": {},
   "outputs": [
    {
     "data": {
      "text/plain": [
       "[1, 6]"
      ]
     },
     "execution_count": 15,
     "metadata": {},
     "output_type": "execute_result"
    }
   ],
   "source": [
    "list(range(1,10,5))"
   ]
  },
  {
   "cell_type": "code",
   "execution_count": 16,
   "id": "21d7dde3",
   "metadata": {},
   "outputs": [
    {
     "data": {
      "text/plain": [
       "[1, 2, 5, 3, 6]"
      ]
     },
     "execution_count": 16,
     "metadata": {},
     "output_type": "execute_result"
    }
   ],
   "source": [
    "[1,2,1,5,3,2,1,6]\n",
    "[1,2,5,3,6]"
   ]
  },
  {
   "cell_type": "code",
   "execution_count": 17,
   "id": "0b4a7fc9",
   "metadata": {},
   "outputs": [],
   "source": [
    "k=[1,2,1,5,3,2,1,6]\n",
    "def freq(k):\n",
    "    x=[]\n",
    "    i=0\n",
    "    f=[]\n",
    "    while i<len(k):\n",
    "        if k[i] not in x:\n",
    "            x.append (k[i])\n",
    "            f.append(k.count(k[i]))\n",
    "        i+=1\n",
    "    return x,f"
   ]
  },
  {
   "cell_type": "code",
   "execution_count": 18,
   "id": "7dad72ce",
   "metadata": {},
   "outputs": [
    {
     "data": {
      "text/plain": [
       "([1, 2, 5, 3, 6], [3, 2, 1, 1, 1])"
      ]
     },
     "execution_count": 18,
     "metadata": {},
     "output_type": "execute_result"
    }
   ],
   "source": [
    "k=[1,2,1,5,3,2,1,6]\n",
    "freq(k)"
   ]
  },
  {
   "cell_type": "code",
   "execution_count": 19,
   "id": "08f0e148",
   "metadata": {},
   "outputs": [],
   "source": [
    "def freq(d):\n",
    "    x=[]\n",
    "    i=0\n",
    "    m=[]\n",
    "    while i<len(k):\n",
    "        if k[i] not in x:\n",
    "            x.append (k[i])\n",
    "            m.append(k.count(k[i]))\n",
    "        i+=1\n",
    "    return x,m"
   ]
  },
  {
   "cell_type": "code",
   "execution_count": 20,
   "id": "0b083d2a",
   "metadata": {},
   "outputs": [
    {
     "data": {
      "text/plain": [
       "([1, 2, 5, 3, 6], [3, 2, 1, 1, 1])"
      ]
     },
     "execution_count": 20,
     "metadata": {},
     "output_type": "execute_result"
    }
   ],
   "source": [
    "d=[1,2,1,5,3,5,3,6]\n",
    "freq(d)"
   ]
  },
  {
   "cell_type": "code",
   "execution_count": 21,
   "id": "134791c1",
   "metadata": {},
   "outputs": [],
   "source": [
    "stds={\"kenya\":4,\"ethiopia\":1,\"burundi\":2,\"madagascar\":2,\"nigeria\":4,\"uganda\":5,\"zambia\":2,\"dr congo\":1,\"gambia\":1,\"burkina faso\":1,\"cameroon\":1,\"malawi\":1,\"tanzania\":1,\"sudan\":2,\"zimbabwe\":1,\"ghana\":27}"
   ]
  },
  {
   "cell_type": "code",
   "execution_count": 22,
   "id": "23458377",
   "metadata": {},
   "outputs": [
    {
     "data": {
      "text/plain": [
       "{'kenya': 4,\n",
       " 'ethiopia': 1,\n",
       " 'burundi': 2,\n",
       " 'madagascar': 2,\n",
       " 'nigeria': 4,\n",
       " 'uganda': 5,\n",
       " 'zambia': 2,\n",
       " 'dr congo': 1,\n",
       " 'gambia': 1,\n",
       " 'burkina faso': 1,\n",
       " 'cameroon': 1,\n",
       " 'malawi': 1,\n",
       " 'tanzania': 1,\n",
       " 'sudan': 2,\n",
       " 'zimbabwe': 1,\n",
       " 'ghana': 27}"
      ]
     },
     "execution_count": 22,
     "metadata": {},
     "output_type": "execute_result"
    }
   ],
   "source": [
    "stds"
   ]
  },
  {
   "cell_type": "code",
   "execution_count": 23,
   "id": "78f5ddd7",
   "metadata": {},
   "outputs": [
    {
     "data": {
      "text/plain": [
       "5"
      ]
     },
     "execution_count": 23,
     "metadata": {},
     "output_type": "execute_result"
    }
   ],
   "source": [
    "stds[\"uganda\"]"
   ]
  },
  {
   "cell_type": "code",
   "execution_count": 24,
   "id": "1efe16f2",
   "metadata": {},
   "outputs": [],
   "source": [
    "def f2(d):\n",
    "    g=dict()\n",
    "    for i in d:\n",
    "        g[i]=d.count(i)\n",
    "    return g"
   ]
  },
  {
   "cell_type": "code",
   "execution_count": 25,
   "id": "d261d0d7",
   "metadata": {},
   "outputs": [
    {
     "data": {
      "text/plain": [
       "{1: 3, 2: 2, 5: 1, 3: 1, 6: 1}"
      ]
     },
     "execution_count": 25,
     "metadata": {},
     "output_type": "execute_result"
    }
   ],
   "source": [
    "f2([1,2,1,5,3,2,1,6])"
   ]
  },
  {
   "cell_type": "code",
   "execution_count": 26,
   "id": "8923bd27",
   "metadata": {},
   "outputs": [
    {
     "name": "stdout",
     "output_type": "stream",
     "text": [
      "kenya\n",
      "ethiopia\n",
      "burundi\n",
      "madagascar\n",
      "nigeria\n",
      "uganda\n",
      "zambia\n",
      "dr congo\n",
      "gambia\n",
      "burkina faso\n",
      "cameroon\n",
      "malawi\n",
      "tanzania\n",
      "sudan\n",
      "zimbabwe\n",
      "ghana\n"
     ]
    }
   ],
   "source": [
    "for i in stds:\n",
    "    print(i)"
   ]
  },
  {
   "cell_type": "code",
   "execution_count": 185,
   "id": "5823a9c3",
   "metadata": {},
   "outputs": [
    {
     "name": "stdout",
     "output_type": "stream",
     "text": [
      "kenya 4\n",
      "ethiopia 1\n",
      "burundi 2\n",
      "madagascar 2\n",
      "nigeria 4\n",
      "uganda 5\n",
      "zambia 2\n",
      "dr congo 1\n",
      "gambia 1\n",
      "burkina faso 1\n",
      "cameroon 1\n",
      "malawi 1\n",
      "tanzania 1\n",
      "sudan 2\n",
      "zimbabwe 1\n",
      "ghana 27\n"
     ]
    }
   ],
   "source": [
    "for key in stds:\n",
    "    print(key,stds[key])"
   ]
  },
  {
   "cell_type": "code",
   "execution_count": 189,
   "id": "593e54d3",
   "metadata": {},
   "outputs": [],
   "source": [
    "countries=('Ghana','Kenya','Zambia')"
   ]
  },
  {
   "cell_type": "code",
   "execution_count": 190,
   "id": "efc557e5",
   "metadata": {},
   "outputs": [
    {
     "data": {
      "text/plain": [
       "'Ghana'"
      ]
     },
     "execution_count": 190,
     "metadata": {},
     "output_type": "execute_result"
    }
   ],
   "source": [
    "countries[0]"
   ]
  },
  {
   "cell_type": "code",
   "execution_count": 32,
   "id": "ad7fcb2d",
   "metadata": {},
   "outputs": [
    {
     "data": {
      "text/plain": [
       "'Ghana'"
      ]
     },
     "execution_count": 32,
     "metadata": {},
     "output_type": "execute_result"
    }
   ],
   "source": [
    "'Ghana'"
   ]
  },
  {
   "cell_type": "code",
   "execution_count": 33,
   "id": "7b620a36",
   "metadata": {},
   "outputs": [
    {
     "data": {
      "text/plain": [
       "<function __main__.f2(d)>"
      ]
     },
     "execution_count": 33,
     "metadata": {},
     "output_type": "execute_result"
    }
   ],
   "source": [
    "f2"
   ]
  },
  {
   "cell_type": "code",
   "execution_count": 34,
   "id": "5f3fbc73",
   "metadata": {},
   "outputs": [],
   "source": [
    "def f2(d):\n",
    "    '''f2 returns the elements from the list d without duplicates and the frequency of the as a directory'''\n",
    "    g=dict()\n",
    "    for i in d:\n",
    "        g[i]=d.count(i)\n",
    "    return g"
   ]
  },
  {
   "cell_type": "code",
   "execution_count": 35,
   "id": "493e3c9d",
   "metadata": {},
   "outputs": [
    {
     "data": {
      "text/plain": [
       "([1, 2, 5, 3, 6], [3, 2, 1, 1, 1])"
      ]
     },
     "execution_count": 35,
     "metadata": {},
     "output_type": "execute_result"
    }
   ],
   "source": [
    "d=[1,2,1,5,3,5,3,6]\n",
    "freq(d)"
   ]
  },
  {
   "cell_type": "code",
   "execution_count": 36,
   "id": "c5f7c20b",
   "metadata": {},
   "outputs": [],
   "source": [
    "str='''f2 returns the elements from the list d without duplicates and the frequency of the as a directory'''\n"
   ]
  },
  {
   "cell_type": "code",
   "execution_count": 37,
   "id": "b1afc987",
   "metadata": {},
   "outputs": [
    {
     "data": {
      "text/plain": [
       "'f2 returns the elements from the list d without duplicates and the frequency of the as a directory'"
      ]
     },
     "execution_count": 37,
     "metadata": {},
     "output_type": "execute_result"
    }
   ],
   "source": [
    "str"
   ]
  },
  {
   "cell_type": "code",
   "execution_count": 38,
   "id": "11468533",
   "metadata": {},
   "outputs": [],
   "source": [
    "f2?"
   ]
  },
  {
   "cell_type": "code",
   "execution_count": 39,
   "id": "b251a8d3",
   "metadata": {},
   "outputs": [
    {
     "ename": "SyntaxError",
     "evalue": "(unicode error) 'unicodeescape' codec can't decode bytes in position 8-9: malformed \\N character escape (3102349949.py, line 1)",
     "output_type": "error",
     "traceback": [
      "\u001b[0;36m  Cell \u001b[0;32mIn [39], line 1\u001b[0;36m\u001b[0m\n\u001b[0;31m    countries='Ghana\\n \\Nigeria\\n Kenya\\n Uganda\\n madagascar\\n'\u001b[0m\n\u001b[0m                                                                ^\u001b[0m\n\u001b[0;31mSyntaxError\u001b[0m\u001b[0;31m:\u001b[0m (unicode error) 'unicodeescape' codec can't decode bytes in position 8-9: malformed \\N character escape\n"
     ]
    }
   ],
   "source": [
    "countries='Ghana\\n \\Nigeria\\n Kenya\\n Uganda\\n madagascar\\n'"
   ]
  },
  {
   "cell_type": "code",
   "execution_count": 40,
   "id": "6ca53b21",
   "metadata": {},
   "outputs": [
    {
     "ename": "TypeError",
     "evalue": "write() argument must be str, not tuple",
     "output_type": "error",
     "traceback": [
      "\u001b[0;31m---------------------------------------------------------------------------\u001b[0m",
      "\u001b[0;31mTypeError\u001b[0m                                 Traceback (most recent call last)",
      "Cell \u001b[0;32mIn [40], line 2\u001b[0m\n\u001b[1;32m      1\u001b[0m myfile\u001b[38;5;241m=\u001b[39m\u001b[38;5;28mopen\u001b[39m(\u001b[38;5;124m'\u001b[39m\u001b[38;5;124mcountryfile\u001b[39m\u001b[38;5;124m'\u001b[39m,\u001b[38;5;124m'\u001b[39m\u001b[38;5;124mw\u001b[39m\u001b[38;5;124m'\u001b[39m)\n\u001b[0;32m----> 2\u001b[0m \u001b[43mmyfile\u001b[49m\u001b[38;5;241;43m.\u001b[39;49m\u001b[43mwrite\u001b[49m\u001b[43m(\u001b[49m\u001b[43mcountries\u001b[49m\u001b[43m)\u001b[49m\n\u001b[1;32m      3\u001b[0m myfile\u001b[38;5;241m.\u001b[39mflush()\n\u001b[1;32m      4\u001b[0m myfile\u001b[38;5;241m.\u001b[39mclose()\n",
      "\u001b[0;31mTypeError\u001b[0m: write() argument must be str, not tuple"
     ]
    }
   ],
   "source": [
    "myfile=open('countryfile','w')\n",
    "myfile.write(countries)\n",
    "myfile.flush()\n",
    "myfile.close()"
   ]
  },
  {
   "cell_type": "code",
   "execution_count": 41,
   "id": "3ab9e18e",
   "metadata": {},
   "outputs": [],
   "source": [
    "a=[1,2,3,4,5,6,7,8]"
   ]
  },
  {
   "cell_type": "code",
   "execution_count": 42,
   "id": "ae6d33ea",
   "metadata": {},
   "outputs": [],
   "source": [
    "b=[9,10,11,12,13,14,15,16]"
   ]
  },
  {
   "cell_type": "code",
   "execution_count": 43,
   "id": "6b9a8487",
   "metadata": {},
   "outputs": [
    {
     "data": {
      "text/plain": [
       "[1, 2, 3, 4, 5, 6, 7, 8, 9, 10, 11, 12, 13, 14, 15, 16]"
      ]
     },
     "execution_count": 43,
     "metadata": {},
     "output_type": "execute_result"
    }
   ],
   "source": [
    "a+b"
   ]
  },
  {
   "cell_type": "code",
   "execution_count": 44,
   "id": "12f262b1",
   "metadata": {},
   "outputs": [
    {
     "data": {
      "text/plain": [
       "[9, 10, 11, 12, 13, 14, 15, 16, 9, 10, 11, 12, 13, 14, 15, 16]"
      ]
     },
     "execution_count": 44,
     "metadata": {},
     "output_type": "execute_result"
    }
   ],
   "source": [
    "2*b"
   ]
  },
  {
   "cell_type": "code",
   "execution_count": 45,
   "id": "d83b897b",
   "metadata": {},
   "outputs": [
    {
     "data": {
      "text/plain": [
       "[2, 4, 6, 8, 10, 12, 14, 16]"
      ]
     },
     "execution_count": 45,
     "metadata": {},
     "output_type": "execute_result"
    }
   ],
   "source": [
    "[2*i for i in a]"
   ]
  },
  {
   "cell_type": "code",
   "execution_count": 46,
   "id": "db8115b2",
   "metadata": {},
   "outputs": [],
   "source": [
    "import numpy as np"
   ]
  },
  {
   "cell_type": "code",
   "execution_count": 47,
   "id": "22417791",
   "metadata": {},
   "outputs": [],
   "source": [
    "c=np.array(a)"
   ]
  },
  {
   "cell_type": "code",
   "execution_count": 48,
   "id": "ddccb96b",
   "metadata": {},
   "outputs": [
    {
     "data": {
      "text/plain": [
       "array([1, 2, 3, 4, 5, 6, 7, 8])"
      ]
     },
     "execution_count": 48,
     "metadata": {},
     "output_type": "execute_result"
    }
   ],
   "source": [
    "c"
   ]
  },
  {
   "cell_type": "code",
   "execution_count": 49,
   "id": "9bebee19",
   "metadata": {},
   "outputs": [],
   "source": [
    "d=np.array(b)"
   ]
  },
  {
   "cell_type": "code",
   "execution_count": 50,
   "id": "91bc1752",
   "metadata": {},
   "outputs": [
    {
     "data": {
      "text/plain": [
       "array([ 9, 10, 11, 12, 13, 14, 15, 16])"
      ]
     },
     "execution_count": 50,
     "metadata": {},
     "output_type": "execute_result"
    }
   ],
   "source": [
    "d"
   ]
  },
  {
   "cell_type": "code",
   "execution_count": 51,
   "id": "74d881d2",
   "metadata": {},
   "outputs": [
    {
     "data": {
      "text/plain": [
       "array([10, 12, 14, 16, 18, 20, 22, 24])"
      ]
     },
     "execution_count": 51,
     "metadata": {},
     "output_type": "execute_result"
    }
   ],
   "source": [
    "c+d"
   ]
  },
  {
   "cell_type": "code",
   "execution_count": 52,
   "id": "b7fe6b09",
   "metadata": {},
   "outputs": [],
   "source": [
    "k=np.array([1,5,10])"
   ]
  },
  {
   "cell_type": "code",
   "execution_count": 53,
   "id": "33a49bde",
   "metadata": {},
   "outputs": [],
   "source": [
    "p=np.array([6])"
   ]
  },
  {
   "cell_type": "code",
   "execution_count": 54,
   "id": "14c9a303",
   "metadata": {},
   "outputs": [
    {
     "data": {
      "text/plain": [
       "array([ 7,  8,  9, 10, 11, 12, 13, 14])"
      ]
     },
     "execution_count": 54,
     "metadata": {},
     "output_type": "execute_result"
    }
   ],
   "source": [
    "c+p"
   ]
  },
  {
   "cell_type": "code",
   "execution_count": 55,
   "id": "606f283b",
   "metadata": {},
   "outputs": [
    {
     "data": {
      "text/plain": [
       "array([ 7,  8,  9, 10, 11, 12, 13, 14])"
      ]
     },
     "execution_count": 55,
     "metadata": {},
     "output_type": "execute_result"
    }
   ],
   "source": [
    "c+6"
   ]
  },
  {
   "cell_type": "code",
   "execution_count": 56,
   "id": "3f38017e",
   "metadata": {},
   "outputs": [
    {
     "data": {
      "text/plain": [
       "dtype('int64')"
      ]
     },
     "execution_count": 56,
     "metadata": {},
     "output_type": "execute_result"
    }
   ],
   "source": [
    "c.dtype"
   ]
  },
  {
   "cell_type": "code",
   "execution_count": 57,
   "id": "80a8e382",
   "metadata": {},
   "outputs": [
    {
     "name": "stdout",
     "output_type": "stream",
     "text": [
      "['ALLOW_THREADS', 'AxisError', 'BUFSIZE', 'CLIP', 'ComplexWarning', 'DataSource', 'ERR_CALL', 'ERR_DEFAULT', 'ERR_IGNORE', 'ERR_LOG', 'ERR_PRINT', 'ERR_RAISE', 'ERR_WARN', 'FLOATING_POINT_SUPPORT', 'FPE_DIVIDEBYZERO', 'FPE_INVALID', 'FPE_OVERFLOW', 'FPE_UNDERFLOW', 'False_', 'Inf', 'Infinity', 'MAXDIMS', 'MAY_SHARE_BOUNDS', 'MAY_SHARE_EXACT', 'ModuleDeprecationWarning', 'NAN', 'NINF', 'NZERO', 'NaN', 'PINF', 'PZERO', 'RAISE', 'RankWarning', 'SHIFT_DIVIDEBYZERO', 'SHIFT_INVALID', 'SHIFT_OVERFLOW', 'SHIFT_UNDERFLOW', 'ScalarType', 'Tester', 'TooHardError', 'True_', 'UFUNC_BUFSIZE_DEFAULT', 'UFUNC_PYVALS_NAME', 'VisibleDeprecationWarning', 'WRAP', '_CopyMode', '_NoValue', '_UFUNC_API', '__NUMPY_SETUP__', '__all__', '__builtins__', '__cached__', '__config__', '__deprecated_attrs__', '__dir__', '__doc__', '__expired_functions__', '__file__', '__former_attrs__', '__future_scalars__', '__getattr__', '__git_version__', '__loader__', '__name__', '__package__', '__path__', '__spec__', '__version__', '_add_newdoc_ufunc', '_builtins', '_distributor_init', '_financial_names', '_get_promotion_state', '_globals', '_int_extended_msg', '_mat', '_no_nep50_warning', '_pyinstaller_hooks_dir', '_pytesttester', '_set_promotion_state', '_specific_msg', '_version', 'abs', 'absolute', 'add', 'add_docstring', 'add_newdoc', 'add_newdoc_ufunc', 'all', 'allclose', 'alltrue', 'amax', 'amin', 'angle', 'any', 'append', 'apply_along_axis', 'apply_over_axes', 'arange', 'arccos', 'arccosh', 'arcsin', 'arcsinh', 'arctan', 'arctan2', 'arctanh', 'argmax', 'argmin', 'argpartition', 'argsort', 'argwhere', 'around', 'array', 'array2string', 'array_equal', 'array_equiv', 'array_repr', 'array_split', 'array_str', 'asanyarray', 'asarray', 'asarray_chkfinite', 'ascontiguousarray', 'asfarray', 'asfortranarray', 'asmatrix', 'atleast_1d', 'atleast_2d', 'atleast_3d', 'average', 'bartlett', 'base_repr', 'binary_repr', 'bincount', 'bitwise_and', 'bitwise_not', 'bitwise_or', 'bitwise_xor', 'blackman', 'block', 'bmat', 'bool_', 'broadcast', 'broadcast_arrays', 'broadcast_shapes', 'broadcast_to', 'busday_count', 'busday_offset', 'busdaycalendar', 'byte', 'byte_bounds', 'bytes_', 'c_', 'can_cast', 'cast', 'cbrt', 'cdouble', 'ceil', 'cfloat', 'char', 'character', 'chararray', 'choose', 'clip', 'clongdouble', 'clongfloat', 'column_stack', 'common_type', 'compare_chararrays', 'compat', 'complex128', 'complex256', 'complex64', 'complex_', 'complexfloating', 'compress', 'concatenate', 'conj', 'conjugate', 'convolve', 'copy', 'copysign', 'copyto', 'corrcoef', 'correlate', 'cos', 'cosh', 'count_nonzero', 'cov', 'cross', 'csingle', 'ctypeslib', 'cumprod', 'cumproduct', 'cumsum', 'datetime64', 'datetime_as_string', 'datetime_data', 'deg2rad', 'degrees', 'delete', 'deprecate', 'deprecate_with_doc', 'diag', 'diag_indices', 'diag_indices_from', 'diagflat', 'diagonal', 'diff', 'digitize', 'disp', 'divide', 'divmod', 'dot', 'double', 'dsplit', 'dstack', 'dtype', 'e', 'ediff1d', 'einsum', 'einsum_path', 'emath', 'empty', 'empty_like', 'equal', 'errstate', 'euler_gamma', 'exp', 'exp2', 'expand_dims', 'expm1', 'extract', 'eye', 'fabs', 'fastCopyAndTranspose', 'fft', 'fill_diagonal', 'find_common_type', 'finfo', 'fix', 'flatiter', 'flatnonzero', 'flexible', 'flip', 'fliplr', 'flipud', 'float128', 'float16', 'float32', 'float64', 'float_', 'float_power', 'floating', 'floor', 'floor_divide', 'fmax', 'fmin', 'fmod', 'format_float_positional', 'format_float_scientific', 'format_parser', 'frexp', 'from_dlpack', 'frombuffer', 'fromfile', 'fromfunction', 'fromiter', 'frompyfunc', 'fromregex', 'fromstring', 'full', 'full_like', 'gcd', 'generic', 'genfromtxt', 'geomspace', 'get_array_wrap', 'get_include', 'get_printoptions', 'getbufsize', 'geterr', 'geterrcall', 'geterrobj', 'gradient', 'greater', 'greater_equal', 'half', 'hamming', 'hanning', 'heaviside', 'histogram', 'histogram2d', 'histogram_bin_edges', 'histogramdd', 'hsplit', 'hstack', 'hypot', 'i0', 'identity', 'iinfo', 'imag', 'in1d', 'index_exp', 'indices', 'inexact', 'inf', 'info', 'infty', 'inner', 'insert', 'int16', 'int32', 'int64', 'int8', 'int_', 'intc', 'integer', 'interp', 'intersect1d', 'intp', 'invert', 'is_busday', 'isclose', 'iscomplex', 'iscomplexobj', 'isfinite', 'isfortran', 'isin', 'isinf', 'isnan', 'isnat', 'isneginf', 'isposinf', 'isreal', 'isrealobj', 'isscalar', 'issctype', 'issubclass_', 'issubdtype', 'issubsctype', 'iterable', 'ix_', 'kaiser', 'kernel_version', 'kron', 'lcm', 'ldexp', 'left_shift', 'less', 'less_equal', 'lexsort', 'lib', 'linalg', 'linspace', 'little_endian', 'load', 'loadtxt', 'log', 'log10', 'log1p', 'log2', 'logaddexp', 'logaddexp2', 'logical_and', 'logical_not', 'logical_or', 'logical_xor', 'logspace', 'longcomplex', 'longdouble', 'longfloat', 'longlong', 'lookfor', 'ma', 'mask_indices', 'mat', 'math', 'matmul', 'matrix', 'max', 'maximum', 'maximum_sctype', 'may_share_memory', 'mean', 'median', 'memmap', 'meshgrid', 'mgrid', 'min', 'min_scalar_type', 'minimum', 'mintypecode', 'mod', 'modf', 'moveaxis', 'msort', 'multiply', 'nan', 'nan_to_num', 'nanargmax', 'nanargmin', 'nancumprod', 'nancumsum', 'nanmax', 'nanmean', 'nanmedian', 'nanmin', 'nanpercentile', 'nanprod', 'nanquantile', 'nanstd', 'nansum', 'nanvar', 'nbytes', 'ndarray', 'ndenumerate', 'ndim', 'ndindex', 'nditer', 'negative', 'nested_iters', 'newaxis', 'nextafter', 'nonzero', 'not_equal', 'numarray', 'number', 'obj2sctype', 'object_', 'ogrid', 'oldnumeric', 'ones', 'ones_like', 'outer', 'packbits', 'pad', 'partition', 'percentile', 'pi', 'piecewise', 'place', 'poly', 'poly1d', 'polyadd', 'polyder', 'polydiv', 'polyfit', 'polyint', 'polymul', 'polynomial', 'polysub', 'polyval', 'positive', 'power', 'printoptions', 'prod', 'product', 'promote_types', 'ptp', 'put', 'put_along_axis', 'putmask', 'quantile', 'r_', 'rad2deg', 'radians', 'random', 'ravel', 'ravel_multi_index', 'real', 'real_if_close', 'rec', 'recarray', 'recfromcsv', 'recfromtxt', 'reciprocal', 'record', 'remainder', 'repeat', 'require', 'reshape', 'resize', 'result_type', 'right_shift', 'rint', 'roll', 'rollaxis', 'roots', 'rot90', 'round', 'round_', 'row_stack', 's_', 'safe_eval', 'save', 'savetxt', 'savez', 'savez_compressed', 'sctype2char', 'sctypeDict', 'sctypes', 'searchsorted', 'select', 'set_numeric_ops', 'set_printoptions', 'set_string_function', 'setbufsize', 'setdiff1d', 'seterr', 'seterrcall', 'seterrobj', 'setxor1d', 'shape', 'shares_memory', 'short', 'show_config', 'show_runtime', 'sign', 'signbit', 'signedinteger', 'sin', 'sinc', 'single', 'singlecomplex', 'sinh', 'size', 'sometrue', 'sort', 'sort_complex', 'source', 'spacing', 'split', 'sqrt', 'square', 'squeeze', 'stack', 'std', 'str_', 'string_', 'subtract', 'sum', 'swapaxes', 'take', 'take_along_axis', 'tan', 'tanh', 'tensordot', 'test', 'testing', 'tile', 'timedelta64', 'trace', 'tracemalloc_domain', 'transpose', 'trapz', 'tri', 'tril', 'tril_indices', 'tril_indices_from', 'trim_zeros', 'triu', 'triu_indices', 'triu_indices_from', 'true_divide', 'trunc', 'typecodes', 'typename', 'ubyte', 'ufunc', 'uint', 'uint16', 'uint32', 'uint64', 'uint8', 'uintc', 'uintp', 'ulonglong', 'unicode_', 'union1d', 'unique', 'unpackbits', 'unravel_index', 'unsignedinteger', 'unwrap', 'use_hugepage', 'ushort', 'vander', 'var', 'vdot', 'vectorize', 'version', 'void', 'vsplit', 'vstack', 'where', 'who', 'zeros', 'zeros_like']\n"
     ]
    }
   ],
   "source": [
    "print(dir(np))"
   ]
  },
  {
   "cell_type": "code",
   "execution_count": 58,
   "id": "0d7de0a3",
   "metadata": {},
   "outputs": [
    {
     "data": {
      "text/plain": [
       "array([ 0.54030231, -0.41614684, -0.9899925 , -0.65364362,  0.28366219,\n",
       "        0.96017029,  0.75390225, -0.14550003])"
      ]
     },
     "execution_count": 58,
     "metadata": {},
     "output_type": "execute_result"
    }
   ],
   "source": [
    "np.cos(a)"
   ]
  },
  {
   "cell_type": "code",
   "execution_count": 59,
   "id": "2a69791f",
   "metadata": {},
   "outputs": [
    {
     "data": {
      "text/plain": [
       "array([ 0.84147098,  0.90929743,  0.14112001, -0.7568025 , -0.95892427,\n",
       "       -0.2794155 ,  0.6569866 ,  0.98935825])"
      ]
     },
     "execution_count": 59,
     "metadata": {},
     "output_type": "execute_result"
    }
   ],
   "source": [
    "np.sin(c)"
   ]
  },
  {
   "cell_type": "code",
   "execution_count": 60,
   "id": "3be1e20b",
   "metadata": {},
   "outputs": [
    {
     "data": {
      "text/plain": [
       "8"
      ]
     },
     "execution_count": 60,
     "metadata": {},
     "output_type": "execute_result"
    }
   ],
   "source": [
    "c.size"
   ]
  },
  {
   "cell_type": "code",
   "execution_count": 61,
   "id": "f2056f86",
   "metadata": {},
   "outputs": [
    {
     "data": {
      "text/plain": [
       "numpy.ndarray"
      ]
     },
     "execution_count": 61,
     "metadata": {},
     "output_type": "execute_result"
    }
   ],
   "source": [
    "type(c)"
   ]
  },
  {
   "cell_type": "code",
   "execution_count": 62,
   "id": "43970ab8",
   "metadata": {},
   "outputs": [
    {
     "data": {
      "text/plain": [
       "array([2, 4, 6, 8])"
      ]
     },
     "execution_count": 62,
     "metadata": {},
     "output_type": "execute_result"
    }
   ],
   "source": [
    "np.arange(2,10,2)"
   ]
  },
  {
   "cell_type": "code",
   "execution_count": 63,
   "id": "aa597607",
   "metadata": {},
   "outputs": [
    {
     "data": {
      "text/plain": [
       "array([1.    , 1.0001, 1.0002, ..., 1.9997, 1.9998, 1.9999])"
      ]
     },
     "execution_count": 63,
     "metadata": {},
     "output_type": "execute_result"
    }
   ],
   "source": [
    "np.arange(1,2,0.0001)"
   ]
  },
  {
   "cell_type": "code",
   "execution_count": 64,
   "id": "46893ab4",
   "metadata": {},
   "outputs": [
    {
     "data": {
      "text/plain": [
       "array([0.  , 0.05, 0.1 , 0.15, 0.2 , 0.25, 0.3 , 0.35, 0.4 , 0.45, 0.5 ,\n",
       "       0.55, 0.6 , 0.65, 0.7 , 0.75, 0.8 , 0.85, 0.9 , 0.95, 1.  , 1.05,\n",
       "       1.1 , 1.15, 1.2 , 1.25, 1.3 , 1.35, 1.4 , 1.45, 1.5 , 1.55, 1.6 ,\n",
       "       1.65, 1.7 , 1.75, 1.8 , 1.85, 1.9 , 1.95, 2.  , 2.05, 2.1 , 2.15,\n",
       "       2.2 , 2.25, 2.3 , 2.35, 2.4 , 2.45, 2.5 , 2.55, 2.6 , 2.65, 2.7 ,\n",
       "       2.75, 2.8 , 2.85, 2.9 , 2.95, 3.  , 3.05, 3.1 , 3.15, 3.2 , 3.25,\n",
       "       3.3 , 3.35, 3.4 , 3.45, 3.5 , 3.55, 3.6 , 3.65, 3.7 , 3.75, 3.8 ,\n",
       "       3.85, 3.9 , 3.95, 4.  , 4.05, 4.1 , 4.15, 4.2 , 4.25, 4.3 , 4.35,\n",
       "       4.4 , 4.45, 4.5 , 4.55, 4.6 , 4.65, 4.7 , 4.75, 4.8 , 4.85, 4.9 ,\n",
       "       4.95, 5.  , 5.05, 5.1 , 5.15, 5.2 , 5.25, 5.3 , 5.35, 5.4 , 5.45,\n",
       "       5.5 , 5.55, 5.6 , 5.65, 5.7 , 5.75, 5.8 , 5.85, 5.9 , 5.95, 6.  ,\n",
       "       6.05, 6.1 , 6.15, 6.2 , 6.25])"
      ]
     },
     "execution_count": 64,
     "metadata": {},
     "output_type": "execute_result"
    }
   ],
   "source": [
    "np.arange(0,2*np.pi,0.05)"
   ]
  },
  {
   "cell_type": "code",
   "execution_count": 65,
   "id": "6c333e3d",
   "metadata": {},
   "outputs": [
    {
     "data": {
      "text/plain": [
       "array([0.  , 0.05, 0.1 , 0.15, 0.2 , 0.25, 0.3 , 0.35, 0.4 , 0.45, 0.5 ,\n",
       "       0.55, 0.6 , 0.65, 0.7 , 0.75, 0.8 , 0.85, 0.9 , 0.95, 1.  ])"
      ]
     },
     "execution_count": 65,
     "metadata": {},
     "output_type": "execute_result"
    }
   ],
   "source": [
    "np.linspace(0,1,21)"
   ]
  },
  {
   "cell_type": "code",
   "execution_count": 66,
   "id": "42e3aff8",
   "metadata": {},
   "outputs": [
    {
     "data": {
      "text/plain": [
       "array([1., 1., 1., 1., 1., 1., 1.])"
      ]
     },
     "execution_count": 66,
     "metadata": {},
     "output_type": "execute_result"
    }
   ],
   "source": [
    "np.ones(7)"
   ]
  },
  {
   "cell_type": "code",
   "execution_count": 67,
   "id": "f003b828",
   "metadata": {},
   "outputs": [
    {
     "data": {
      "text/plain": [
       "array([0., 0., 0., 0., 0.])"
      ]
     },
     "execution_count": 67,
     "metadata": {},
     "output_type": "execute_result"
    }
   ],
   "source": [
    "np.zeros(5)"
   ]
  },
  {
   "cell_type": "code",
   "execution_count": 68,
   "id": "29af79cb",
   "metadata": {},
   "outputs": [
    {
     "data": {
      "text/plain": [
       "array([9., 9., 9., 9., 9., 9., 9., 9., 9., 9.])"
      ]
     },
     "execution_count": 68,
     "metadata": {},
     "output_type": "execute_result"
    }
   ],
   "source": [
    "np.ones(10)*9"
   ]
  },
  {
   "cell_type": "code",
   "execution_count": 69,
   "id": "81e67f78",
   "metadata": {},
   "outputs": [
    {
     "data": {
      "text/plain": [
       "array([9., 9., 9., 9., 9., 9., 9., 9., 9., 9.])"
      ]
     },
     "execution_count": 69,
     "metadata": {},
     "output_type": "execute_result"
    }
   ],
   "source": [
    "np.zeros(10)+9"
   ]
  },
  {
   "cell_type": "code",
   "execution_count": 70,
   "id": "f87b6481",
   "metadata": {},
   "outputs": [
    {
     "data": {
      "text/plain": [
       "array([9.+0.j, 9.+0.j, 9.+0.j, 9.+0.j, 9.+0.j])"
      ]
     },
     "execution_count": 70,
     "metadata": {},
     "output_type": "execute_result"
    }
   ],
   "source": [
    "9+np.zeros(5,dtype=complex)"
   ]
  },
  {
   "cell_type": "code",
   "execution_count": 71,
   "id": "0a620652",
   "metadata": {},
   "outputs": [
    {
     "data": {
      "text/plain": [
       "dtype('int64')"
      ]
     },
     "execution_count": 71,
     "metadata": {},
     "output_type": "execute_result"
    }
   ],
   "source": [
    "c.dtype"
   ]
  },
  {
   "cell_type": "code",
   "execution_count": 72,
   "id": "0329877e",
   "metadata": {},
   "outputs": [
    {
     "data": {
      "text/plain": [
       "array([9, 9, 9, 9, 9])"
      ]
     },
     "execution_count": 72,
     "metadata": {},
     "output_type": "execute_result"
    }
   ],
   "source": [
    "9+np.zeros(5,dtype=int)"
   ]
  },
  {
   "cell_type": "code",
   "execution_count": 73,
   "id": "921b0c4d",
   "metadata": {},
   "outputs": [
    {
     "data": {
      "text/plain": [
       "array([1., 2., 3., 4., 5., 6., 7., 8.], dtype=float32)"
      ]
     },
     "execution_count": 73,
     "metadata": {},
     "output_type": "execute_result"
    }
   ],
   "source": [
    "c.astype(np.float32)"
   ]
  },
  {
   "cell_type": "code",
   "execution_count": 74,
   "id": "906cdce3",
   "metadata": {},
   "outputs": [
    {
     "data": {
      "text/plain": [
       "array([1, 2, 3, 4, 5, 6, 7, 8])"
      ]
     },
     "execution_count": 74,
     "metadata": {},
     "output_type": "execute_result"
    }
   ],
   "source": [
    "c"
   ]
  },
  {
   "cell_type": "code",
   "execution_count": 75,
   "id": "8358a145",
   "metadata": {},
   "outputs": [],
   "source": [
    "c=c.astype(np.float32)"
   ]
  },
  {
   "cell_type": "code",
   "execution_count": 76,
   "id": "ff0e8387",
   "metadata": {},
   "outputs": [
    {
     "data": {
      "text/plain": [
       "array([1., 2., 3., 4., 5., 6., 7., 8.], dtype=float32)"
      ]
     },
     "execution_count": 76,
     "metadata": {},
     "output_type": "execute_result"
    }
   ],
   "source": [
    "c"
   ]
  },
  {
   "cell_type": "code",
   "execution_count": 77,
   "id": "01aaad1b",
   "metadata": {},
   "outputs": [
    {
     "data": {
      "text/plain": [
       "array([[1., 0., 0.],\n",
       "       [0., 1., 0.],\n",
       "       [0., 0., 1.]])"
      ]
     },
     "execution_count": 77,
     "metadata": {},
     "output_type": "execute_result"
    }
   ],
   "source": [
    "np.eye(3)"
   ]
  },
  {
   "cell_type": "code",
   "execution_count": 78,
   "id": "00feac9f",
   "metadata": {},
   "outputs": [
    {
     "data": {
      "text/plain": [
       "array([[1., 0., 0., 0., 0., 0., 0., 0., 0., 0., 0., 0., 0., 0., 0.],\n",
       "       [0., 1., 0., 0., 0., 0., 0., 0., 0., 0., 0., 0., 0., 0., 0.],\n",
       "       [0., 0., 1., 0., 0., 0., 0., 0., 0., 0., 0., 0., 0., 0., 0.],\n",
       "       [0., 0., 0., 1., 0., 0., 0., 0., 0., 0., 0., 0., 0., 0., 0.],\n",
       "       [0., 0., 0., 0., 1., 0., 0., 0., 0., 0., 0., 0., 0., 0., 0.],\n",
       "       [0., 0., 0., 0., 0., 1., 0., 0., 0., 0., 0., 0., 0., 0., 0.],\n",
       "       [0., 0., 0., 0., 0., 0., 1., 0., 0., 0., 0., 0., 0., 0., 0.],\n",
       "       [0., 0., 0., 0., 0., 0., 0., 1., 0., 0., 0., 0., 0., 0., 0.],\n",
       "       [0., 0., 0., 0., 0., 0., 0., 0., 1., 0., 0., 0., 0., 0., 0.],\n",
       "       [0., 0., 0., 0., 0., 0., 0., 0., 0., 1., 0., 0., 0., 0., 0.],\n",
       "       [0., 0., 0., 0., 0., 0., 0., 0., 0., 0., 1., 0., 0., 0., 0.],\n",
       "       [0., 0., 0., 0., 0., 0., 0., 0., 0., 0., 0., 1., 0., 0., 0.],\n",
       "       [0., 0., 0., 0., 0., 0., 0., 0., 0., 0., 0., 0., 1., 0., 0.],\n",
       "       [0., 0., 0., 0., 0., 0., 0., 0., 0., 0., 0., 0., 0., 1., 0.],\n",
       "       [0., 0., 0., 0., 0., 0., 0., 0., 0., 0., 0., 0., 0., 0., 1.]])"
      ]
     },
     "execution_count": 78,
     "metadata": {},
     "output_type": "execute_result"
    }
   ],
   "source": [
    "np.eye(15)"
   ]
  },
  {
   "cell_type": "code",
   "execution_count": 79,
   "id": "e385c0ae",
   "metadata": {},
   "outputs": [
    {
     "data": {
      "text/plain": [
       "array([[1., 0., 0., 0., 0.],\n",
       "       [0., 1., 0., 0., 0.],\n",
       "       [0., 0., 1., 0., 0.],\n",
       "       [0., 0., 0., 1., 0.],\n",
       "       [0., 0., 0., 0., 1.]])"
      ]
     },
     "execution_count": 79,
     "metadata": {},
     "output_type": "execute_result"
    }
   ],
   "source": [
    "np.identity(5)"
   ]
  },
  {
   "cell_type": "code",
   "execution_count": 80,
   "id": "ebd1a9ed",
   "metadata": {},
   "outputs": [
    {
     "data": {
      "text/plain": [
       "array([ 1.,  2.,  3.,  4.,  5.,  6.,  7.,  8.,  9., 10., 11., 12., 13.,\n",
       "       14., 15., 16., 17., 18., 19., 20.])"
      ]
     },
     "execution_count": 80,
     "metadata": {},
     "output_type": "execute_result"
    }
   ],
   "source": [
    "x=np.linspace(1,20,20)\n",
    "x"
   ]
  },
  {
   "cell_type": "code",
   "execution_count": 81,
   "id": "71ce3a68",
   "metadata": {},
   "outputs": [
    {
     "data": {
      "text/plain": [
       "(20,)"
      ]
     },
     "execution_count": 81,
     "metadata": {},
     "output_type": "execute_result"
    }
   ],
   "source": [
    "x.shape"
   ]
  },
  {
   "cell_type": "code",
   "execution_count": 82,
   "id": "33bcede6",
   "metadata": {},
   "outputs": [
    {
     "data": {
      "text/plain": [
       "array([[ 1.,  2.,  3.,  4.,  5.],\n",
       "       [ 6.,  7.,  8.,  9., 10.],\n",
       "       [11., 12., 13., 14., 15.],\n",
       "       [16., 17., 18., 19., 20.]])"
      ]
     },
     "execution_count": 82,
     "metadata": {},
     "output_type": "execute_result"
    }
   ],
   "source": [
    "x.reshape((4,5))"
   ]
  },
  {
   "cell_type": "code",
   "execution_count": 83,
   "id": "7a1c3132",
   "metadata": {},
   "outputs": [],
   "source": [
    "x=x.reshape((2,10))"
   ]
  },
  {
   "cell_type": "code",
   "execution_count": 84,
   "id": "e2d77bcb",
   "metadata": {},
   "outputs": [
    {
     "data": {
      "text/plain": [
       "array([[ 1.,  2.,  3.,  4.,  5.,  6.,  7.,  8.,  9., 10.],\n",
       "       [11., 12., 13., 14., 15., 16., 17., 18., 19., 20.]])"
      ]
     },
     "execution_count": 84,
     "metadata": {},
     "output_type": "execute_result"
    }
   ],
   "source": [
    "x"
   ]
  },
  {
   "cell_type": "code",
   "execution_count": 85,
   "id": "dc48db09",
   "metadata": {},
   "outputs": [],
   "source": [
    "x.reshape?"
   ]
  },
  {
   "cell_type": "code",
   "execution_count": 86,
   "id": "1d2bc1db",
   "metadata": {},
   "outputs": [
    {
     "data": {
      "text/plain": [
       "array([ 1.,  2.,  3.,  4.,  5.,  6.,  7.,  8.,  9., 10., 11., 12., 13.,\n",
       "       14., 15., 16., 17., 18., 19., 20.])"
      ]
     },
     "execution_count": 86,
     "metadata": {},
     "output_type": "execute_result"
    }
   ],
   "source": [
    "x.flatten()"
   ]
  },
  {
   "cell_type": "code",
   "execution_count": 87,
   "id": "deb5eb04",
   "metadata": {},
   "outputs": [
    {
     "data": {
      "text/plain": [
       "array([ 1.,  2.,  3.,  4.,  5.,  6.,  7.,  8.,  9., 10., 11., 12., 13.,\n",
       "       14., 15., 16., 17., 18., 19., 20.])"
      ]
     },
     "execution_count": 87,
     "metadata": {},
     "output_type": "execute_result"
    }
   ],
   "source": [
    "x.ravel()"
   ]
  },
  {
   "cell_type": "code",
   "execution_count": 88,
   "id": "e24b751b",
   "metadata": {},
   "outputs": [],
   "source": [
    "x=x.flatten()"
   ]
  },
  {
   "cell_type": "code",
   "execution_count": 89,
   "id": "369f5d5a",
   "metadata": {},
   "outputs": [
    {
     "data": {
      "text/plain": [
       "array([[ 1.,  3.,  5.,  7.,  9., 11., 13., 15., 17., 19.],\n",
       "       [ 2.,  4.,  6.,  8., 10., 12., 14., 16., 18., 20.]])"
      ]
     },
     "execution_count": 89,
     "metadata": {},
     "output_type": "execute_result"
    }
   ],
   "source": [
    "x.reshape((2,10),order='F')"
   ]
  },
  {
   "cell_type": "code",
   "execution_count": 90,
   "id": "f580d153",
   "metadata": {},
   "outputs": [
    {
     "data": {
      "text/plain": [
       "array([[ 1.,  3.,  5.,  7.,  9., 11., 13., 15., 17., 19.],\n",
       "       [ 2.,  4.,  6.,  8., 10., 12., 14., 16., 18., 20.]])"
      ]
     },
     "execution_count": 90,
     "metadata": {},
     "output_type": "execute_result"
    }
   ],
   "source": [
    "x.reshape((10,2)).transpose()"
   ]
  },
  {
   "cell_type": "code",
   "execution_count": 91,
   "id": "a204f449",
   "metadata": {},
   "outputs": [
    {
     "data": {
      "text/plain": [
       "array([[ 1.,  3.,  5.,  7.,  9., 11., 13., 15., 17., 19.],\n",
       "       [ 2.,  4.,  6.,  8., 10., 12., 14., 16., 18., 20.]])"
      ]
     },
     "execution_count": 91,
     "metadata": {},
     "output_type": "execute_result"
    }
   ],
   "source": [
    "x.reshape((10,2)).T"
   ]
  },
  {
   "cell_type": "code",
   "execution_count": 92,
   "id": "9ea9e2ca",
   "metadata": {},
   "outputs": [],
   "source": [
    "c=np.arange(4,28)"
   ]
  },
  {
   "cell_type": "code",
   "execution_count": 93,
   "id": "eeef370f",
   "metadata": {},
   "outputs": [
    {
     "data": {
      "text/plain": [
       "array([ 4,  5,  6,  7,  8,  9, 10, 11, 12, 13, 14, 15, 16, 17, 18, 19, 20,\n",
       "       21, 22, 23, 24, 25, 26, 27])"
      ]
     },
     "execution_count": 93,
     "metadata": {},
     "output_type": "execute_result"
    }
   ],
   "source": [
    "c"
   ]
  },
  {
   "cell_type": "code",
   "execution_count": 94,
   "id": "e72d5b84",
   "metadata": {},
   "outputs": [
    {
     "data": {
      "text/plain": [
       "array([6, 7, 8])"
      ]
     },
     "execution_count": 94,
     "metadata": {},
     "output_type": "execute_result"
    }
   ],
   "source": [
    "c[2:5]"
   ]
  },
  {
   "cell_type": "code",
   "execution_count": 95,
   "id": "fbca09ba",
   "metadata": {},
   "outputs": [
    {
     "data": {
      "text/plain": [
       "array([ 5,  8, 10,  5, 13])"
      ]
     },
     "execution_count": 95,
     "metadata": {},
     "output_type": "execute_result"
    }
   ],
   "source": [
    "c[[1,4,6,1,9]]"
   ]
  },
  {
   "cell_type": "code",
   "execution_count": 96,
   "id": "0fe56d32",
   "metadata": {},
   "outputs": [
    {
     "data": {
      "text/plain": [
       "array([ True, False,  True, False,  True, False,  True, False,  True,\n",
       "       False,  True, False,  True, False,  True, False,  True, False,\n",
       "        True, False,  True, False,  True, False])"
      ]
     },
     "execution_count": 96,
     "metadata": {},
     "output_type": "execute_result"
    }
   ],
   "source": [
    "c%2==0"
   ]
  },
  {
   "cell_type": "code",
   "execution_count": 97,
   "id": "2165904f",
   "metadata": {},
   "outputs": [
    {
     "data": {
      "text/plain": [
       "array([ 4,  6,  8, 10, 12, 14, 16, 18, 20, 22, 24, 26])"
      ]
     },
     "execution_count": 97,
     "metadata": {},
     "output_type": "execute_result"
    }
   ],
   "source": [
    "c[c%2==0]"
   ]
  },
  {
   "cell_type": "code",
   "execution_count": 98,
   "id": "03e97356",
   "metadata": {},
   "outputs": [],
   "source": [
    "Y=np.linspace(1,16,16).reshape((4,4))"
   ]
  },
  {
   "cell_type": "code",
   "execution_count": 99,
   "id": "5ac11b2e",
   "metadata": {},
   "outputs": [
    {
     "data": {
      "text/plain": [
       "array([[ 1.,  2.,  3.,  4.],\n",
       "       [ 5.,  6.,  7.,  8.],\n",
       "       [ 9., 10., 11., 12.],\n",
       "       [13., 14., 15., 16.]])"
      ]
     },
     "execution_count": 99,
     "metadata": {},
     "output_type": "execute_result"
    }
   ],
   "source": [
    "Y"
   ]
  },
  {
   "cell_type": "code",
   "execution_count": 100,
   "id": "ddac72d7",
   "metadata": {},
   "outputs": [
    {
     "data": {
      "text/plain": [
       "array([ 0.,  5., 10., 15.])"
      ]
     },
     "execution_count": 100,
     "metadata": {},
     "output_type": "execute_result"
    }
   ],
   "source": [
    "np.diag(Y-1)"
   ]
  },
  {
   "cell_type": "code",
   "execution_count": 101,
   "id": "751c670a",
   "metadata": {},
   "outputs": [
    {
     "data": {
      "text/plain": [
       "array([ 1.,  6., 11., 16.])"
      ]
     },
     "execution_count": 101,
     "metadata": {},
     "output_type": "execute_result"
    }
   ],
   "source": [
    "np.diag(Y)"
   ]
  },
  {
   "cell_type": "code",
   "execution_count": 102,
   "id": "39674c48",
   "metadata": {},
   "outputs": [
    {
     "data": {
      "text/plain": [
       "array([[ 1.,  0.,  0.,  0.],\n",
       "       [ 0.,  6.,  0.,  0.],\n",
       "       [ 0.,  0., 11.,  0.],\n",
       "       [ 0.,  0.,  0., 16.]])"
      ]
     },
     "execution_count": 102,
     "metadata": {},
     "output_type": "execute_result"
    }
   ],
   "source": [
    "np.diag(np.diag(Y))"
   ]
  },
  {
   "cell_type": "code",
   "execution_count": 103,
   "id": "5c8220b7",
   "metadata": {},
   "outputs": [
    {
     "data": {
      "text/plain": [
       "array([[ 0.,  0.,  0.,  0.,  0.],\n",
       "       [ 1.,  0.,  0.,  0.,  0.],\n",
       "       [ 0.,  6.,  0.,  0.,  0.],\n",
       "       [ 0.,  0., 11.,  0.,  0.],\n",
       "       [ 0.,  0.,  0., 16.,  0.]])"
      ]
     },
     "execution_count": 103,
     "metadata": {},
     "output_type": "execute_result"
    }
   ],
   "source": [
    "np.diag(np.diag(Y),-1)"
   ]
  },
  {
   "cell_type": "code",
   "execution_count": 104,
   "id": "81673154",
   "metadata": {},
   "outputs": [],
   "source": [
    "M=np.linspace(1,6,6)"
   ]
  },
  {
   "cell_type": "code",
   "execution_count": 105,
   "id": "d07d142f",
   "metadata": {},
   "outputs": [
    {
     "data": {
      "text/plain": [
       "array([1., 2., 3., 4., 5., 6.])"
      ]
     },
     "execution_count": 105,
     "metadata": {},
     "output_type": "execute_result"
    }
   ],
   "source": [
    "M"
   ]
  },
  {
   "cell_type": "code",
   "execution_count": 106,
   "id": "bd60b16c",
   "metadata": {},
   "outputs": [],
   "source": [
    "M=-2*np.ones(16).reshape((4,4))"
   ]
  },
  {
   "cell_type": "code",
   "execution_count": 107,
   "id": "1cac83b7",
   "metadata": {},
   "outputs": [
    {
     "data": {
      "text/plain": [
       "array([[-2., -2., -2., -2.],\n",
       "       [-2., -2., -2., -2.],\n",
       "       [-2., -2., -2., -2.],\n",
       "       [-2., -2., -2., -2.]])"
      ]
     },
     "execution_count": 107,
     "metadata": {},
     "output_type": "execute_result"
    }
   ],
   "source": [
    "M"
   ]
  },
  {
   "cell_type": "code",
   "execution_count": 108,
   "id": "8321a4ca",
   "metadata": {},
   "outputs": [
    {
     "data": {
      "text/plain": [
       "array([[-2.,  1.,  0.,  0.,  0.,  0.],\n",
       "       [ 1., -2.,  1.,  0.,  0.,  0.],\n",
       "       [ 0.,  1., -2.,  1.,  0.,  0.],\n",
       "       [ 0.,  0.,  1., -2.,  1.,  0.],\n",
       "       [ 0.,  0.,  0.,  1., -2.,  1.],\n",
       "       [ 0.,  0.,  0.,  0.,  1., -2.]])"
      ]
     },
     "execution_count": 108,
     "metadata": {},
     "output_type": "execute_result"
    }
   ],
   "source": [
    "D=np.diag(np.ones(5),1)+np.diag(np.ones(5),-1)-2*np.eye(6)\n",
    "D"
   ]
  },
  {
   "cell_type": "code",
   "execution_count": 109,
   "id": "4871b391",
   "metadata": {},
   "outputs": [
    {
     "data": {
      "text/plain": [
       "array([[ 0.,  0.,  0.,  0.,  1., -2.],\n",
       "       [ 0.,  0.,  0.,  1., -2.,  1.],\n",
       "       [ 0.,  0.,  1., -2.,  1.,  0.],\n",
       "       [ 0.,  1., -2.,  1.,  0.,  0.],\n",
       "       [ 1., -2.,  1.,  0.,  0.,  0.],\n",
       "       [-2.,  1.,  0.,  0.,  0.,  0.]])"
      ]
     },
     "execution_count": 109,
     "metadata": {},
     "output_type": "execute_result"
    }
   ],
   "source": [
    "D[:,::-1]"
   ]
  },
  {
   "cell_type": "code",
   "execution_count": 110,
   "id": "29fa00cb",
   "metadata": {},
   "outputs": [
    {
     "data": {
      "text/plain": [
       "array([[ 0.,  0.,  0.,  0.,  1., -2.],\n",
       "       [ 0.,  0.,  0.,  1., -2.,  1.],\n",
       "       [ 0.,  0.,  1., -2.,  1.,  0.],\n",
       "       [ 0.,  1., -2.,  1.,  0.,  0.],\n",
       "       [ 1., -2.,  1.,  0.,  0.,  0.],\n",
       "       [-2.,  1.,  0.,  0.,  0.,  0.]])"
      ]
     },
     "execution_count": 110,
     "metadata": {},
     "output_type": "execute_result"
    }
   ],
   "source": [
    "np.fliplr(D)"
   ]
  },
  {
   "cell_type": "code",
   "execution_count": 111,
   "id": "9666d04b",
   "metadata": {},
   "outputs": [
    {
     "data": {
      "text/plain": [
       "array([[ 0.,  0.,  0.,  0.,  1., -2.],\n",
       "       [ 0.,  0.,  0.,  1., -2.,  1.],\n",
       "       [ 0.,  0.,  1., -2.,  1.,  0.],\n",
       "       [ 0.,  1., -2.,  1.,  0.,  0.],\n",
       "       [ 1., -2.,  1.,  0.,  0.,  0.],\n",
       "       [-2.,  1.,  0.,  0.,  0.,  0.]])"
      ]
     },
     "execution_count": 111,
     "metadata": {},
     "output_type": "execute_result"
    }
   ],
   "source": [
    "np.flipud(D)"
   ]
  },
  {
   "cell_type": "code",
   "execution_count": 112,
   "id": "1dc75af1",
   "metadata": {},
   "outputs": [],
   "source": [
    "t=-2*np.ones(16).reshape(4,4)"
   ]
  },
  {
   "cell_type": "code",
   "execution_count": 113,
   "id": "570f4e5d",
   "metadata": {},
   "outputs": [
    {
     "data": {
      "text/plain": [
       "array([[-2., -2., -2., -2.],\n",
       "       [-2., -2., -2., -2.],\n",
       "       [-2., -2., -2., -2.],\n",
       "       [-2., -2., -2., -2.]])"
      ]
     },
     "execution_count": 113,
     "metadata": {},
     "output_type": "execute_result"
    }
   ],
   "source": [
    "t"
   ]
  },
  {
   "cell_type": "code",
   "execution_count": 114,
   "id": "ee9e631a",
   "metadata": {},
   "outputs": [
    {
     "data": {
      "text/plain": [
       "array([[-2.,  0.,  0.,  0.],\n",
       "       [ 0., -2.,  0.,  0.],\n",
       "       [ 0.,  0., -2.,  0.],\n",
       "       [ 0.,  0.,  0., -2.]])"
      ]
     },
     "execution_count": 114,
     "metadata": {},
     "output_type": "execute_result"
    }
   ],
   "source": [
    "np.diag(np.diag(t))"
   ]
  },
  {
   "cell_type": "markdown",
   "id": "94e5d643",
   "metadata": {},
   "source": [
    "#addition of matrices"
   ]
  },
  {
   "cell_type": "code",
   "execution_count": 115,
   "id": "27dbfd99",
   "metadata": {},
   "outputs": [],
   "source": [
    "import numpy as np"
   ]
  },
  {
   "cell_type": "code",
   "execution_count": 116,
   "id": "1774b5a5",
   "metadata": {},
   "outputs": [],
   "source": [
    "A=np.linspace(1,12,12).reshape((4,3))\n",
    "B=np.array([1,2,1]).reshape((3,1))\n",
    "C=np.array([1,5,5,1])\n",
    "D=np.array([2,1,2,1]).reshape((4,1))\n",
    "E=np.array([10,20,30])\n",
    "F=np.array([2]).reshape((1,1))"
   ]
  },
  {
   "cell_type": "code",
   "execution_count": 117,
   "id": "315bf41e",
   "metadata": {},
   "outputs": [
    {
     "data": {
      "text/plain": [
       "array([[ 1.,  2.,  3.],\n",
       "       [ 4.,  5.,  6.],\n",
       "       [ 7.,  8.,  9.],\n",
       "       [10., 11., 12.]])"
      ]
     },
     "execution_count": 117,
     "metadata": {},
     "output_type": "execute_result"
    }
   ],
   "source": [
    "A"
   ]
  },
  {
   "cell_type": "code",
   "execution_count": 118,
   "id": "dc11bdfa",
   "metadata": {},
   "outputs": [
    {
     "data": {
      "text/plain": [
       "array([[ 2.,  3.,  4.],\n",
       "       [ 9., 10., 11.],\n",
       "       [12., 13., 14.],\n",
       "       [11., 12., 13.]])"
      ]
     },
     "execution_count": 118,
     "metadata": {},
     "output_type": "execute_result"
    }
   ],
   "source": [
    "A+C.reshape((4,1))"
   ]
  },
  {
   "cell_type": "code",
   "execution_count": 119,
   "id": "16189351",
   "metadata": {},
   "outputs": [
    {
     "data": {
      "text/plain": [
       "array([[11., 22., 33.],\n",
       "       [14., 25., 36.],\n",
       "       [17., 28., 39.],\n",
       "       [20., 31., 42.]])"
      ]
     },
     "execution_count": 119,
     "metadata": {},
     "output_type": "execute_result"
    }
   ],
   "source": [
    "A+E"
   ]
  },
  {
   "cell_type": "code",
   "execution_count": 120,
   "id": "47d9e2fd",
   "metadata": {},
   "outputs": [
    {
     "data": {
      "text/plain": [
       "array([[2, 2, 2],\n",
       "       [1, 1, 1],\n",
       "       [2, 2, 2],\n",
       "       [1, 1, 1]])"
      ]
     },
     "execution_count": 120,
     "metadata": {},
     "output_type": "execute_result"
    }
   ],
   "source": [
    "np.hstack([D,D,D])"
   ]
  },
  {
   "cell_type": "code",
   "execution_count": 121,
   "id": "c7e9f45f",
   "metadata": {},
   "outputs": [],
   "source": [
    "E2=E.reshape((1,3))"
   ]
  },
  {
   "cell_type": "code",
   "execution_count": 122,
   "id": "a5320306",
   "metadata": {},
   "outputs": [
    {
     "data": {
      "text/plain": [
       "array([[10, 20, 30]])"
      ]
     },
     "execution_count": 122,
     "metadata": {},
     "output_type": "execute_result"
    }
   ],
   "source": [
    "E2"
   ]
  },
  {
   "cell_type": "code",
   "execution_count": 123,
   "id": "c8bd8fcf",
   "metadata": {},
   "outputs": [
    {
     "data": {
      "text/plain": [
       "array([[10, 20, 30],\n",
       "       [10, 20, 30],\n",
       "       [10, 20, 30],\n",
       "       [10, 20, 30]])"
      ]
     },
     "execution_count": 123,
     "metadata": {},
     "output_type": "execute_result"
    }
   ],
   "source": [
    "np.vstack([E2,E2,E2,E2])"
   ]
  },
  {
   "cell_type": "code",
   "execution_count": 124,
   "id": "7fe6be97",
   "metadata": {},
   "outputs": [
    {
     "data": {
      "text/plain": [
       "array([[2],\n",
       "       [1],\n",
       "       [2],\n",
       "       [1]])"
      ]
     },
     "execution_count": 124,
     "metadata": {},
     "output_type": "execute_result"
    }
   ],
   "source": [
    "D"
   ]
  },
  {
   "cell_type": "code",
   "execution_count": 125,
   "id": "2f1e61d5",
   "metadata": {},
   "outputs": [
    {
     "data": {
      "text/plain": [
       "array([10, 20, 30])"
      ]
     },
     "execution_count": 125,
     "metadata": {},
     "output_type": "execute_result"
    }
   ],
   "source": [
    "E"
   ]
  },
  {
   "cell_type": "code",
   "execution_count": 126,
   "id": "9c10aa7e",
   "metadata": {},
   "outputs": [
    {
     "data": {
      "text/plain": [
       "[array([[10, 20, 30]]),\n",
       " array([[10, 20, 30]]),\n",
       " array([[10, 20, 30]]),\n",
       " array([[10, 20, 30]])]"
      ]
     },
     "execution_count": 126,
     "metadata": {},
     "output_type": "execute_result"
    }
   ],
   "source": [
    "[E.reshape((1,3))]*4"
   ]
  },
  {
   "cell_type": "code",
   "execution_count": 127,
   "id": "197b8516",
   "metadata": {},
   "outputs": [
    {
     "data": {
      "text/plain": [
       "array([[ 8.],\n",
       "       [20.],\n",
       "       [32.],\n",
       "       [44.]])"
      ]
     },
     "execution_count": 127,
     "metadata": {},
     "output_type": "execute_result"
    }
   ],
   "source": [
    "np.dot(A,B)"
   ]
  },
  {
   "cell_type": "code",
   "execution_count": 128,
   "id": "7d75d072",
   "metadata": {},
   "outputs": [
    {
     "data": {
      "text/plain": [
       "array([[ 1.,  2.,  3.],\n",
       "       [ 4.,  5.,  6.],\n",
       "       [ 7.,  8.,  9.],\n",
       "       [10., 11., 12.]])"
      ]
     },
     "execution_count": 128,
     "metadata": {},
     "output_type": "execute_result"
    }
   ],
   "source": [
    "A"
   ]
  },
  {
   "cell_type": "code",
   "execution_count": 129,
   "id": "5801a827",
   "metadata": {},
   "outputs": [
    {
     "data": {
      "text/plain": [
       "array([[1],\n",
       "       [2],\n",
       "       [1]])"
      ]
     },
     "execution_count": 129,
     "metadata": {},
     "output_type": "execute_result"
    }
   ],
   "source": [
    "B"
   ]
  },
  {
   "cell_type": "code",
   "execution_count": 130,
   "id": "1f18c7a3",
   "metadata": {},
   "outputs": [
    {
     "data": {
      "text/plain": [
       "array([[ 8.],\n",
       "       [20.],\n",
       "       [32.],\n",
       "       [44.]])"
      ]
     },
     "execution_count": 130,
     "metadata": {},
     "output_type": "execute_result"
    }
   ],
   "source": [
    "A@B"
   ]
  },
  {
   "cell_type": "code",
   "execution_count": 131,
   "id": "27a4af7b",
   "metadata": {},
   "outputs": [],
   "source": [
    "# python library"
   ]
  },
  {
   "cell_type": "code",
   "execution_count": 132,
   "id": "e2da739b",
   "metadata": {},
   "outputs": [
    {
     "name": "stdout",
     "output_type": "stream",
     "text": [
      "['LinAlgError', '__all__', '__builtins__', '__cached__', '__doc__', '__file__', '__loader__', '__name__', '__package__', '__path__', '__spec__', '_umath_linalg', 'cholesky', 'cond', 'det', 'eig', 'eigh', 'eigvals', 'eigvalsh', 'inv', 'linalg', 'lstsq', 'matrix_power', 'matrix_rank', 'multi_dot', 'norm', 'pinv', 'qr', 'slogdet', 'solve', 'svd', 'tensorinv', 'tensorsolve', 'test']\n"
     ]
    }
   ],
   "source": [
    "print(dir(np.linalg))"
   ]
  },
  {
   "cell_type": "code",
   "execution_count": 133,
   "id": "dd3a2811",
   "metadata": {},
   "outputs": [],
   "source": [
    "import matplotlib.pyplot as plt"
   ]
  },
  {
   "cell_type": "code",
   "execution_count": 134,
   "id": "4808d41b",
   "metadata": {},
   "outputs": [],
   "source": [
    "x=np.linspace(0,2*np.pi,101)\n",
    "y=np.sin(x)"
   ]
  },
  {
   "cell_type": "code",
   "execution_count": 135,
   "id": "6fa6c0e8",
   "metadata": {},
   "outputs": [
    {
     "data": {
      "text/plain": [
       "[<matplotlib.lines.Line2D at 0x7fe3e83e7150>]"
      ]
     },
     "execution_count": 135,
     "metadata": {},
     "output_type": "execute_result"
    },
    {
     "data": {
      "image/png": "[encoded data removed]",
      "text/plain": [
       "<Figure size 500x200 with 1 Axes>"
      ]
     },
     "metadata": {},
     "output_type": "display_data"
    }
   ],
   "source": [
    "plt.figure(figsize=(5,2))\n",
    "plt.plot(x,y,color='red')"
   ]
  },
  {
   "cell_type": "code",
   "execution_count": 136,
   "id": "5ba3215f",
   "metadata": {},
   "outputs": [
    {
     "data": {
      "text/plain": [
       "[<matplotlib.lines.Line2D at 0x7fe3e81f4810>]"
      ]
     },
     "execution_count": 136,
     "metadata": {},
     "output_type": "execute_result"
    },
    {
     "data": {
      "image/png": "[encoded data removed]",
      "text/plain": [
       "<Figure size 500x200 with 1 Axes>"
      ]
     },
     "metadata": {},
     "output_type": "display_data"
    }
   ],
   "source": [
    "plt.figure(figsize=(5,2))\n",
    "plt.plot(x,y,color='y')"
   ]
  },
  {
   "cell_type": "code",
   "execution_count": 137,
   "id": "e196e47d",
   "metadata": {},
   "outputs": [
    {
     "data": {
      "text/plain": [
       "[<matplotlib.lines.Line2D at 0x7fe3e00d3d10>]"
      ]
     },
     "execution_count": 137,
     "metadata": {},
     "output_type": "execute_result"
    },
    {
     "data": {
      "image/png": "[encoded data removed]",
      "text/plain": [
       "<Figure size 500x200 with 1 Axes>"
      ]
     },
     "metadata": {},
     "output_type": "display_data"
    }
   ],
   "source": [
    "plt.figure(figsize=(5,2))\n",
    "plt.plot(x,y,color='m')"
   ]
  },
  {
   "cell_type": "code",
   "execution_count": 138,
   "id": "5fad2922",
   "metadata": {},
   "outputs": [
    {
     "data": {
      "text/plain": [
       "[<matplotlib.lines.Line2D at 0x7fe3e015e1d0>]"
      ]
     },
     "execution_count": 138,
     "metadata": {},
     "output_type": "execute_result"
    },
    {
     "data": {
      "image/png": "[encoded data removed]",
      "text/plain": [
       "<Figure size 500x200 with 1 Axes>"
      ]
     },
     "metadata": {},
     "output_type": "display_data"
    }
   ],
   "source": [
    "plt.figure(figsize=(5,2))\n",
    "plt.plot(x,y,color='#00FF00')"
   ]
  },
  {
   "cell_type": "code",
   "execution_count": 139,
   "id": "01e8d126",
   "metadata": {},
   "outputs": [
    {
     "data": {
      "text/plain": [
       "[<matplotlib.lines.Line2D at 0x7fe3dffd7110>]"
      ]
     },
     "execution_count": 139,
     "metadata": {},
     "output_type": "execute_result"
    },
    {
     "data": {
      "image/png": "[encoded data removed]",
      "text/plain": [
       "<Figure size 500x200 with 1 Axes>"
      ]
     },
     "metadata": {},
     "output_type": "display_data"
    }
   ],
   "source": [
    "plt.figure(figsize=(5,2))\n",
    "plt.plot(x,y,color='#0000FF')"
   ]
  },
  {
   "cell_type": "code",
   "execution_count": 140,
   "id": "534a904e",
   "metadata": {},
   "outputs": [
    {
     "data": {
      "text/plain": [
       "[<matplotlib.lines.Line2D at 0x7fe3e01a5850>]"
      ]
     },
     "execution_count": 140,
     "metadata": {},
     "output_type": "execute_result"
    },
    {
     "data": {
      "image/png": "[encoded data removed]",
      "text/plain": [
       "<Figure size 500x200 with 1 Axes>"
      ]
     },
     "metadata": {},
     "output_type": "display_data"
    }
   ],
   "source": [
    "plt.figure(figsize=(5,2))\n",
    "plt.plot(x,y,color=(0.6,0.1,1.0),linewidth=2,linestyle=':')"
   ]
  },
  {
   "cell_type": "code",
   "execution_count": 141,
   "id": "c78e1fa8",
   "metadata": {},
   "outputs": [],
   "source": [
    "y=np.sin(5*x)"
   ]
  },
  {
   "cell_type": "code",
   "execution_count": 142,
   "id": "097d6153",
   "metadata": {},
   "outputs": [
    {
     "data": {
      "text/plain": [
       "[<matplotlib.lines.Line2D at 0x7fe3e00094d0>]"
      ]
     },
     "execution_count": 142,
     "metadata": {},
     "output_type": "execute_result"
    },
    {
     "data": {
      "image/png": "[encoded data removed]",
      "text/plain": [
       "<Figure size 500x200 with 1 Axes>"
      ]
     },
     "metadata": {},
     "output_type": "display_data"
    }
   ],
   "source": [
    "plt.figure(figsize=(5,2))\n",
    "plt.plot(x,y,color=(0.6,0.1,1.0),linewidth=2,linestyle='-')"
   ]
  },
  {
   "cell_type": "code",
   "execution_count": 143,
   "id": "575ac677",
   "metadata": {},
   "outputs": [
    {
     "data": {
      "text/plain": [
       "[<matplotlib.lines.Line2D at 0x7fe3e0035f50>]"
      ]
     },
     "execution_count": 143,
     "metadata": {},
     "output_type": "execute_result"
    },
    {
     "data": {
      "image/png": "[encoded data removed]",
      "text/plain": [
       "<Figure size 500x200 with 1 Axes>"
      ]
     },
     "metadata": {},
     "output_type": "display_data"
    }
   ],
   "source": [
    "y=np.sin(5*x)\n",
    "plt.figure(figsize=(5,2))\n",
    "plt.plot(x,y,color=(0.6,0.1,1.0),linewidth=2,linestyle='-',marker='v')"
   ]
  },
  {
   "cell_type": "code",
   "execution_count": 144,
   "id": "8fdedee9",
   "metadata": {},
   "outputs": [
    {
     "data": {
      "text/plain": [
       "[<matplotlib.lines.Line2D at 0x7fe3dfdb14d0>]"
      ]
     },
     "execution_count": 144,
     "metadata": {},
     "output_type": "execute_result"
    },
    {
     "data": {
      "image/png": "[encoded data removed]",
      "text/plain": [
       "<Figure size 500x200 with 1 Axes>"
      ]
     },
     "metadata": {},
     "output_type": "display_data"
    }
   ],
   "source": [
    "y=np.sin(5*x)\n",
    "plt.figure(figsize=(5,2))\n",
    "plt.plot(x,y,color=(0.6,0.1,1.0),linewidth=2,linestyle='-',marker='+',markersize=3,markerfacecolor='red',markeredgecolor='green')"
   ]
  },
  {
   "cell_type": "code",
   "execution_count": 145,
   "id": "220dfb48",
   "metadata": {},
   "outputs": [
    {
     "data": {
      "text/plain": [
       "[<matplotlib.lines.Line2D at 0x7fe3e81ef510>]"
      ]
     },
     "execution_count": 145,
     "metadata": {},
     "output_type": "execute_result"
    },
    {
     "data": {
      "image/png": "[encoded data removed]",
      "text/plain": [
       "<Figure size 500x200 with 1 Axes>"
      ]
     },
     "metadata": {},
     "output_type": "display_data"
    }
   ],
   "source": [
    "y=np.sin(5*x)\n",
    "plt.figure(figsize=(5,2))\n",
    "plt.plot(x,y,color='none',linewidth=2,linestyle='-',marker='+',markersize=3,markerfacecolor='red',markeredgecolor='green')"
   ]
  },
  {
   "cell_type": "code",
   "execution_count": 146,
   "id": "a9e8c73d",
   "metadata": {},
   "outputs": [],
   "source": [
    "import numpy as np\n",
    "import matplotlib.pyplot as plt"
   ]
  },
  {
   "cell_type": "code",
   "execution_count": 147,
   "id": "81f5869b",
   "metadata": {},
   "outputs": [],
   "source": [
    "A=np.array([[1,2,1,5],[2,3,4,12],[1,0,6,11],[2,3,6,17]])\n",
    "b=np.array([[8],[15],[7],[18]])"
   ]
  },
  {
   "cell_type": "code",
   "execution_count": 148,
   "id": "396d7454",
   "metadata": {},
   "outputs": [
    {
     "data": {
      "text/plain": [
       "array([[ 1,  2,  1,  5],\n",
       "       [ 2,  3,  4, 12],\n",
       "       [ 1,  0,  6, 11],\n",
       "       [ 2,  3,  6, 17]])"
      ]
     },
     "execution_count": 148,
     "metadata": {},
     "output_type": "execute_result"
    }
   ],
   "source": [
    "A"
   ]
  },
  {
   "cell_type": "code",
   "execution_count": 149,
   "id": "32f4e026",
   "metadata": {},
   "outputs": [
    {
     "data": {
      "text/plain": [
       "array([[ 8],\n",
       "       [15],\n",
       "       [ 7],\n",
       "       [18]])"
      ]
     },
     "execution_count": 149,
     "metadata": {},
     "output_type": "execute_result"
    }
   ],
   "source": [
    "b"
   ]
  },
  {
   "cell_type": "code",
   "execution_count": 150,
   "id": "695d0675",
   "metadata": {},
   "outputs": [
    {
     "data": {
      "text/plain": [
       "array([[ 1,  2,  1,  5,  8],\n",
       "       [ 2,  3,  4, 12, 15],\n",
       "       [ 1,  0,  6, 11,  7],\n",
       "       [ 2,  3,  6, 17, 18]])"
      ]
     },
     "execution_count": 150,
     "metadata": {},
     "output_type": "execute_result"
    }
   ],
   "source": [
    "A1=np.hstack([A,b])\n",
    "A1"
   ]
  },
  {
   "cell_type": "code",
   "execution_count": 151,
   "id": "b24216fb",
   "metadata": {},
   "outputs": [],
   "source": [
    "B1=A1.copy()"
   ]
  },
  {
   "cell_type": "code",
   "execution_count": 152,
   "id": "4517bec7",
   "metadata": {},
   "outputs": [],
   "source": [
    "for i in range(1,4):\n",
    "  A1[i,:]=A1[i,:]-(A1[i,0]/A1[0,0])*A1[0,:]"
   ]
  },
  {
   "cell_type": "code",
   "execution_count": 153,
   "id": "238c4cd5",
   "metadata": {},
   "outputs": [
    {
     "data": {
      "text/plain": [
       "array([[ 1,  2,  1,  5,  8],\n",
       "       [ 0, -1,  2,  2, -1],\n",
       "       [ 0, -2,  5,  6, -1],\n",
       "       [ 0, -1,  4,  7,  2]])"
      ]
     },
     "execution_count": 153,
     "metadata": {},
     "output_type": "execute_result"
    }
   ],
   "source": [
    "A1"
   ]
  },
  {
   "cell_type": "code",
   "execution_count": 154,
   "id": "842b2d4c",
   "metadata": {},
   "outputs": [],
   "source": [
    "for i in range(2,4):\n",
    "     A1[i,:]=A1[i,:]-(A1[i,1]/A1[1,1])*A1[1,:]"
   ]
  },
  {
   "cell_type": "code",
   "execution_count": 155,
   "id": "74d60ae3",
   "metadata": {},
   "outputs": [
    {
     "data": {
      "text/plain": [
       "array([[ 1,  2,  1,  5,  8],\n",
       "       [ 0, -1,  2,  2, -1],\n",
       "       [ 0,  0,  1,  2,  1],\n",
       "       [ 0,  0,  0,  1,  1]])"
      ]
     },
     "execution_count": 155,
     "metadata": {},
     "output_type": "execute_result"
    }
   ],
   "source": [
    "for i in range(3,4):\n",
    "     A1[i,:]=A1[i,:]-(A1[i,2]/A1[2,2])*A1[2,:]\n",
    "A1        "
   ]
  },
  {
   "cell_type": "code",
   "execution_count": 156,
   "id": "e37abc54",
   "metadata": {},
   "outputs": [],
   "source": [
    "U=A1[:4,:4]\n",
    "y=A1[:,4]"
   ]
  },
  {
   "cell_type": "code",
   "execution_count": 157,
   "id": "bf4a1252",
   "metadata": {},
   "outputs": [
    {
     "data": {
      "text/plain": [
       "array([[ 1,  2,  1,  5],\n",
       "       [ 0, -1,  2,  2],\n",
       "       [ 0,  0,  1,  2],\n",
       "       [ 0,  0,  0,  1]])"
      ]
     },
     "execution_count": 157,
     "metadata": {},
     "output_type": "execute_result"
    }
   ],
   "source": [
    "U"
   ]
  },
  {
   "cell_type": "code",
   "execution_count": 158,
   "id": "a1080189",
   "metadata": {},
   "outputs": [
    {
     "data": {
      "text/plain": [
       "array([ 8, -1,  1,  1])"
      ]
     },
     "execution_count": 158,
     "metadata": {},
     "output_type": "execute_result"
    }
   ],
   "source": [
    "y"
   ]
  },
  {
   "cell_type": "code",
   "execution_count": 159,
   "id": "eab4ccbb",
   "metadata": {},
   "outputs": [
    {
     "data": {
      "text/plain": [
       "array([0., 0., 0., 1.])"
      ]
     },
     "execution_count": 159,
     "metadata": {},
     "output_type": "execute_result"
    }
   ],
   "source": [
    "x=np.zeros(4)\n",
    "x[3]=y[3]/U[3,3]\n",
    "x"
   ]
  },
  {
   "cell_type": "code",
   "execution_count": 160,
   "id": "75735657",
   "metadata": {},
   "outputs": [
    {
     "data": {
      "text/plain": [
       "array([ 2.,  1., -1.,  1.])"
      ]
     },
     "execution_count": 160,
     "metadata": {},
     "output_type": "execute_result"
    }
   ],
   "source": [
    "for i in range(2,-1,-1):\n",
    "    x[i]=(y[i]-(U[i,i+1:4]*x[i+1:4]).sum())/U[i,i]\n",
    "x"
   ]
  },
  {
   "cell_type": "code",
   "execution_count": 161,
   "id": "c84374cc",
   "metadata": {},
   "outputs": [],
   "source": [
    "A=[[1,2,1,5],[2,3,4,12],[1,0,6,11],[2,3,6,17]]\n",
    "b=[[8],[15],[7],[18]]"
   ]
  },
  {
   "cell_type": "code",
   "execution_count": 162,
   "id": "60e82b0a",
   "metadata": {},
   "outputs": [],
   "source": [
    "def sysEqn(A,b):\n",
    "    A1=np.hstack([A,b])\n",
    "    n=A1.shape[0]  \n",
    "    for j in range(1,n):\n",
    "        for i in range(j,n):\n",
    "            A1[i,:]=A1[i,:]-(A1[i,j-1]/A1[j-1,j-1])*A1[j-1,:]\n",
    "    U=A1[:n,:n]\n",
    "    y=A1[:,n]  \n",
    "        \n",
    "    x=np.zeros(n)\n",
    "    x[n-1]=y[n-1]/U[n-1,n-1]\n",
    "    for i in range(n-2,-1,-1):\n",
    "            x[i]=(y[i]-(U[i,i+1:n]*x[i+1:n]).sum())/U[i,i]\n",
    "    return x"
   ]
  },
  {
   "cell_type": "code",
   "execution_count": 163,
   "id": "d88275d4",
   "metadata": {},
   "outputs": [
    {
     "data": {
      "text/plain": [
       "array([ 2.,  1., -1.,  1.])"
      ]
     },
     "execution_count": 163,
     "metadata": {},
     "output_type": "execute_result"
    }
   ],
   "source": [
    "sysEqn(A,b)"
   ]
  },
  {
   "cell_type": "code",
   "execution_count": 164,
   "id": "ed7c4b4b",
   "metadata": {},
   "outputs": [],
   "source": [
    "x=np.eye(4)"
   ]
  },
  {
   "cell_type": "code",
   "execution_count": 165,
   "id": "d34453c4",
   "metadata": {},
   "outputs": [],
   "source": [
    "Ainv=np.zeros((4,4))"
   ]
  },
  {
   "cell_type": "code",
   "execution_count": 174,
   "id": "51a96d89",
   "metadata": {},
   "outputs": [
    {
     "data": {
      "text/plain": [
       "array([[-24.,  15.,  -7.,   1.],\n",
       "       [ 20., -11.,   6.,  -2.],\n",
       "       [ 15.,  -8.,   5.,  -2.],\n",
       "       [ -6.,   3.,  -2.,   1.]])"
      ]
     },
     "execution_count": 174,
     "metadata": {},
     "output_type": "execute_result"
    }
   ],
   "source": [
    "for i in range(4):\n",
    "    Ainv[:,i]=sysEqn(A,x[:,i].reshape((4,1)))\n",
    "Ainv"
   ]
  },
  {
   "cell_type": "code",
   "execution_count": 175,
   "id": "ea10ce8b",
   "metadata": {},
   "outputs": [
    {
     "data": {
      "text/plain": [
       "array([[1., 0., 0., 0.],\n",
       "       [0., 1., 0., 0.],\n",
       "       [0., 0., 1., 0.],\n",
       "       [0., 0., 0., 1.]])"
      ]
     },
     "execution_count": 175,
     "metadata": {},
     "output_type": "execute_result"
    }
   ],
   "source": [
    "Ainv@A"
   ]
  },
  {
   "cell_type": "code",
   "execution_count": 181,
   "id": "0d207953",
   "metadata": {},
   "outputs": [],
   "source": [
    "import numpy as np\n",
    "def sysEqn(A,b):\n",
    "    A=np.array([[1,2,1,5],[2,3,4,12],[1,0,6,11],[2,3,6,17]])\n",
    "    b=np.array([[8],[15],[7],[18]])\n",
    "    x=np.linalg.solve(A,b)\n",
    "    return np.array(x)"
   ]
  },
  {
   "cell_type": "code",
   "execution_count": 182,
   "id": "38f1d978",
   "metadata": {},
   "outputs": [
    {
     "data": {
      "text/plain": [
       "array([[ 2.],\n",
       "       [ 1.],\n",
       "       [-1.],\n",
       "       [ 1.]])"
      ]
     },
     "execution_count": 182,
     "metadata": {},
     "output_type": "execute_result"
    }
   ],
   "source": [
    "sysEqn(A,b)"
   ]
  },
  {
   "cell_type": "code",
   "execution_count": null,
   "id": "9043324a",
   "metadata": {},
   "outputs": [],
   "source": []
  }
 ],
 "metadata": {
  "kernelspec": {
   "display_name": "Python 3 (ipykernel)",
   "language": "python",
   "name": "python3"
  },
  "language_info": {
   "codemirror_mode": {
    "name": "ipython",
    "version": 3
   },
   "file_extension": ".py",
   "mimetype": "text/x-python",
   "name": "python",
   "nbconvert_exporter": "python",
   "pygments_lexer": "ipython3",
   "version": "3.11.2"
  }
 },
 "nbformat": 4,
 "nbformat_minor": 5
}
