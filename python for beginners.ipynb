{
 "cells": [
  {
   "cell_type": "code",
   "execution_count": 1,
   "id": "3b78cee5",
   "metadata": {},
   "outputs": [
    {
     "name": "stdout",
     "output_type": "stream",
     "text": [
      "Fostine Kalembe\n",
      "o......\n",
      " ||||\n",
      "**********\n"
     ]
    }
   ],
   "source": [
    "print(\"Fostine Kalembe\")\n",
    "print('o......')\n",
    "print(' ||||')\n",
    "print('*' * 10)"
   ]
  },
  {
   "cell_type": "code",
   "execution_count": 2,
   "id": "2e4d7a72",
   "metadata": {},
   "outputs": [
    {
     "name": "stdout",
     "output_type": "stream",
     "text": [
      "price\n",
      "10\n"
     ]
    }
   ],
   "source": [
    "price=10\n",
    "print('price')\n",
    "print(price)"
   ]
  },
  {
   "cell_type": "code",
   "execution_count": 3,
   "id": "66c24ab6",
   "metadata": {},
   "outputs": [
    {
     "name": "stdout",
     "output_type": "stream",
     "text": [
      "50\n"
     ]
    }
   ],
   "source": [
    "price=10\n",
    "price=20\n",
    "price=50\n",
    "print(price)"
   ]
  },
  {
   "cell_type": "code",
   "execution_count": 4,
   "id": "660714e6",
   "metadata": {},
   "outputs": [
    {
     "name": "stdout",
     "output_type": "stream",
     "text": [
      "10\n"
     ]
    }
   ],
   "source": [
    "price=10\n",
    "rating=4.9\n",
    "name='Fostine'\n",
    "is_published=True\n",
    "print(price)"
   ]
  },
  {
   "cell_type": "code",
   "execution_count": 5,
   "id": "b995bf93",
   "metadata": {},
   "outputs": [
    {
     "name": "stdout",
     "output_type": "stream",
     "text": [
      "4.9\n"
     ]
    }
   ],
   "source": [
    "price=10\n",
    "rating=4.9\n",
    "name='Fostine'\n",
    "is_published=True\n",
    "print(rating)"
   ]
  },
  {
   "cell_type": "code",
   "execution_count": 6,
   "id": "dbb81156",
   "metadata": {},
   "outputs": [
    {
     "ename": "IndentationError",
     "evalue": "unexpected indent (1830540853.py, line 2)",
     "output_type": "error",
     "traceback": [
      "\u001b[0;36m  Cell \u001b[0;32mIn [6], line 2\u001b[0;36m\u001b[0m\n\u001b[0;31m    if age >15\u001b[0m\n\u001b[0m    ^\u001b[0m\n\u001b[0;31mIndentationError\u001b[0m\u001b[0;31m:\u001b[0m unexpected indent\n"
     ]
    }
   ],
   "source": [
    "Age= 20\n",
    "   if age >15\n",
    "    print(age)"
   ]
  },
  {
   "cell_type": "code",
   "execution_count": null,
   "id": "e2f30244",
   "metadata": {},
   "outputs": [],
   "source": [
    "name=input('what is your name? Fostine')\n",
    "favourite_color=input('what is your favourite color? Blue')\n",
    "print(name+' likes '+favourite_color)"
   ]
  },
  {
   "cell_type": "code",
   "execution_count": null,
   "id": "796881b9",
   "metadata": {},
   "outputs": [],
   "source": [
    "birth_year=1996\n",
    "birth_year=input('birth_year:')\n",
    "age=2024-int(birth_year)\n",
    "print(age)"
   ]
  },
  {
   "cell_type": "code",
   "execution_count": null,
   "id": "85a7a37c",
   "metadata": {},
   "outputs": [],
   "source": [
    "numbers=[1,2,3,4,5]\n",
    "doub"
   ]
  },
  {
   "cell_type": "code",
   "execution_count": 1,
   "id": "b5babbfb",
   "metadata": {},
   "outputs": [],
   "source": [
    "def sum_ap(a,d,n):\n",
    "    x=n/2*(2*a+(n-1)*d)\n",
    "    return x\n",
    "   "
   ]
  },
  {
   "cell_type": "code",
   "execution_count": 2,
   "id": "56961c83",
   "metadata": {},
   "outputs": [
    {
     "data": {
      "text/plain": [
       "3197.0"
      ]
     },
     "execution_count": 2,
     "metadata": {},
     "output_type": "execute_result"
    }
   ],
   "source": [
    "sum_ap(2,3,46)"
   ]
  },
  {
   "cell_type": "code",
   "execution_count": null,
   "id": "04066f87",
   "metadata": {},
   "outputs": [],
   "source": []
  }
 ],
 "metadata": {
  "kernelspec": {
   "display_name": "Python 3 (ipykernel)",
   "language": "python",
   "name": "python3"
  },
  "language_info": {
   "codemirror_mode": {
    "name": "ipython",
    "version": 3
   },
   "file_extension": ".py",
   "mimetype": "text/x-python",
   "name": "python",
   "nbconvert_exporter": "python",
   "pygments_lexer": "ipython3",
   "version": "3.11.2"
  }
 },
 "nbformat": 4,
 "nbformat_minor": 5
}
